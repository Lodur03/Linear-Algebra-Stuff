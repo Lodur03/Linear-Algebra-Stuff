{
  "nbformat": 4,
  "nbformat_minor": 0,
  "metadata": {
    "colab": {
      "name": "Lista1.ipynb",
      "version": "0.3.2",
      "provenance": []
    },
    "kernelspec": {
      "display_name": "Python 3",
      "language": "python",
      "name": "python3"
    }
  },
  "cells": [
    {
      "metadata": {
        "id": "z36ZtJ_QaV2j",
        "colab_type": "text"
      },
      "cell_type": "markdown",
      "source": [
        "## Lista de Exercícios de Álgebra Computacional (resolvidos)\n"
      ]
    },
    {
      "metadata": {
        "id": "j_VKZ_iGaV2k",
        "colab_type": "code",
        "colab": {}
      },
      "cell_type": "code",
      "source": [
        "import numpy as np\n",
        "from sympy import *\n",
        "init_printing(use_unicode=True)"
      ],
      "execution_count": 0,
      "outputs": []
    },
    {
      "metadata": {
        "id": "xvy-3I4QaV2n",
        "colab_type": "text"
      },
      "cell_type": "markdown",
      "source": [
        "### **Exercício 1 -** Resolva por eliminação de Gauss o sistemas de equações lineares:"
      ]
    },
    {
      "metadata": {
        "id": "77jWD8a-aV2o",
        "colab_type": "code",
        "colab": {}
      },
      "cell_type": "code",
      "source": [
        "# Simbolos\n",
        "x, y, z, w = symbols('x y z w')"
      ],
      "execution_count": 0,
      "outputs": []
    },
    {
      "metadata": {
        "id": "36Z7fJ-RaV2q",
        "colab_type": "text"
      },
      "cell_type": "markdown",
      "source": [
        "#### a) x + 2y = 1, x + 3y = 0"
      ]
    },
    {
      "metadata": {
        "id": "KteQlwaaaV2q",
        "colab_type": "code",
        "colab": {},
        "outputId": "7add9c6c-6d17-482f-810c-0ca17cddaceb"
      },
      "cell_type": "code",
      "source": [
        "a = np.matrix([[1, 2, 1],[1, 3, 0]])\n",
        "a[1] = a[1] - a[0]\n",
        "a[0] = a[0] - 2*a[1]\n",
        "print(a)"
      ],
      "execution_count": 0,
      "outputs": [
        {
          "output_type": "stream",
          "text": [
            "[[ 1  0  3]\n",
            " [ 0  1 -1]]\n"
          ],
          "name": "stdout"
        }
      ]
    },
    {
      "metadata": {
        "id": "k02jin7YaV2u",
        "colab_type": "text"
      },
      "cell_type": "markdown",
      "source": [
        "portanto, (x = 3, y = -1)"
      ]
    },
    {
      "metadata": {
        "id": "WBZT_s21aV2v",
        "colab_type": "text"
      },
      "cell_type": "markdown",
      "source": [
        "#### b)  2x + 3y = 1, 4x + 6y = 2"
      ]
    },
    {
      "metadata": {
        "id": "g7fR8kj9aV2w",
        "colab_type": "code",
        "colab": {},
        "outputId": "20881e78-5207-4a75-bad5-8e476afadd1a"
      },
      "cell_type": "code",
      "source": [
        "b = np.matrix([[2,3,1],[4,6,2]])\n",
        "b[1] = b[1] - 2*b[0]\n",
        "print(b)"
      ],
      "execution_count": 0,
      "outputs": [
        {
          "output_type": "stream",
          "text": [
            "[[2 3 1]\n",
            " [0 0 0]]\n"
          ],
          "name": "stdout"
        }
      ]
    },
    {
      "metadata": {
        "id": "b8wiX1MzaV2z",
        "colab_type": "text"
      },
      "cell_type": "markdown",
      "source": [
        "dessa forma, é um sistema possível e indeterminado. (x = y -3y/2 + 1/2, y= y)"
      ]
    },
    {
      "metadata": {
        "id": "prvcX1aPaV2z",
        "colab_type": "text"
      },
      "cell_type": "markdown",
      "source": [
        "#### c) 4x + 5y = 1, 12x + 15y = 0"
      ]
    },
    {
      "metadata": {
        "id": "P8ZHqcWdaV20",
        "colab_type": "code",
        "colab": {},
        "outputId": "fed3b956-2b58-4dc2-cda7-9a3d131b4ba6"
      },
      "cell_type": "code",
      "source": [
        "c = np.matrix([[4,5,1],[12,15,0]])\n",
        "c[1] = c[1] - 3*c[0]\n",
        "print(c)"
      ],
      "execution_count": 0,
      "outputs": [
        {
          "output_type": "stream",
          "text": [
            "[[ 4  5  1]\n",
            " [ 0  0 -3]]\n"
          ],
          "name": "stdout"
        }
      ]
    },
    {
      "metadata": {
        "id": "sIennshIaV23",
        "colab_type": "text"
      },
      "cell_type": "markdown",
      "source": [
        "desta forma, é um sistema impossível. (`0x + 0y != -3`)\n",
        "\n",
        "#### d) x + y = 1, 3x - y = 2, x - y = 0"
      ]
    },
    {
      "metadata": {
        "id": "0Djx0IIoaV23",
        "colab_type": "code",
        "colab": {},
        "outputId": "cbd15969-3390-4119-d8c7-1338754ab601"
      },
      "cell_type": "code",
      "source": [
        "d = np.matrix([[1,1,1],[3,-1,2],[1,-1,0]])\n",
        "d[1] = d[1] - 3*d[2]\n",
        "d[0] = d[0] - d[2]\n",
        "d[1] = d[1] - d[0]\n",
        "print(d)"
      ],
      "execution_count": 0,
      "outputs": [
        {
          "output_type": "stream",
          "text": [
            "[[ 0  2  1]\n",
            " [ 0  0  1]\n",
            " [ 1 -1  0]]\n"
          ],
          "name": "stdout"
        }
      ]
    },
    {
      "metadata": {
        "id": "pJdfebkxaV27",
        "colab_type": "text"
      },
      "cell_type": "markdown",
      "source": [
        "desta forma, é um sistema impossível. (`0x + 0y != 1`)\n",
        "\n",
        "#### e) 2x + 2y + 3z = 1, 1x + 2y + 1z = 0, 1x -1y + 1z = 0"
      ]
    },
    {
      "metadata": {
        "id": "ERHtORBraV28",
        "colab_type": "code",
        "colab": {},
        "outputId": "93250dd4-1993-4a17-9494-2dcab09a71bc"
      },
      "cell_type": "code",
      "source": [
        "e = np.matrix([[2,2,3,1],[1,2,1,0],[1,-1,1,0]])\n",
        "e[1] = (e[1] + 2*e[2])/3\n",
        "e[0] = e[0] + 2*e[2] - 4*e[1]\n",
        "e[1] = e[1] - e[0]\n",
        "e[2] = - (e[2] - e[0] - e[1])\n",
        "print(e)"
      ],
      "execution_count": 0,
      "outputs": [
        {
          "output_type": "stream",
          "text": [
            "[[ 0  0  1  1]\n",
            " [ 1  0  0 -1]\n",
            " [ 0  1  0  0]]\n"
          ],
          "name": "stdout"
        }
      ]
    },
    {
      "metadata": {
        "id": "Z3cVUmIiaV2_",
        "colab_type": "text"
      },
      "cell_type": "markdown",
      "source": [
        "desta forma, (x = -1, y = 0, z = 1)"
      ]
    },
    {
      "metadata": {
        "id": "Wd-jFmXzaV3B",
        "colab_type": "text"
      },
      "cell_type": "markdown",
      "source": [
        "#### f) x + 2y + 3z = 1, 4x + 7y + 7z = 3, 2x + 3y + z = 0"
      ]
    },
    {
      "metadata": {
        "id": "VZNQ9yvRaV3B",
        "colab_type": "code",
        "colab": {},
        "outputId": "34c5014d-4bc7-495a-cdde-5762a34584c3"
      },
      "cell_type": "code",
      "source": [
        "f = np.matrix([[1,2,3,1],[4,7,7,3],[2,3,1,0]])\n",
        "f[1] = f[1] - 2*f[2]\n",
        "f[2] = f[2] - 2*f[0] + f[1]\n",
        "print(f)"
      ],
      "execution_count": 0,
      "outputs": [
        {
          "output_type": "stream",
          "text": [
            "[[1 2 3 1]\n",
            " [0 1 5 3]\n",
            " [0 0 0 1]]\n"
          ],
          "name": "stdout"
        }
      ]
    },
    {
      "metadata": {
        "id": "FoGmyGm-aV3E",
        "colab_type": "text"
      },
      "cell_type": "markdown",
      "source": [
        "desta forma, sistema impossível (`0x + 0y + 0z != 1`)\n",
        "\n",
        "#### g) x + 2y + z = 0, 4x + 10y + 10z = 0, x + 3y + 4z =0"
      ]
    },
    {
      "metadata": {
        "id": "dVdGxq6TaV3E",
        "colab_type": "code",
        "colab": {},
        "outputId": "38b90299-f0f2-4b02-d618-2dc116ff1e84"
      },
      "cell_type": "code",
      "source": [
        "g = np.matrix([[1,2,1,0],[4,10,10,0],[1,3,4,0]])\n",
        "g[0] = g[0] - g[2]\n",
        "g[1] = g[1] - 4*g[2] - 2*g[0]\n",
        "g[2] = g[2] + 3*g[0]\n",
        "print(g)"
      ],
      "execution_count": 0,
      "outputs": [
        {
          "output_type": "stream",
          "text": [
            "[[ 0 -1 -3  0]\n",
            " [ 0  0  0  0]\n",
            " [ 1  0 -5  0]]\n"
          ],
          "name": "stdout"
        }
      ]
    },
    {
      "metadata": {
        "id": "p5TYD09JaV3I",
        "colab_type": "text"
      },
      "cell_type": "markdown",
      "source": [
        "desta forma, sistema possivel e indeterminado. (x = 5z, y = -3z, z)\n",
        "\n",
        "#### h) 2x + 3y + z = 0, x + y + z = 0"
      ]
    },
    {
      "metadata": {
        "id": "S5XplyCraV3J",
        "colab_type": "code",
        "colab": {},
        "outputId": "7d00f4c4-2aa6-49f4-97c6-af691203a27f"
      },
      "cell_type": "code",
      "source": [
        "h = np.matrix([[2,3,1,0],[1,1,1,0]])\n",
        "h[0] = h[0] - h[1]\n",
        "h[1] = h[1] - h[0]\n",
        "print(h)"
      ],
      "execution_count": 0,
      "outputs": [
        {
          "output_type": "stream",
          "text": [
            "[[ 1  2  0  0]\n",
            " [ 0 -1  1  0]]\n"
          ],
          "name": "stdout"
        }
      ]
    },
    {
      "metadata": {
        "id": "YHCgPmVFaV3M",
        "colab_type": "text"
      },
      "cell_type": "markdown",
      "source": [
        "desta forma, sistema possivel e indeterminado: (x = 2y, y= y, z = y)\n",
        "\n",
        "#### i) 2x1 + x2 + x3 + x4 = 1, 2x1 + x2 - x3 + x4 = 3 "
      ]
    },
    {
      "metadata": {
        "id": "Ibj8F_XBaV3N",
        "colab_type": "code",
        "colab": {},
        "outputId": "b6b47985-a328-49fd-8900-3866350a43b4"
      },
      "cell_type": "code",
      "source": [
        "i = np.matrix([[2,1,1,1,1],[2,1,-1,1,3]])\n",
        "i[0] = i[0] - i[1]\n",
        "print(i)"
      ],
      "execution_count": 0,
      "outputs": [
        {
          "output_type": "stream",
          "text": [
            "[[ 0  0  2  0 -2]\n",
            " [ 2  1 -1  1  3]]\n"
          ],
          "name": "stdout"
        }
      ]
    },
    {
      "metadata": {
        "id": "H3x3MKAsaV3P",
        "colab_type": "text"
      },
      "cell_type": "markdown",
      "source": [
        "desta forma, sistema possivel e indeterminado. (x1 = [2-x2-x4]/2, x2= x2, x3 = -1, x4 = x4)\n",
        "\n",
        "#### j) 2x + 2y + 2z + 3w = 3, x + y + z + w = 1, 3x + 3y + 3z + 2w = 2"
      ]
    },
    {
      "metadata": {
        "id": "cN83Ll_gaV3Q",
        "colab_type": "code",
        "colab": {},
        "outputId": "51d02f8d-1175-496f-9f56-99d3c46df162"
      },
      "cell_type": "code",
      "source": [
        "j = np.matrix([[2,2,2,3,3],[1,1,1,1,1],[3,3,3,2,2]])\n",
        "j[0] = j[0] - 2*j[1]\n",
        "j[2] = j[2] - 3*j[1] + j[0]\n",
        "j[1] = j[1] - j[2]\n",
        "print(j)"
      ],
      "execution_count": 0,
      "outputs": [
        {
          "output_type": "stream",
          "text": [
            "[[0 0 0 1 1]\n",
            " [1 1 1 1 1]\n",
            " [0 0 0 0 0]]\n"
          ],
          "name": "stdout"
        }
      ]
    },
    {
      "metadata": {
        "id": "vOJgF9cPaV3S",
        "colab_type": "text"
      },
      "cell_type": "markdown",
      "source": [
        "desta forma, sistema possivel e indeterminado. (x=-z-y, y=y, z=z, w=1)\n",
        "\n",
        "#### k) x + z + 2w = 0, 2x + 3z + 3w = 0, y + 2w = 2, x + 2z + w = 0"
      ]
    },
    {
      "metadata": {
        "id": "QZfkCfA6aV3S",
        "colab_type": "code",
        "colab": {},
        "outputId": "fe46be81-0b1a-48b7-dd56-b9682a87156e"
      },
      "cell_type": "code",
      "source": [
        "k = np.matrix([[1,0,1,2,0],[2,0,3,3,0],[0,1,0,2,2],[1,0,2,1,0]])\n",
        "k[0] = k[0] - k[3]\n",
        "k[1] = k[1] - 2*k[3]\n",
        "k[0] = k[0] - k[1]\n",
        "k[3] = k[3] + 2*k[1]\n",
        "print(k)"
      ],
      "execution_count": 0,
      "outputs": [
        {
          "output_type": "stream",
          "text": [
            "[[ 0  0  0  0  0]\n",
            " [ 0  0 -1  1  0]\n",
            " [ 0  1  0  2  2]\n",
            " [ 1  0  0  3  0]]\n"
          ],
          "name": "stdout"
        }
      ]
    },
    {
      "metadata": {
        "id": "2-9VvvmQaV3V",
        "colab_type": "text"
      },
      "cell_type": "markdown",
      "source": [
        "desta forma, sistema possivel e intederminado (x-3z=,y=2-2z,z=z,w=z)\n",
        "\n",
        "#### l) y1 + y3 + 2y4 = 0, y1 + 2y2 + y3 + y4 = 1, y2 + 2y4 = 8, y1 + 2y3 + y4 = 0"
      ]
    },
    {
      "metadata": {
        "id": "Ro5GZoqyaV3W",
        "colab_type": "code",
        "colab": {},
        "outputId": "21e0c4b6-2023-4e5a-df45-33a034b3b1dd"
      },
      "cell_type": "code",
      "source": [
        "l = np.matrix([[1,0,1,2,0],[1,2,1,1,1],[0,1,0,2,8],[1,0,2,1,0]])\n",
        "l[1] = (l[1] - l[0] - 2*l[2])/5\n",
        "l[3] = l[3] - l[0] - l[1]\n",
        "l[0] = l[0] - l[3] + 2*l[1]\n",
        "l[2] = l[2] + 2*l[1]\n",
        "l[1] *= -1\n",
        "print(l)"
      ],
      "execution_count": 0,
      "outputs": [
        {
          "output_type": "stream",
          "text": [
            "[[ 1  0  0  0 -9]\n",
            " [ 0  0  0  1  3]\n",
            " [ 0  1  0  0  2]\n",
            " [ 0  0  1  0  3]]\n"
          ],
          "name": "stdout"
        }
      ]
    },
    {
      "metadata": {
        "id": "-v9LzAXraV3c",
        "colab_type": "text"
      },
      "cell_type": "markdown",
      "source": [
        "desta forma, sistema possivel e determinado. (x = -9, y = 2, z = 3, w = 3)"
      ]
    },
    {
      "metadata": {
        "id": "wOqEQSaYaV3c",
        "colab_type": "text"
      },
      "cell_type": "markdown",
      "source": [
        "### **Exercício 2 -** Discuta em função dos parâmetros a e b, os seguintes sistemas de equações lineares:\n",
        "\n",
        "#### a) x + 4y + 3z = 10, 2x + 7y − 2z = 10, x + 5y + αz = β"
      ]
    },
    {
      "metadata": {
        "id": "GJqEmCndaV3d",
        "colab_type": "code",
        "colab": {},
        "outputId": "1c4b13b7-bc7d-4798-85a7-8f06eabd0e94"
      },
      "cell_type": "code",
      "source": [
        "x, y, z, a, b = symbols('x y z a b')\n",
        "linsolve([x + 4*y + 3*z - 10, 2*x + 7*y - 2*z - 10, x + 5*y + a*z - b ], (x, y, z))"
      ],
      "execution_count": 0,
      "outputs": [
        {
          "output_type": "execute_result",
          "data": {
            "image/png": "[encoded data removed]",
            "text/latex": "$$\\left\\{\\left ( \\frac{- 30 a + 29 b - 250}{a - 11}, \\quad \\frac{2 \\left(5 a - 4 b + 25\\right)}{a - 11}, \\quad \\frac{b - 20}{a - 11}\\right )\\right\\}$$",
            "text/plain": [
              "⎧⎛-30⋅a + 29⋅b - 250  2⋅(5⋅a - 4⋅b + 25)  b - 20⎞⎫\n",
              "⎨⎜──────────────────, ──────────────────, ──────⎟⎬\n",
              "⎩⎝      a - 11              a - 11        a - 11⎠⎭"
            ]
          },
          "metadata": {
            "tags": []
          },
          "execution_count": 15
        }
      ]
    },
    {
      "metadata": {
        "id": "69eeySBKaV3g",
        "colab_type": "text"
      },
      "cell_type": "markdown",
      "source": [
        "desta forma, se `a != 11`, o sistema é possível e determinado com a solução apresentada. \n",
        "\n",
        "Porém, se `a = 11` e `b = 20`, temos:"
      ]
    },
    {
      "metadata": {
        "id": "wpa_MKacaV3h",
        "colab_type": "code",
        "colab": {},
        "outputId": "2fd3ec39-513a-4aa1-f985-9fcfe4c6b322"
      },
      "cell_type": "code",
      "source": [
        "linsolve([x + 4*y + 3*z - 10, 2*x + 7*y - 2*z - 10, x + 5*y + 11*z - 20 ], (x, y, z))"
      ],
      "execution_count": 0,
      "outputs": [
        {
          "output_type": "execute_result",
          "data": {
            "image/png": "[encoded data removed]",
            "text/latex": "$$\\left\\{\\left ( 29 z - 30, \\quad - 8 z + 10, \\quad z\\right )\\right\\}$$",
            "text/plain": [
              "{(29⋅z - 30, -8⋅z + 10, z)}"
            ]
          },
          "metadata": {
            "tags": []
          },
          "execution_count": 16
        }
      ]
    },
    {
      "metadata": {
        "id": "5-DSoKwoaV3j",
        "colab_type": "text"
      },
      "cell_type": "markdown",
      "source": [
        "um sistema indeterminado (*z* livre). E se `a = 11` e `b != 20`: "
      ]
    },
    {
      "metadata": {
        "id": "NgSadFjxaV3j",
        "colab_type": "code",
        "colab": {},
        "outputId": "c0eb4f5f-4903-4fdc-8b2c-1abb94163d5d"
      },
      "cell_type": "code",
      "source": [
        "linsolve([x + 4*y + 3*z - 10, 2*x + 7*y - 2*z - 10, x + 5*y + 11*z - b ], (x, y, z))"
      ],
      "execution_count": 0,
      "outputs": [
        {
          "output_type": "execute_result",
          "data": {
            "image/png": "[encoded data removed]",
            "text/latex": "$$\\emptyset$$",
            "text/plain": [
              "∅"
            ]
          },
          "metadata": {
            "tags": []
          },
          "execution_count": 17
        }
      ]
    },
    {
      "metadata": {
        "id": "PlsAvv7QaV3l",
        "colab_type": "text"
      },
      "cell_type": "markdown",
      "source": [
        "neste caso o sistema seria impossível.\n",
        "\n",
        "#### b) 2x + y + z = −6β, αx + 3y + 2z = 2β, 2x + y + (α + 1) z = 4"
      ]
    },
    {
      "metadata": {
        "id": "vP52hfDNaV3m",
        "colab_type": "code",
        "colab": {},
        "outputId": "3bfb53af-a47f-4310-8618-8ce6772b960e"
      },
      "cell_type": "code",
      "source": [
        "linsolve([2*x + y + z + 6*b, a*x + 3*y + 2*z - 2*b, 2*x + y + (a+1)*z - 4 ], (x, y, z))"
      ],
      "execution_count": 0,
      "outputs": [
        {
          "output_type": "execute_result",
          "data": {
            "image/png": "[encoded data removed]",
            "text/latex": "$$\\left\\{\\left ( \\frac{2 \\left(10 a b + 3 b + 2\\right)}{a \\left(a - 6\\right)}, \\quad - \\frac{2 a b \\left(3 a + 2\\right) + 2 \\left(a - 4\\right) \\left(3 b + 2\\right)}{a \\left(a - 6\\right)}, \\quad \\frac{2 \\left(3 b + 2\\right)}{a}\\right )\\right\\}$$",
            "text/plain": [
              "⎧⎛2⋅(10⋅a⋅b + 3⋅b + 2)  -(2⋅a⋅b⋅(3⋅a + 2) + 2⋅(a - 4)⋅(3⋅b + 2))   2⋅(3⋅b + 2)\n",
              "⎨⎜────────────────────, ─────────────────────────────────────────, ───────────\n",
              "⎩⎝     a⋅(a - 6)                        a⋅(a - 6)                       a     \n",
              "\n",
              "⎞⎫\n",
              "⎟⎬\n",
              "⎠⎭"
            ]
          },
          "metadata": {
            "tags": []
          },
          "execution_count": 18
        }
      ]
    },
    {
      "metadata": {
        "id": "DE6nhX4laV3p",
        "colab_type": "text"
      },
      "cell_type": "markdown",
      "source": [
        "desta forma, se `a != 6` e `a != 0`, o sistema é *possível e determinado* com a solução apresentada.\n",
        "\n",
        "Porém, seguindo a mesma lógica utilizada anteriormente,\n",
        "- se `a = 0` e `b = -2/3`, o sistema é *indeterminado*:"
      ]
    },
    {
      "metadata": {
        "id": "cq_K6ltAaV3p",
        "colab_type": "code",
        "colab": {},
        "outputId": "4682beb0-4db3-46e9-96a3-4ef2e20348ba"
      },
      "cell_type": "code",
      "source": [
        "linsolve([2*x + y + z + 6*(-2/3), 0*x + 3*y + 2*z - 2*(-2/3), 2*x + y + (0+1)*z - 4 ], (x, y, z))"
      ],
      "execution_count": 0,
      "outputs": [
        {
          "output_type": "execute_result",
          "data": {
            "image/png": "[encoded data removed]",
            "text/latex": "$$\\left\\{\\left ( - 0.166666666666667 z + 2.22222222222222, \\quad - 0.666666666666667 z - 0.444444444444444, \\quad z\\right )\\right\\}$$",
            "text/plain": [
              "{(-0.166666666666667⋅z + 2.22222222222222, -0.666666666666667⋅z - 0.4444444444\n",
              "44444, z)}"
            ]
          },
          "metadata": {
            "tags": []
          },
          "execution_count": 19
        }
      ]
    },
    {
      "metadata": {
        "id": "uaFmP0n4aV3r",
        "colab_type": "text"
      },
      "cell_type": "markdown",
      "source": [
        "- se `a = 0` e `b != -2/3`, o sistema é *impossível*."
      ]
    },
    {
      "metadata": {
        "id": "xXq1O0UeaV3s",
        "colab_type": "code",
        "colab": {},
        "outputId": "8833f94f-3bea-4834-8779-73762122a5da"
      },
      "cell_type": "code",
      "source": [
        "linsolve([2*x + y + z + 6*(b), 0*x + 3*y + 2*z - 2*(b), 2*x + y + (0+1)*z - 4 ], (x, y, z))"
      ],
      "execution_count": 0,
      "outputs": [
        {
          "output_type": "execute_result",
          "data": {
            "image/png": "[encoded data removed]",
            "text/latex": "$$\\emptyset$$",
            "text/plain": [
              "∅"
            ]
          },
          "metadata": {
            "tags": []
          },
          "execution_count": 20
        }
      ]
    },
    {
      "metadata": {
        "id": "Vd_ovEzjaV3u",
        "colab_type": "text"
      },
      "cell_type": "markdown",
      "source": [
        "- se `a = 6` e `b = -2/63`, o sistema é *indeterminado*."
      ]
    },
    {
      "metadata": {
        "id": "hMVTUgE2aV3v",
        "colab_type": "code",
        "colab": {},
        "outputId": "c5979bff-aa8c-474b-8307-50416f6cb038"
      },
      "cell_type": "code",
      "source": [
        "linsolve([2*x + y + z + 6*(-2/63), 6*x + 3*y + 2*z - 2*(-2/63), 2*x + y + (6+1)*z - 4 ], (x, y, z))"
      ],
      "execution_count": 0,
      "outputs": [
        {
          "output_type": "execute_result",
          "data": {
            "image/png": "[encoded data removed]",
            "text/latex": "$$\\left\\{\\left ( - 0.5 y - 0.222222222222222, \\quad y, \\quad 0.634920634920635\\right )\\right\\}$$",
            "text/plain": [
              "{(-0.5⋅y - 0.222222222222222, y, 0.634920634920635)}"
            ]
          },
          "metadata": {
            "tags": []
          },
          "execution_count": 21
        }
      ]
    },
    {
      "metadata": {
        "id": "EQUWnfejaV34",
        "colab_type": "text"
      },
      "cell_type": "markdown",
      "source": [
        "- se `a = 6` e `b != -2/63`, o sistema é *impossível*."
      ]
    },
    {
      "metadata": {
        "id": "j9xIRwdSaV34",
        "colab_type": "code",
        "colab": {},
        "outputId": "d2a404af-2d19-4304-ddbd-26f3a2e2d138"
      },
      "cell_type": "code",
      "source": [
        "linsolve([2*x + y + z + 6*(b), 6*x + 3*y + 2*z - 2*(b), 2*x + y + (6+1)*z - 4 ], (x, y, z))"
      ],
      "execution_count": 0,
      "outputs": [
        {
          "output_type": "execute_result",
          "data": {
            "image/png": "[encoded data removed]",
            "text/latex": "$$\\emptyset$$",
            "text/plain": [
              "∅"
            ]
          },
          "metadata": {
            "tags": []
          },
          "execution_count": 22
        }
      ]
    },
    {
      "metadata": {
        "id": "TLpsTeSMaV38",
        "colab_type": "text"
      },
      "cell_type": "markdown",
      "source": [
        "### **Exercício 3 -** Considere o sistema de equações lineares\n",
        "\n",
        "- x + y + 3z = b1\n",
        "- 2x + 2y − z = b2\n",
        "- 4x + 4y + 5z = b3\n",
        "\n",
        "e calcule os vectores (b1, b2, b3) ∈ R3 para os quais o sistema é possível."
      ]
    },
    {
      "metadata": {
        "id": "F4RUz584aV39",
        "colab_type": "code",
        "colab": {},
        "outputId": "5f415ed6-505b-4241-a002-858726c54bd0"
      },
      "cell_type": "code",
      "source": [
        "x, y, z, b1, b2, b3 = symbols('x y z b1 b2 b3')\n",
        "linsolve([x + y + 3*z - 1, 2*x + 2*y - z - 1, 4*x + 4*y + 5*z - 3 ], (x, y, z))"
      ],
      "execution_count": 0,
      "outputs": [
        {
          "output_type": "execute_result",
          "data": {
            "image/png": "[encoded data removed]",
            "text/latex": "$$\\left\\{\\left ( - y + \\frac{4}{7}, \\quad y, \\quad \\frac{1}{7}\\right )\\right\\}$$",
            "text/plain": [
              "{(-y + 4/7, y, 1/7)}"
            ]
          },
          "metadata": {
            "tags": []
          },
          "execution_count": 23
        }
      ]
    },
    {
      "metadata": {
        "id": "mGMK8XPXaV3_",
        "colab_type": "code",
        "colab": {},
        "outputId": "80bffa52-61d9-4133-98f2-5954dfbed5d2"
      },
      "cell_type": "code",
      "source": [
        "ex3 = np.matrix([[1,1,3,b1],[2,2,-1,b2],[4,4,5,b3]])\n",
        "ex3[1] = ex3[1] -2*ex3[0]\n",
        "ex3[2] = ex3[2] -4*ex3[0]\n",
        "print(ex3)"
      ],
      "execution_count": 0,
      "outputs": [
        {
          "output_type": "stream",
          "text": [
            "[[1 1 3 b1]\n",
            " [0 0 -7 -2*b1 + b2]\n",
            " [0 0 -7 -4*b1 + b3]]\n"
          ],
          "name": "stdout"
        }
      ]
    },
    {
      "metadata": {
        "id": "lZXDuse2aV4B",
        "colab_type": "text"
      },
      "cell_type": "markdown",
      "source": [
        "portanto, -2b1 + b2 = -4b1 + b3 => **2b1 + b2 - b3 = 0**\n",
        "\n",
        "Para qualquer vetor (b1,b2,b3) que respeite \"2b1 + b2 + b3 = 0\", o sistema é possível."
      ]
    },
    {
      "metadata": {
        "id": "91BWfiepaV4C",
        "colab_type": "text"
      },
      "cell_type": "markdown",
      "source": [
        "### **Exercício 4 -** Determine um sistema de equações lineares cujo conjunto de soluções seja:\n",
        "\n",
        "#### a) S = {(1 + t, 1 − t) : t ∈ R};"
      ]
    },
    {
      "metadata": {
        "id": "GthDa_cfaV4C",
        "colab_type": "code",
        "colab": {},
        "outputId": "4017aecd-e38e-42b7-a5f3-5420ce80d6fb"
      },
      "cell_type": "code",
      "source": [
        "# para t=0: (1,1), para t=1: (2,0)\n",
        "p1 = (1,1)\n",
        "p2 = (2,0)\n",
        "coef_angular = (p1[1]-p2[1])/(p1[0]-p2[0])\n",
        "coef_lin = -coef_angular*p1[0] + p1[1]\n",
        "Eq(y -coef_angular*x, coef_lin)"
      ],
      "execution_count": 0,
      "outputs": [
        {
          "output_type": "execute_result",
          "data": {
            "image/png": "[encoded data removed]",
            "text/latex": "$$1.0 x + y = 2.0$$",
            "text/plain": [
              "1.0⋅x + y = 2.0"
            ]
          },
          "metadata": {
            "tags": []
          },
          "execution_count": 25
        }
      ]
    },
    {
      "metadata": {
        "id": "9k0JTpdAaV4E",
        "colab_type": "text"
      },
      "cell_type": "markdown",
      "source": [
        "#### b) S = {(t, 1 − 2t, 1) : t ∈ R};"
      ]
    },
    {
      "metadata": {
        "id": "1hTN1NnuaV4F",
        "colab_type": "code",
        "colab": {},
        "outputId": "59c17afc-83ae-4ecd-a961-0f408ebaea39"
      },
      "cell_type": "code",
      "source": [
        "# para t=0 (0,1,1), e para t=1: (1,-1, 1)\n",
        "# z = 1 (constante)\n",
        "p1 = (0,1)\n",
        "p2 = (1,-1)\n",
        "\n",
        "coef_angular = (p1[1]-p2[1])/(p1[0]-p2[0])\n",
        "coef_lin = -coef_angular*p1[0] + p1[1]\n",
        "Eq(y -coef_angular*x, coef_lin), Eq(z,1)"
      ],
      "execution_count": 0,
      "outputs": [
        {
          "output_type": "execute_result",
          "data": {
            "image/png": "[encoded data removed]",
            "text/latex": "$$\\left ( 2.0 x + y = 1.0, \\quad z = 1\\right )$$",
            "text/plain": [
              "(2.0⋅x + y = 1.0, z = 1)"
            ]
          },
          "metadata": {
            "tags": []
          },
          "execution_count": 26
        }
      ]
    },
    {
      "metadata": {
        "id": "SNfq-PO9aV4H",
        "colab_type": "text"
      },
      "cell_type": "markdown",
      "source": [
        "#### c) S = {(3t, 2t, t) : s, t ∈ R};"
      ]
    },
    {
      "metadata": {
        "id": "a1VS4MYXaV4I",
        "colab_type": "code",
        "colab": {},
        "outputId": "3379321f-8962-4a12-bb03-094854943749"
      },
      "cell_type": "code",
      "source": [
        "# para t=0 (0,0,0), para t=1: (3,2,1), para t=-1 (-3,-2,-1)\n",
        "# posso tratar como duas retas\n",
        "p1 = (0,0)\n",
        "p2 = (3,2)\n",
        "p3 = (-2,-1)\n",
        "\n",
        "#reta 1 (x,y)\n",
        "coef_angular = (p1[1]-p2[1])/(p1[0]-p2[0])\n",
        "coef_lin = -coef_angular*p1[0] + p1[1]\n",
        "a = Eq(y -coef_angular*x, coef_lin)\n",
        "\n",
        "# reta 2 (y,z)\n",
        "coef_angular = (p1[1]-p3[1])/(p1[0]-p3[0])\n",
        "coef_lin = -coef_angular*p1[0] + p1[1]\n",
        "a, Eq(z -coef_angular*y, coef_lin)\n"
      ],
      "execution_count": 0,
      "outputs": [
        {
          "output_type": "execute_result",
          "data": {
            "image/png": "[encoded data removed]",
            "text/latex": "$$\\left ( - 0.666666666666667 x + y = 0.0, \\quad - 0.5 y + z = 0.0\\right )$$",
            "text/plain": [
              "(-0.666666666666667⋅x + y = 0.0, -0.5⋅y + z = 0.0)"
            ]
          },
          "metadata": {
            "tags": []
          },
          "execution_count": 27
        }
      ]
    },
    {
      "metadata": {
        "id": "-_FbhWDtaV4K",
        "colab_type": "text"
      },
      "cell_type": "markdown",
      "source": [
        "#### d) S = {(3t, 2s, t − 1) : s, t ∈ R};"
      ]
    },
    {
      "metadata": {
        "id": "S3XyW8pfaV4L",
        "colab_type": "code",
        "colab": {},
        "outputId": "16512147-8f3f-4bf0-85be-c9663a68e013"
      },
      "cell_type": "code",
      "source": [
        "# para t=0 (0,0,-1), para t=1: (3,0,0)\n",
        "# como s apenas em y, nao importa (y*0 - pode ser qq valor)\n",
        "\n",
        "p1 = (0,-1)\n",
        "p2 = (3,0)\n",
        "\n",
        "coef_angular = (p1[1]-p2[1])/(p1[0]-p2[0])\n",
        "coef_lin = -coef_angular*p1[0] + p1[1]\n",
        "Eq(z -coef_angular*x + y*0, coef_lin)"
      ],
      "execution_count": 0,
      "outputs": [
        {
          "output_type": "execute_result",
          "data": {
            "image/png": "[encoded data removed]",
            "text/latex": "$$- 0.333333333333333 x + z = -1.0$$",
            "text/plain": [
              "-0.333333333333333⋅x + z = -1.0"
            ]
          },
          "metadata": {
            "tags": []
          },
          "execution_count": 28
        }
      ]
    },
    {
      "metadata": {
        "id": "6m4pXsA8aV4M",
        "colab_type": "text"
      },
      "cell_type": "markdown",
      "source": [
        "#### e) S = {(1 − t, 2s, t) : s, t ∈ R};"
      ]
    },
    {
      "metadata": {
        "id": "WRZH1_pAaV4M",
        "colab_type": "code",
        "colab": {},
        "outputId": "18b910b9-fcf3-475e-acfc-45104eaaf69c"
      },
      "cell_type": "code",
      "source": [
        "# para t=0 (1,0,0), para t=1: (0,0,1)\n",
        "# como s apenas em y, nao importa (y*0 - pode ser qq valor)\n",
        "\n",
        "p1 = (1,0)\n",
        "p2 = (0,1)\n",
        "\n",
        "coef_angular = (p1[1]-p2[1])/(p1[0]-p2[0])\n",
        "coef_lin = -coef_angular*p1[0] + p1[1]\n",
        "Eq(z -coef_angular*x + y*0, coef_lin)"
      ],
      "execution_count": 0,
      "outputs": [
        {
          "output_type": "execute_result",
          "data": {
            "image/png": "[encoded data removed]",
            "text/latex": "$$1.0 x + z = 1.0$$",
            "text/plain": [
              "1.0⋅x + z = 1.0"
            ]
          },
          "metadata": {
            "tags": []
          },
          "execution_count": 29
        }
      ]
    },
    {
      "metadata": {
        "id": "1ogYsf7laV4Q",
        "colab_type": "text"
      },
      "cell_type": "markdown",
      "source": [
        "### **Exercício 5 -** Sempre que possível calcule:\n",
        "\n",
        "#### a) 2[[1,0],[2,1]] + 3[[0,2],[6,1]]"
      ]
    },
    {
      "metadata": {
        "id": "iYtMQUdLaV4Q",
        "colab_type": "code",
        "colab": {},
        "outputId": "d2798b55-a2a1-4bf3-ba21-0ea415a9dd6e"
      },
      "cell_type": "code",
      "source": [
        "A = Matrix([[1,0],[2,1]])\n",
        "B = Matrix([[0,2],[6,1]])\n",
        "2*A + 3*B"
      ],
      "execution_count": 0,
      "outputs": [
        {
          "output_type": "execute_result",
          "data": {
            "text/latex": "$$\\left[\\begin{matrix}2 & 6\\\\22 & 5\\end{matrix}\\right]$$",
            "text/plain": [
              "⎡2   6⎤\n",
              "⎢     ⎥\n",
              "⎣22  5⎦"
            ]
          },
          "metadata": {
            "tags": []
          },
          "execution_count": 30
        }
      ]
    },
    {
      "metadata": {
        "id": "Ah8lP1EJaV4T",
        "colab_type": "text"
      },
      "cell_type": "markdown",
      "source": [
        "#### b) [1,2] + [[0],[2]]"
      ]
    },
    {
      "metadata": {
        "id": "741kzipIaV4U",
        "colab_type": "code",
        "colab": {},
        "outputId": "e3ac89ae-6fc6-4540-86f2-3b30859ed6c2"
      },
      "cell_type": "code",
      "source": [
        "A = Matrix([[1,2]])\n",
        "B = Matrix([[0],[2]])\n",
        "A+B"
      ],
      "execution_count": 0,
      "outputs": [
        {
          "output_type": "error",
          "ename": "ShapeError",
          "evalue": "Matrix size mismatch: (1, 2) + (2, 1)",
          "traceback": [
            "\u001b[1;31m---------------------------------------------------------------------------\u001b[0m",
            "\u001b[1;31mShapeError\u001b[0m                                Traceback (most recent call last)",
            "\u001b[1;32m<ipython-input-31-d80c44475b91>\u001b[0m in \u001b[0;36m<module>\u001b[1;34m()\u001b[0m\n\u001b[0;32m      1\u001b[0m \u001b[0mA\u001b[0m \u001b[1;33m=\u001b[0m \u001b[0mMatrix\u001b[0m\u001b[1;33m(\u001b[0m\u001b[1;33m[\u001b[0m\u001b[1;33m[\u001b[0m\u001b[1;36m1\u001b[0m\u001b[1;33m,\u001b[0m\u001b[1;36m2\u001b[0m\u001b[1;33m]\u001b[0m\u001b[1;33m]\u001b[0m\u001b[1;33m)\u001b[0m\u001b[1;33m\u001b[0m\u001b[0m\n\u001b[0;32m      2\u001b[0m \u001b[0mB\u001b[0m \u001b[1;33m=\u001b[0m \u001b[0mMatrix\u001b[0m\u001b[1;33m(\u001b[0m\u001b[1;33m[\u001b[0m\u001b[1;33m[\u001b[0m\u001b[1;36m0\u001b[0m\u001b[1;33m]\u001b[0m\u001b[1;33m,\u001b[0m\u001b[1;33m[\u001b[0m\u001b[1;36m2\u001b[0m\u001b[1;33m]\u001b[0m\u001b[1;33m]\u001b[0m\u001b[1;33m)\u001b[0m\u001b[1;33m\u001b[0m\u001b[0m\n\u001b[1;32m----> 3\u001b[1;33m \u001b[0mA\u001b[0m\u001b[1;33m+\u001b[0m\u001b[0mB\u001b[0m\u001b[1;33m\u001b[0m\u001b[0m\n\u001b[0m",
            "\u001b[1;32m~\\Miniconda3\\lib\\site-packages\\sympy\\core\\decorators.py\u001b[0m in \u001b[0;36mbinary_op_wrapper\u001b[1;34m(self, other)\u001b[0m\n\u001b[0;32m    130\u001b[0m                     \u001b[1;32melse\u001b[0m\u001b[1;33m:\u001b[0m\u001b[1;33m\u001b[0m\u001b[0m\n\u001b[0;32m    131\u001b[0m                         \u001b[1;32mreturn\u001b[0m \u001b[0mf\u001b[0m\u001b[1;33m(\u001b[0m\u001b[0mself\u001b[0m\u001b[1;33m)\u001b[0m\u001b[1;33m\u001b[0m\u001b[0m\n\u001b[1;32m--> 132\u001b[1;33m             \u001b[1;32mreturn\u001b[0m \u001b[0mfunc\u001b[0m\u001b[1;33m(\u001b[0m\u001b[0mself\u001b[0m\u001b[1;33m,\u001b[0m \u001b[0mother\u001b[0m\u001b[1;33m)\u001b[0m\u001b[1;33m\u001b[0m\u001b[0m\n\u001b[0m\u001b[0;32m    133\u001b[0m         \u001b[1;32mreturn\u001b[0m \u001b[0mbinary_op_wrapper\u001b[0m\u001b[1;33m\u001b[0m\u001b[0m\n\u001b[0;32m    134\u001b[0m     \u001b[1;32mreturn\u001b[0m \u001b[0mpriority_decorator\u001b[0m\u001b[1;33m\u001b[0m\u001b[0m\n",
            "\u001b[1;32m~\\Miniconda3\\lib\\site-packages\\sympy\\matrices\\common.py\u001b[0m in \u001b[0;36m__add__\u001b[1;34m(self, other)\u001b[0m\n\u001b[0;32m   1956\u001b[0m             \u001b[1;32mif\u001b[0m \u001b[0mself\u001b[0m\u001b[1;33m.\u001b[0m\u001b[0mshape\u001b[0m \u001b[1;33m!=\u001b[0m \u001b[0mother\u001b[0m\u001b[1;33m.\u001b[0m\u001b[0mshape\u001b[0m\u001b[1;33m:\u001b[0m\u001b[1;33m\u001b[0m\u001b[0m\n\u001b[0;32m   1957\u001b[0m                 raise ShapeError(\"Matrix size mismatch: %s + %s\" % (\n\u001b[1;32m-> 1958\u001b[1;33m                     self.shape, other.shape))\n\u001b[0m\u001b[0;32m   1959\u001b[0m \u001b[1;33m\u001b[0m\u001b[0m\n\u001b[0;32m   1960\u001b[0m         \u001b[1;31m# honest sympy matrices defer to their class's routine\u001b[0m\u001b[1;33m\u001b[0m\u001b[1;33m\u001b[0m\u001b[0m\n",
            "\u001b[1;31mShapeError\u001b[0m: Matrix size mismatch: (1, 2) + (2, 1)"
          ]
        }
      ]
    },
    {
      "metadata": {
        "id": "ppa5HhxmaV4X",
        "colab_type": "text"
      },
      "cell_type": "markdown",
      "source": [
        "Desta forma, não é possível, pois para a operação de adição suas dimensões devem ser iguais."
      ]
    },
    {
      "metadata": {
        "id": "7ge7LK_oaV4X",
        "colab_type": "text"
      },
      "cell_type": "markdown",
      "source": [
        "#### c) [[1,0],[0,1]] [[2],[3],[1]]"
      ]
    },
    {
      "metadata": {
        "id": "cH7weUOhaV4Y",
        "colab_type": "code",
        "colab": {},
        "outputId": "597b7d24-2b72-4c29-9f6b-b15be356f4f4"
      },
      "cell_type": "code",
      "source": [
        "A=Matrix([[1,0],[0,1]])\n",
        "B=Matrix([[2],[3],[1]])\n",
        "A*B"
      ],
      "execution_count": 0,
      "outputs": [
        {
          "output_type": "error",
          "ename": "ShapeError",
          "evalue": "Matrix size mismatch: (2, 2) * (3, 1).",
          "traceback": [
            "\u001b[1;31m---------------------------------------------------------------------------\u001b[0m",
            "\u001b[1;31mShapeError\u001b[0m                                Traceback (most recent call last)",
            "\u001b[1;32m<ipython-input-32-a0b3fcdb156f>\u001b[0m in \u001b[0;36m<module>\u001b[1;34m()\u001b[0m\n\u001b[0;32m      1\u001b[0m \u001b[0mA\u001b[0m\u001b[1;33m=\u001b[0m\u001b[0mMatrix\u001b[0m\u001b[1;33m(\u001b[0m\u001b[1;33m[\u001b[0m\u001b[1;33m[\u001b[0m\u001b[1;36m1\u001b[0m\u001b[1;33m,\u001b[0m\u001b[1;36m0\u001b[0m\u001b[1;33m]\u001b[0m\u001b[1;33m,\u001b[0m\u001b[1;33m[\u001b[0m\u001b[1;36m0\u001b[0m\u001b[1;33m,\u001b[0m\u001b[1;36m1\u001b[0m\u001b[1;33m]\u001b[0m\u001b[1;33m]\u001b[0m\u001b[1;33m)\u001b[0m\u001b[1;33m\u001b[0m\u001b[0m\n\u001b[0;32m      2\u001b[0m \u001b[0mB\u001b[0m\u001b[1;33m=\u001b[0m\u001b[0mMatrix\u001b[0m\u001b[1;33m(\u001b[0m\u001b[1;33m[\u001b[0m\u001b[1;33m[\u001b[0m\u001b[1;36m2\u001b[0m\u001b[1;33m]\u001b[0m\u001b[1;33m,\u001b[0m\u001b[1;33m[\u001b[0m\u001b[1;36m3\u001b[0m\u001b[1;33m]\u001b[0m\u001b[1;33m,\u001b[0m\u001b[1;33m[\u001b[0m\u001b[1;36m1\u001b[0m\u001b[1;33m]\u001b[0m\u001b[1;33m]\u001b[0m\u001b[1;33m)\u001b[0m\u001b[1;33m\u001b[0m\u001b[0m\n\u001b[1;32m----> 3\u001b[1;33m \u001b[0mA\u001b[0m\u001b[1;33m*\u001b[0m\u001b[0mB\u001b[0m\u001b[1;33m\u001b[0m\u001b[0m\n\u001b[0m",
            "\u001b[1;32m~\\Miniconda3\\lib\\site-packages\\sympy\\core\\decorators.py\u001b[0m in \u001b[0;36mbinary_op_wrapper\u001b[1;34m(self, other)\u001b[0m\n\u001b[0;32m    130\u001b[0m                     \u001b[1;32melse\u001b[0m\u001b[1;33m:\u001b[0m\u001b[1;33m\u001b[0m\u001b[0m\n\u001b[0;32m    131\u001b[0m                         \u001b[1;32mreturn\u001b[0m \u001b[0mf\u001b[0m\u001b[1;33m(\u001b[0m\u001b[0mself\u001b[0m\u001b[1;33m)\u001b[0m\u001b[1;33m\u001b[0m\u001b[0m\n\u001b[1;32m--> 132\u001b[1;33m             \u001b[1;32mreturn\u001b[0m \u001b[0mfunc\u001b[0m\u001b[1;33m(\u001b[0m\u001b[0mself\u001b[0m\u001b[1;33m,\u001b[0m \u001b[0mother\u001b[0m\u001b[1;33m)\u001b[0m\u001b[1;33m\u001b[0m\u001b[0m\n\u001b[0m\u001b[0;32m    133\u001b[0m         \u001b[1;32mreturn\u001b[0m \u001b[0mbinary_op_wrapper\u001b[0m\u001b[1;33m\u001b[0m\u001b[0m\n\u001b[0;32m    134\u001b[0m     \u001b[1;32mreturn\u001b[0m \u001b[0mpriority_decorator\u001b[0m\u001b[1;33m\u001b[0m\u001b[0m\n",
            "\u001b[1;32m~\\Miniconda3\\lib\\site-packages\\sympy\\matrices\\common.py\u001b[0m in \u001b[0;36m__mul__\u001b[1;34m(self, other)\u001b[0m\n\u001b[0;32m   2017\u001b[0m             \u001b[1;32mif\u001b[0m \u001b[0mself\u001b[0m\u001b[1;33m.\u001b[0m\u001b[0mshape\u001b[0m\u001b[1;33m[\u001b[0m\u001b[1;36m1\u001b[0m\u001b[1;33m]\u001b[0m \u001b[1;33m!=\u001b[0m \u001b[0mother\u001b[0m\u001b[1;33m.\u001b[0m\u001b[0mshape\u001b[0m\u001b[1;33m[\u001b[0m\u001b[1;36m0\u001b[0m\u001b[1;33m]\u001b[0m\u001b[1;33m:\u001b[0m\u001b[1;33m\u001b[0m\u001b[0m\n\u001b[0;32m   2018\u001b[0m                 raise ShapeError(\"Matrix size mismatch: %s * %s.\" % (\n\u001b[1;32m-> 2019\u001b[1;33m                     self.shape, other.shape))\n\u001b[0m\u001b[0;32m   2020\u001b[0m \u001b[1;33m\u001b[0m\u001b[0m\n\u001b[0;32m   2021\u001b[0m         \u001b[1;31m# honest sympy matrices defer to their class's routine\u001b[0m\u001b[1;33m\u001b[0m\u001b[1;33m\u001b[0m\u001b[0m\n",
            "\u001b[1;31mShapeError\u001b[0m: Matrix size mismatch: (2, 2) * (3, 1)."
          ]
        }
      ]
    },
    {
      "metadata": {
        "id": "KYd8PPzQaV4b",
        "colab_type": "text"
      },
      "cell_type": "markdown",
      "source": [
        "Não é possível, pois para multiplicação linhas do primeiro operando deve ser igual a coluna do segundo operando."
      ]
    },
    {
      "metadata": {
        "id": "hX3ZHYujaV4b",
        "colab_type": "text"
      },
      "cell_type": "markdown",
      "source": [
        "#### d) [[1,0,2]] [[2],[3],[1]]"
      ]
    },
    {
      "metadata": {
        "id": "E3LZ67uraV4c",
        "colab_type": "code",
        "colab": {},
        "outputId": "e215eab5-f964-4d13-9671-98c1211ffac8"
      },
      "cell_type": "code",
      "source": [
        "A=Matrix([[1,0,2]])\n",
        "B=Matrix([[2],[3],[1]])\n",
        "A*B"
      ],
      "execution_count": 0,
      "outputs": [
        {
          "output_type": "execute_result",
          "data": {
            "text/latex": "$$\\left[\\begin{matrix}4\\end{matrix}\\right]$$",
            "text/plain": [
              "[4]"
            ]
          },
          "metadata": {
            "tags": []
          },
          "execution_count": 33
        }
      ]
    },
    {
      "metadata": {
        "id": "AZtchQeSaV4e",
        "colab_type": "text"
      },
      "cell_type": "markdown",
      "source": [
        "#### e) [[1,0],[0,0]] [[0,1],[1,0]]"
      ]
    },
    {
      "metadata": {
        "id": "lJUuPtx8aV4g",
        "colab_type": "code",
        "colab": {},
        "outputId": "75e15988-7b85-4046-86a7-328caa200de4"
      },
      "cell_type": "code",
      "source": [
        "A=Matrix([[1,0],[0,0]])\n",
        "B=Matrix([[0,1],[1,0]])\n",
        "A*B"
      ],
      "execution_count": 0,
      "outputs": [
        {
          "output_type": "execute_result",
          "data": {
            "text/latex": "$$\\left[\\begin{matrix}0 & 1\\\\0 & 0\\end{matrix}\\right]$$",
            "text/plain": [
              "⎡0  1⎤\n",
              "⎢    ⎥\n",
              "⎣0  0⎦"
            ]
          },
          "metadata": {
            "tags": []
          },
          "execution_count": 34
        }
      ]
    },
    {
      "metadata": {
        "id": "ibX9mIL2aV4i",
        "colab_type": "text"
      },
      "cell_type": "markdown",
      "source": [
        "#### f) [[0,1],[1,0]] [[1,0],[0,0]]"
      ]
    },
    {
      "metadata": {
        "id": "T2zNBVNPaV4j",
        "colab_type": "code",
        "colab": {},
        "outputId": "248863da-38be-4710-ff20-bb037a9972b3"
      },
      "cell_type": "code",
      "source": [
        "A=Matrix([[0,1],[1,0]])\n",
        "B=Matrix([[1,0],[0,0]])\n",
        "A*B"
      ],
      "execution_count": 0,
      "outputs": [
        {
          "output_type": "execute_result",
          "data": {
            "text/latex": "$$\\left[\\begin{matrix}0 & 0\\\\1 & 0\\end{matrix}\\right]$$",
            "text/plain": [
              "⎡0  0⎤\n",
              "⎢    ⎥\n",
              "⎣1  0⎦"
            ]
          },
          "metadata": {
            "tags": []
          },
          "execution_count": 35
        }
      ]
    },
    {
      "metadata": {
        "id": "4nrorjzVaV4l",
        "colab_type": "text"
      },
      "cell_type": "markdown",
      "source": [
        "#### g) [[1,2],[3,1],[0,3]] [[1,0,1],[2,1,0]]"
      ]
    },
    {
      "metadata": {
        "id": "lb0gwknwaV4m",
        "colab_type": "code",
        "colab": {},
        "outputId": "d3e13982-fa40-45a3-a100-d21dedb1a32b"
      },
      "cell_type": "code",
      "source": [
        "A = Matrix([[1,2],[3,1],[0,3]])\n",
        "B = Matrix([[1,0,1],[2,1,0]])\n",
        "A*B"
      ],
      "execution_count": 0,
      "outputs": [
        {
          "output_type": "execute_result",
          "data": {
            "text/latex": "$$\\left[\\begin{matrix}5 & 2 & 1\\\\5 & 1 & 3\\\\6 & 3 & 0\\end{matrix}\\right]$$",
            "text/plain": [
              "⎡5  2  1⎤\n",
              "⎢       ⎥\n",
              "⎢5  1  3⎥\n",
              "⎢       ⎥\n",
              "⎣6  3  0⎦"
            ]
          },
          "metadata": {
            "tags": []
          },
          "execution_count": 36
        }
      ]
    },
    {
      "metadata": {
        "id": "mfRm71oVaV4o",
        "colab_type": "text"
      },
      "cell_type": "markdown",
      "source": [
        "#### h) [[1,2,0], [3,1,1]] [[1,0,1],[0,1,0],[1,0,1]]"
      ]
    },
    {
      "metadata": {
        "id": "0qFhBlVOaV4o",
        "colab_type": "code",
        "colab": {},
        "outputId": "7deef70c-d7a6-4832-a7fe-685851e28135"
      },
      "cell_type": "code",
      "source": [
        "A=Matrix([[1,2,0], [3,1,1]] )\n",
        "B=Matrix([[1,0,1],[0,1,0],[1,0,1]])\n",
        "A*B"
      ],
      "execution_count": 0,
      "outputs": [
        {
          "output_type": "execute_result",
          "data": {
            "text/latex": "$$\\left[\\begin{matrix}1 & 2 & 1\\\\4 & 1 & 4\\end{matrix}\\right]$$",
            "text/plain": [
              "⎡1  2  1⎤\n",
              "⎢       ⎥\n",
              "⎣4  1  4⎦"
            ]
          },
          "metadata": {
            "tags": []
          },
          "execution_count": 37
        }
      ]
    },
    {
      "metadata": {
        "id": "kmJ_1dKGaV4q",
        "colab_type": "text"
      },
      "cell_type": "markdown",
      "source": [
        "#### i) [[1,0,0],[0,1,0],[0,0,1]] [[30,4],[2,10],[2,20]]"
      ]
    },
    {
      "metadata": {
        "id": "2k_kH_MXaV4q",
        "colab_type": "code",
        "colab": {},
        "outputId": "ae8c7a91-0edd-42f3-f5eb-0de0509faee3"
      },
      "cell_type": "code",
      "source": [
        "A=Matrix([[1,0,0],[0,1,0],[0,0,1]]) #identidade :v\n",
        "B=Matrix( [[30,4],[2,10],[2,20]])\n",
        "A*B"
      ],
      "execution_count": 0,
      "outputs": [
        {
          "output_type": "execute_result",
          "data": {
            "text/latex": "$$\\left[\\begin{matrix}30 & 4\\\\2 & 10\\\\2 & 20\\end{matrix}\\right]$$",
            "text/plain": [
              "⎡30  4 ⎤\n",
              "⎢      ⎥\n",
              "⎢2   10⎥\n",
              "⎢      ⎥\n",
              "⎣2   20⎦"
            ]
          },
          "metadata": {
            "tags": []
          },
          "execution_count": 38
        }
      ]
    },
    {
      "metadata": {
        "id": "JtDJ2q4QaV4s",
        "colab_type": "text"
      },
      "cell_type": "markdown",
      "source": [
        "#### j) [[0,0,1],[0,1,0],[1,0,0]] [[30,4],[2,10],[2,20]]"
      ]
    },
    {
      "metadata": {
        "id": "ztX3nX_aaV4s",
        "colab_type": "code",
        "colab": {},
        "outputId": "71488ca3-c6c4-4d54-83b6-80e5e14596c3"
      },
      "cell_type": "code",
      "source": [
        "A=Matrix([[0,0,1],[0,1,0],[1,0,0]])\n",
        "B=Matrix([[30,4],[2,10],[2,20]])\n",
        "A*B"
      ],
      "execution_count": 0,
      "outputs": [
        {
          "output_type": "execute_result",
          "data": {
            "text/latex": "$$\\left[\\begin{matrix}2 & 20\\\\2 & 10\\\\30 & 4\\end{matrix}\\right]$$",
            "text/plain": [
              "⎡2   20⎤\n",
              "⎢      ⎥\n",
              "⎢2   10⎥\n",
              "⎢      ⎥\n",
              "⎣30  4 ⎦"
            ]
          },
          "metadata": {
            "tags": []
          },
          "execution_count": 39
        }
      ]
    },
    {
      "metadata": {
        "id": "l6TcEIWFaV4u",
        "colab_type": "text"
      },
      "cell_type": "markdown",
      "source": [
        "#### k) [[1,0,0],[0,1,0],[0,0,3]] [[30,4],[2,10],[2,20]]"
      ]
    },
    {
      "metadata": {
        "id": "GLhCN-sRaV4u",
        "colab_type": "code",
        "colab": {},
        "outputId": "10bdb42e-8764-4ccc-95f8-6114b5b535b4"
      },
      "cell_type": "code",
      "source": [
        "A=Matrix([[1,0,0],[0,1,0],[0,0,3]])\n",
        "B=Matrix([[30,4],[2,10],[2,20]])\n",
        "A*B"
      ],
      "execution_count": 0,
      "outputs": [
        {
          "output_type": "execute_result",
          "data": {
            "text/latex": "$$\\left[\\begin{matrix}30 & 4\\\\2 & 10\\\\6 & 60\\end{matrix}\\right]$$",
            "text/plain": [
              "⎡30  4 ⎤\n",
              "⎢      ⎥\n",
              "⎢2   10⎥\n",
              "⎢      ⎥\n",
              "⎣6   60⎦"
            ]
          },
          "metadata": {
            "tags": []
          },
          "execution_count": 40
        }
      ]
    },
    {
      "metadata": {
        "id": "9vt_9t1GaV4x",
        "colab_type": "text"
      },
      "cell_type": "markdown",
      "source": [
        "#### l) [[1,0,0],[0,1,0],[2,0,1]] [[30,4],[2,10],[2,20]]"
      ]
    },
    {
      "metadata": {
        "id": "_gqPSSAzaV4x",
        "colab_type": "code",
        "colab": {},
        "outputId": "c6805c07-7916-4832-9ced-0991bbf7dc9c"
      },
      "cell_type": "code",
      "source": [
        "A = Matrix([[1,0,0],[0,1,0],[2,0,1]])\n",
        "B = Matrix([[30,4],[2,10],[2,20]])\n",
        "A*B"
      ],
      "execution_count": 0,
      "outputs": [
        {
          "output_type": "execute_result",
          "data": {
            "text/latex": "$$\\left[\\begin{matrix}30 & 4\\\\2 & 10\\\\62 & 28\\end{matrix}\\right]$$",
            "text/plain": [
              "⎡30  4 ⎤\n",
              "⎢      ⎥\n",
              "⎢2   10⎥\n",
              "⎢      ⎥\n",
              "⎣62  28⎦"
            ]
          },
          "metadata": {
            "tags": []
          },
          "execution_count": 41
        }
      ]
    },
    {
      "metadata": {
        "id": "A9RSsRw8aV4z",
        "colab_type": "text"
      },
      "cell_type": "markdown",
      "source": [
        "### **Exercício 6 -** Mostre que a inversa de uma matriz A ∈ Rn×n, quando existe, é única."
      ]
    },
    {
      "metadata": {
        "id": "v86gdT2aaV40",
        "colab_type": "text"
      },
      "cell_type": "markdown",
      "source": [
        "A matriz A é quadrada (*n*x*n*), vamos supor que existe uma matriz B (*n*x*n*) e uma matriz C (*n*x*n*) tal que:\n",
        "- AB = BA = Matriz Identidade\n",
        "- AC = CA = Matriz Identidade\n",
        "\n",
        "Portanto, podemos dizer que CAB = C, mas CA = Identidade, temos Identidade x B = C. E, portanto, B = C. \n",
        "\n",
        "Dessa forma, quando existe uma inversa de A, é única."
      ]
    },
    {
      "metadata": {
        "id": "ZbKILz5faV41",
        "colab_type": "text"
      },
      "cell_type": "markdown",
      "source": [
        "### **Exercício 7 -** Mostre que se as matrizes A e B ∈ Rn×n são invertíveis, então também AB é invertível, tendo-se ainda (AB)<sup>−1</sup> = B<sup>−1</sup>A<sup>−1</sup>."
      ]
    },
    {
      "metadata": {
        "id": "YEvmqYcraV42",
        "colab_type": "text"
      },
      "cell_type": "markdown",
      "source": [
        "Como A e B são invertíveis, suas inversas são, respectivamente A<sup>-1</sup> e B<sup>-1</sup>.\n",
        "\n",
        "No caso, teremos:\n",
        "- **1)** (AB)(B<sup>-1</sup>A<sup>-1</sup>) = A(BB<sup>-1</sup>)A<sup>-1</sup> = AA<sup>-1</sup> = I\n",
        "- **2)** (B<sup>-1</sup>A<sup>-1</sup>)(AB) = B<sup>-1</sup>(A<sup>-1</sup>A)B = B<sup>-1</sup>B = I\n",
        "\n",
        "Portanto, de 1) temos que AB é invertível e de 2) temos que (AB)<sup>−1</sup> = B<sup>−1</sup>A<sup>−1</sup>."
      ]
    },
    {
      "metadata": {
        "id": "-_dAzMmgaV42",
        "colab_type": "text"
      },
      "cell_type": "markdown",
      "source": [
        "### **Exercício 8 -** Mostre que qualquer matriz invertível se pode decompor no produto de matrizes elementares."
      ]
    },
    {
      "metadata": {
        "id": "waJRp7H2aV42",
        "colab_type": "text"
      },
      "cell_type": "markdown",
      "source": [
        "- Se temos uma matriz A inversível, então sua forma escalonada e reduzida é a matriz identidade.\n",
        "- Portanto, devem existir matrizes elementares E<sub>1</sub>, E<sub>2</sub>, ..., E<sub>n</sub> tais que E<sub>n</sub>, E<sub>n-1</sub>, ... E<sub>1</sub> A = I. \n",
        "- Como todas as matrizes elementares são invertíveis, podemos inferir que A pode ser escrito como:\n",
        "- A = E<sub>1</sub><sup>-1</sup> E<sub>2</sub><sup>-1</sup> ... E<sub>n</sub><sup>-1</sup>\n",
        "\n",
        "Como as inversas das elementares são elementares, temos que A pode ser decomposto como produto de matrizes elementares."
      ]
    },
    {
      "metadata": {
        "id": "6SlMOUxFaV43",
        "colab_type": "text"
      },
      "cell_type": "markdown",
      "source": [
        "### **Exercício 9 -** Sempre que possível, calcule a inversa de cada uma das seguintes matrizes:"
      ]
    },
    {
      "metadata": {
        "id": "5fiqnFWhaV44",
        "colab_type": "text"
      },
      "cell_type": "markdown",
      "source": [
        "#### a) [[0,0],[0,0]]"
      ]
    },
    {
      "metadata": {
        "id": "-TgjM_GnaV45",
        "colab_type": "code",
        "colab": {},
        "outputId": "a32ab669-0842-40e4-8973-33eb7da36a87"
      },
      "cell_type": "code",
      "source": [
        "A = Matrix([[0,0],[0,0]])\n",
        "A.inv()"
      ],
      "execution_count": 0,
      "outputs": [
        {
          "output_type": "error",
          "ename": "ValueError",
          "evalue": "Matrix det == 0; not invertible.",
          "traceback": [
            "\u001b[1;31m---------------------------------------------------------------------------\u001b[0m",
            "\u001b[1;31mValueError\u001b[0m                                Traceback (most recent call last)",
            "\u001b[1;32m<ipython-input-42-af21f4d1301b>\u001b[0m in \u001b[0;36m<module>\u001b[1;34m()\u001b[0m\n\u001b[0;32m      1\u001b[0m \u001b[0mA\u001b[0m \u001b[1;33m=\u001b[0m \u001b[0mMatrix\u001b[0m\u001b[1;33m(\u001b[0m\u001b[1;33m[\u001b[0m\u001b[1;33m[\u001b[0m\u001b[1;36m0\u001b[0m\u001b[1;33m,\u001b[0m\u001b[1;36m0\u001b[0m\u001b[1;33m]\u001b[0m\u001b[1;33m,\u001b[0m\u001b[1;33m[\u001b[0m\u001b[1;36m0\u001b[0m\u001b[1;33m,\u001b[0m\u001b[1;36m0\u001b[0m\u001b[1;33m]\u001b[0m\u001b[1;33m]\u001b[0m\u001b[1;33m)\u001b[0m\u001b[1;33m\u001b[0m\u001b[0m\n\u001b[1;32m----> 2\u001b[1;33m \u001b[0mA\u001b[0m\u001b[1;33m.\u001b[0m\u001b[0minv\u001b[0m\u001b[1;33m(\u001b[0m\u001b[1;33m)\u001b[0m\u001b[1;33m\u001b[0m\u001b[0m\n\u001b[0m",
            "\u001b[1;32m~\\Miniconda3\\lib\\site-packages\\sympy\\matrices\\matrices.py\u001b[0m in \u001b[0;36minv\u001b[1;34m(self, method, **kwargs)\u001b[0m\n\u001b[0;32m   2875\u001b[0m         \u001b[1;32mif\u001b[0m \u001b[0mmethod\u001b[0m \u001b[1;32mis\u001b[0m \u001b[1;32mnot\u001b[0m \u001b[1;32mNone\u001b[0m\u001b[1;33m:\u001b[0m\u001b[1;33m\u001b[0m\u001b[0m\n\u001b[0;32m   2876\u001b[0m             \u001b[0mkwargs\u001b[0m\u001b[1;33m[\u001b[0m\u001b[1;34m'method'\u001b[0m\u001b[1;33m]\u001b[0m \u001b[1;33m=\u001b[0m \u001b[0mmethod\u001b[0m\u001b[1;33m\u001b[0m\u001b[0m\n\u001b[1;32m-> 2877\u001b[1;33m         \u001b[1;32mreturn\u001b[0m \u001b[0mself\u001b[0m\u001b[1;33m.\u001b[0m\u001b[0m_eval_inverse\u001b[0m\u001b[1;33m(\u001b[0m\u001b[1;33m**\u001b[0m\u001b[0mkwargs\u001b[0m\u001b[1;33m)\u001b[0m\u001b[1;33m\u001b[0m\u001b[0m\n\u001b[0m\u001b[0;32m   2878\u001b[0m \u001b[1;33m\u001b[0m\u001b[0m\n\u001b[0;32m   2879\u001b[0m     \u001b[1;32mdef\u001b[0m \u001b[0mis_nilpotent\u001b[0m\u001b[1;33m(\u001b[0m\u001b[0mself\u001b[0m\u001b[1;33m)\u001b[0m\u001b[1;33m:\u001b[0m\u001b[1;33m\u001b[0m\u001b[0m\n",
            "\u001b[1;32m~\\Miniconda3\\lib\\site-packages\\sympy\\matrices\\dense.py\u001b[0m in \u001b[0;36m_eval_inverse\u001b[1;34m(self, **kwargs)\u001b[0m\n\u001b[0;32m    264\u001b[0m         \u001b[0mM\u001b[0m \u001b[1;33m=\u001b[0m \u001b[0mself\u001b[0m\u001b[1;33m.\u001b[0m\u001b[0mas_mutable\u001b[0m\u001b[1;33m(\u001b[0m\u001b[1;33m)\u001b[0m\u001b[1;33m\u001b[0m\u001b[0m\n\u001b[0;32m    265\u001b[0m         \u001b[1;32mif\u001b[0m \u001b[0mmethod\u001b[0m \u001b[1;33m==\u001b[0m \u001b[1;34m\"GE\"\u001b[0m\u001b[1;33m:\u001b[0m\u001b[1;33m\u001b[0m\u001b[0m\n\u001b[1;32m--> 266\u001b[1;33m             \u001b[0mrv\u001b[0m \u001b[1;33m=\u001b[0m \u001b[0mM\u001b[0m\u001b[1;33m.\u001b[0m\u001b[0minverse_GE\u001b[0m\u001b[1;33m(\u001b[0m\u001b[0miszerofunc\u001b[0m\u001b[1;33m=\u001b[0m\u001b[0miszerofunc\u001b[0m\u001b[1;33m)\u001b[0m\u001b[1;33m\u001b[0m\u001b[0m\n\u001b[0m\u001b[0;32m    267\u001b[0m         \u001b[1;32melif\u001b[0m \u001b[0mmethod\u001b[0m \u001b[1;33m==\u001b[0m \u001b[1;34m\"LU\"\u001b[0m\u001b[1;33m:\u001b[0m\u001b[1;33m\u001b[0m\u001b[0m\n\u001b[0;32m    268\u001b[0m             \u001b[0mrv\u001b[0m \u001b[1;33m=\u001b[0m \u001b[0mM\u001b[0m\u001b[1;33m.\u001b[0m\u001b[0minverse_LU\u001b[0m\u001b[1;33m(\u001b[0m\u001b[0miszerofunc\u001b[0m\u001b[1;33m=\u001b[0m\u001b[0miszerofunc\u001b[0m\u001b[1;33m)\u001b[0m\u001b[1;33m\u001b[0m\u001b[0m\n",
            "\u001b[1;32m~\\Miniconda3\\lib\\site-packages\\sympy\\matrices\\matrices.py\u001b[0m in \u001b[0;36minverse_GE\u001b[1;34m(self, iszerofunc)\u001b[0m\n\u001b[0;32m   2790\u001b[0m         \u001b[0mred\u001b[0m \u001b[1;33m=\u001b[0m \u001b[0mbig\u001b[0m\u001b[1;33m.\u001b[0m\u001b[0mrref\u001b[0m\u001b[1;33m(\u001b[0m\u001b[0miszerofunc\u001b[0m\u001b[1;33m=\u001b[0m\u001b[0miszerofunc\u001b[0m\u001b[1;33m,\u001b[0m \u001b[0msimplify\u001b[0m\u001b[1;33m=\u001b[0m\u001b[1;32mTrue\u001b[0m\u001b[1;33m)\u001b[0m\u001b[1;33m[\u001b[0m\u001b[1;36m0\u001b[0m\u001b[1;33m]\u001b[0m\u001b[1;33m\u001b[0m\u001b[0m\n\u001b[0;32m   2791\u001b[0m         \u001b[1;32mif\u001b[0m \u001b[0many\u001b[0m\u001b[1;33m(\u001b[0m\u001b[0miszerofunc\u001b[0m\u001b[1;33m(\u001b[0m\u001b[0mred\u001b[0m\u001b[1;33m[\u001b[0m\u001b[0mj\u001b[0m\u001b[1;33m,\u001b[0m \u001b[0mj\u001b[0m\u001b[1;33m]\u001b[0m\u001b[1;33m)\u001b[0m \u001b[1;32mfor\u001b[0m \u001b[0mj\u001b[0m \u001b[1;32min\u001b[0m \u001b[0mrange\u001b[0m\u001b[1;33m(\u001b[0m\u001b[0mred\u001b[0m\u001b[1;33m.\u001b[0m\u001b[0mrows\u001b[0m\u001b[1;33m)\u001b[0m\u001b[1;33m)\u001b[0m\u001b[1;33m:\u001b[0m\u001b[1;33m\u001b[0m\u001b[0m\n\u001b[1;32m-> 2792\u001b[1;33m             \u001b[1;32mraise\u001b[0m \u001b[0mValueError\u001b[0m\u001b[1;33m(\u001b[0m\u001b[1;34m\"Matrix det == 0; not invertible.\"\u001b[0m\u001b[1;33m)\u001b[0m\u001b[1;33m\u001b[0m\u001b[0m\n\u001b[0m\u001b[0;32m   2793\u001b[0m \u001b[1;33m\u001b[0m\u001b[0m\n\u001b[0;32m   2794\u001b[0m         \u001b[1;32mreturn\u001b[0m \u001b[0mself\u001b[0m\u001b[1;33m.\u001b[0m\u001b[0m_new\u001b[0m\u001b[1;33m(\u001b[0m\u001b[0mred\u001b[0m\u001b[1;33m[\u001b[0m\u001b[1;33m:\u001b[0m\u001b[1;33m,\u001b[0m \u001b[0mbig\u001b[0m\u001b[1;33m.\u001b[0m\u001b[0mrows\u001b[0m\u001b[1;33m:\u001b[0m\u001b[1;33m]\u001b[0m\u001b[1;33m)\u001b[0m\u001b[1;33m\u001b[0m\u001b[0m\n",
            "\u001b[1;31mValueError\u001b[0m: Matrix det == 0; not invertible."
          ]
        }
      ]
    },
    {
      "metadata": {
        "id": "SNP2HhubaV47",
        "colab_type": "text"
      },
      "cell_type": "markdown",
      "source": [
        "desta forma, a a matriz não é invertível (det == 0)"
      ]
    },
    {
      "metadata": {
        "id": "PeWArfGKaV47",
        "colab_type": "text"
      },
      "cell_type": "markdown",
      "source": [
        "#### b) [[1,0],[0,1]]"
      ]
    },
    {
      "metadata": {
        "id": "vRhpmwtNaV48",
        "colab_type": "code",
        "colab": {},
        "outputId": "e5394e45-7d08-420e-ff3b-506b19a5479c"
      },
      "cell_type": "code",
      "source": [
        "A = Matrix([[1,0],[0,1]])\n",
        "A.inv()"
      ],
      "execution_count": 0,
      "outputs": [
        {
          "output_type": "execute_result",
          "data": {
            "text/latex": "$$\\left[\\begin{matrix}1 & 0\\\\0 & 1\\end{matrix}\\right]$$",
            "text/plain": [
              "⎡1  0⎤\n",
              "⎢    ⎥\n",
              "⎣0  1⎦"
            ]
          },
          "metadata": {
            "tags": []
          },
          "execution_count": 43
        }
      ]
    },
    {
      "metadata": {
        "id": "rGAHfBnVaV49",
        "colab_type": "text"
      },
      "cell_type": "markdown",
      "source": [
        "#### c) [[1,2],[2,1]]"
      ]
    },
    {
      "metadata": {
        "id": "cn5Yc6Q8aV4-",
        "colab_type": "code",
        "colab": {},
        "outputId": "1ac80cd6-c538-419f-b922-0f638a621836"
      },
      "cell_type": "code",
      "source": [
        "A = Matrix([[1,2],[2,1]])\n",
        "A.inv()"
      ],
      "execution_count": 0,
      "outputs": [
        {
          "output_type": "execute_result",
          "data": {
            "text/latex": "$$\\left[\\begin{matrix}- \\frac{1}{3} & \\frac{2}{3}\\\\\\frac{2}{3} & - \\frac{1}{3}\\end{matrix}\\right]$$",
            "text/plain": [
              "⎡-1/3  2/3 ⎤\n",
              "⎢          ⎥\n",
              "⎣2/3   -1/3⎦"
            ]
          },
          "metadata": {
            "tags": []
          },
          "execution_count": 44
        }
      ]
    },
    {
      "metadata": {
        "id": "ngI8GCuzaV5A",
        "colab_type": "text"
      },
      "cell_type": "markdown",
      "source": [
        "#### d) [[1,0,0],[1,1,0],[1,1,1]]"
      ]
    },
    {
      "metadata": {
        "id": "DJNN3fuYaV5A",
        "colab_type": "code",
        "colab": {},
        "outputId": "114c27ef-2320-4fb0-ed1c-3f329459f0b5"
      },
      "cell_type": "code",
      "source": [
        "A = Matrix([[1,0,0],[1,1,0],[1,1,1]])\n",
        "A.inv()"
      ],
      "execution_count": 0,
      "outputs": [
        {
          "output_type": "execute_result",
          "data": {
            "text/latex": "$$\\left[\\begin{matrix}1 & 0 & 0\\\\-1 & 1 & 0\\\\0 & -1 & 1\\end{matrix}\\right]$$",
            "text/plain": [
              "⎡1   0   0⎤\n",
              "⎢         ⎥\n",
              "⎢-1  1   0⎥\n",
              "⎢         ⎥\n",
              "⎣0   -1  1⎦"
            ]
          },
          "metadata": {
            "tags": []
          },
          "execution_count": 45
        }
      ]
    },
    {
      "metadata": {
        "id": "YXbMHQ4YaV5D",
        "colab_type": "text"
      },
      "cell_type": "markdown",
      "source": [
        "#### e) [[1,-1,0],[1,1,-1],[0,1,1]]"
      ]
    },
    {
      "metadata": {
        "id": "Gv6I_mfLaV5E",
        "colab_type": "code",
        "colab": {},
        "outputId": "f004e49d-4375-48c3-b085-3898c6bd5b04"
      },
      "cell_type": "code",
      "source": [
        "A = Matrix([[1,-1,0],[1,1,-1],[0,1,1]])\n",
        "e_inv = A.inv()\n",
        "e_inv"
      ],
      "execution_count": 0,
      "outputs": [
        {
          "output_type": "execute_result",
          "data": {
            "text/latex": "$$\\left[\\begin{matrix}\\frac{2}{3} & \\frac{1}{3} & \\frac{1}{3}\\\\- \\frac{1}{3} & \\frac{1}{3} & \\frac{1}{3}\\\\\\frac{1}{3} & - \\frac{1}{3} & \\frac{2}{3}\\end{matrix}\\right]$$",
            "text/plain": [
              "⎡2/3   1/3   1/3⎤\n",
              "⎢               ⎥\n",
              "⎢-1/3  1/3   1/3⎥\n",
              "⎢               ⎥\n",
              "⎣1/3   -1/3  2/3⎦"
            ]
          },
          "metadata": {
            "tags": []
          },
          "execution_count": 46
        }
      ]
    },
    {
      "metadata": {
        "id": "Ywf3uRiWaV5F",
        "colab_type": "text"
      },
      "cell_type": "markdown",
      "source": [
        "#### f) [[1,0,1],[0,1,0],[3,3,3]]"
      ]
    },
    {
      "metadata": {
        "id": "3wXnLqZyaV5G",
        "colab_type": "code",
        "colab": {},
        "outputId": "3a92c248-5ac2-45bc-93f8-7c1aabb5f8c1"
      },
      "cell_type": "code",
      "source": [
        "A = Matrix([[1,0,1],[0,1,0],[3,3,3]])\n",
        "A.inv()"
      ],
      "execution_count": 0,
      "outputs": [
        {
          "output_type": "error",
          "ename": "ValueError",
          "evalue": "Matrix det == 0; not invertible.",
          "traceback": [
            "\u001b[1;31m---------------------------------------------------------------------------\u001b[0m",
            "\u001b[1;31mValueError\u001b[0m                                Traceback (most recent call last)",
            "\u001b[1;32m<ipython-input-47-56c5a92643fc>\u001b[0m in \u001b[0;36m<module>\u001b[1;34m()\u001b[0m\n\u001b[0;32m      1\u001b[0m \u001b[0mA\u001b[0m \u001b[1;33m=\u001b[0m \u001b[0mMatrix\u001b[0m\u001b[1;33m(\u001b[0m\u001b[1;33m[\u001b[0m\u001b[1;33m[\u001b[0m\u001b[1;36m1\u001b[0m\u001b[1;33m,\u001b[0m\u001b[1;36m0\u001b[0m\u001b[1;33m,\u001b[0m\u001b[1;36m1\u001b[0m\u001b[1;33m]\u001b[0m\u001b[1;33m,\u001b[0m\u001b[1;33m[\u001b[0m\u001b[1;36m0\u001b[0m\u001b[1;33m,\u001b[0m\u001b[1;36m1\u001b[0m\u001b[1;33m,\u001b[0m\u001b[1;36m0\u001b[0m\u001b[1;33m]\u001b[0m\u001b[1;33m,\u001b[0m\u001b[1;33m[\u001b[0m\u001b[1;36m3\u001b[0m\u001b[1;33m,\u001b[0m\u001b[1;36m3\u001b[0m\u001b[1;33m,\u001b[0m\u001b[1;36m3\u001b[0m\u001b[1;33m]\u001b[0m\u001b[1;33m]\u001b[0m\u001b[1;33m)\u001b[0m\u001b[1;33m\u001b[0m\u001b[0m\n\u001b[1;32m----> 2\u001b[1;33m \u001b[0mA\u001b[0m\u001b[1;33m.\u001b[0m\u001b[0minv\u001b[0m\u001b[1;33m(\u001b[0m\u001b[1;33m)\u001b[0m\u001b[1;33m\u001b[0m\u001b[0m\n\u001b[0m",
            "\u001b[1;32m~\\Miniconda3\\lib\\site-packages\\sympy\\matrices\\matrices.py\u001b[0m in \u001b[0;36minv\u001b[1;34m(self, method, **kwargs)\u001b[0m\n\u001b[0;32m   2875\u001b[0m         \u001b[1;32mif\u001b[0m \u001b[0mmethod\u001b[0m \u001b[1;32mis\u001b[0m \u001b[1;32mnot\u001b[0m \u001b[1;32mNone\u001b[0m\u001b[1;33m:\u001b[0m\u001b[1;33m\u001b[0m\u001b[0m\n\u001b[0;32m   2876\u001b[0m             \u001b[0mkwargs\u001b[0m\u001b[1;33m[\u001b[0m\u001b[1;34m'method'\u001b[0m\u001b[1;33m]\u001b[0m \u001b[1;33m=\u001b[0m \u001b[0mmethod\u001b[0m\u001b[1;33m\u001b[0m\u001b[0m\n\u001b[1;32m-> 2877\u001b[1;33m         \u001b[1;32mreturn\u001b[0m \u001b[0mself\u001b[0m\u001b[1;33m.\u001b[0m\u001b[0m_eval_inverse\u001b[0m\u001b[1;33m(\u001b[0m\u001b[1;33m**\u001b[0m\u001b[0mkwargs\u001b[0m\u001b[1;33m)\u001b[0m\u001b[1;33m\u001b[0m\u001b[0m\n\u001b[0m\u001b[0;32m   2878\u001b[0m \u001b[1;33m\u001b[0m\u001b[0m\n\u001b[0;32m   2879\u001b[0m     \u001b[1;32mdef\u001b[0m \u001b[0mis_nilpotent\u001b[0m\u001b[1;33m(\u001b[0m\u001b[0mself\u001b[0m\u001b[1;33m)\u001b[0m\u001b[1;33m:\u001b[0m\u001b[1;33m\u001b[0m\u001b[0m\n",
            "\u001b[1;32m~\\Miniconda3\\lib\\site-packages\\sympy\\matrices\\dense.py\u001b[0m in \u001b[0;36m_eval_inverse\u001b[1;34m(self, **kwargs)\u001b[0m\n\u001b[0;32m    264\u001b[0m         \u001b[0mM\u001b[0m \u001b[1;33m=\u001b[0m \u001b[0mself\u001b[0m\u001b[1;33m.\u001b[0m\u001b[0mas_mutable\u001b[0m\u001b[1;33m(\u001b[0m\u001b[1;33m)\u001b[0m\u001b[1;33m\u001b[0m\u001b[0m\n\u001b[0;32m    265\u001b[0m         \u001b[1;32mif\u001b[0m \u001b[0mmethod\u001b[0m \u001b[1;33m==\u001b[0m \u001b[1;34m\"GE\"\u001b[0m\u001b[1;33m:\u001b[0m\u001b[1;33m\u001b[0m\u001b[0m\n\u001b[1;32m--> 266\u001b[1;33m             \u001b[0mrv\u001b[0m \u001b[1;33m=\u001b[0m \u001b[0mM\u001b[0m\u001b[1;33m.\u001b[0m\u001b[0minverse_GE\u001b[0m\u001b[1;33m(\u001b[0m\u001b[0miszerofunc\u001b[0m\u001b[1;33m=\u001b[0m\u001b[0miszerofunc\u001b[0m\u001b[1;33m)\u001b[0m\u001b[1;33m\u001b[0m\u001b[0m\n\u001b[0m\u001b[0;32m    267\u001b[0m         \u001b[1;32melif\u001b[0m \u001b[0mmethod\u001b[0m \u001b[1;33m==\u001b[0m \u001b[1;34m\"LU\"\u001b[0m\u001b[1;33m:\u001b[0m\u001b[1;33m\u001b[0m\u001b[0m\n\u001b[0;32m    268\u001b[0m             \u001b[0mrv\u001b[0m \u001b[1;33m=\u001b[0m \u001b[0mM\u001b[0m\u001b[1;33m.\u001b[0m\u001b[0minverse_LU\u001b[0m\u001b[1;33m(\u001b[0m\u001b[0miszerofunc\u001b[0m\u001b[1;33m=\u001b[0m\u001b[0miszerofunc\u001b[0m\u001b[1;33m)\u001b[0m\u001b[1;33m\u001b[0m\u001b[0m\n",
            "\u001b[1;32m~\\Miniconda3\\lib\\site-packages\\sympy\\matrices\\matrices.py\u001b[0m in \u001b[0;36minverse_GE\u001b[1;34m(self, iszerofunc)\u001b[0m\n\u001b[0;32m   2790\u001b[0m         \u001b[0mred\u001b[0m \u001b[1;33m=\u001b[0m \u001b[0mbig\u001b[0m\u001b[1;33m.\u001b[0m\u001b[0mrref\u001b[0m\u001b[1;33m(\u001b[0m\u001b[0miszerofunc\u001b[0m\u001b[1;33m=\u001b[0m\u001b[0miszerofunc\u001b[0m\u001b[1;33m,\u001b[0m \u001b[0msimplify\u001b[0m\u001b[1;33m=\u001b[0m\u001b[1;32mTrue\u001b[0m\u001b[1;33m)\u001b[0m\u001b[1;33m[\u001b[0m\u001b[1;36m0\u001b[0m\u001b[1;33m]\u001b[0m\u001b[1;33m\u001b[0m\u001b[0m\n\u001b[0;32m   2791\u001b[0m         \u001b[1;32mif\u001b[0m \u001b[0many\u001b[0m\u001b[1;33m(\u001b[0m\u001b[0miszerofunc\u001b[0m\u001b[1;33m(\u001b[0m\u001b[0mred\u001b[0m\u001b[1;33m[\u001b[0m\u001b[0mj\u001b[0m\u001b[1;33m,\u001b[0m \u001b[0mj\u001b[0m\u001b[1;33m]\u001b[0m\u001b[1;33m)\u001b[0m \u001b[1;32mfor\u001b[0m \u001b[0mj\u001b[0m \u001b[1;32min\u001b[0m \u001b[0mrange\u001b[0m\u001b[1;33m(\u001b[0m\u001b[0mred\u001b[0m\u001b[1;33m.\u001b[0m\u001b[0mrows\u001b[0m\u001b[1;33m)\u001b[0m\u001b[1;33m)\u001b[0m\u001b[1;33m:\u001b[0m\u001b[1;33m\u001b[0m\u001b[0m\n\u001b[1;32m-> 2792\u001b[1;33m             \u001b[1;32mraise\u001b[0m \u001b[0mValueError\u001b[0m\u001b[1;33m(\u001b[0m\u001b[1;34m\"Matrix det == 0; not invertible.\"\u001b[0m\u001b[1;33m)\u001b[0m\u001b[1;33m\u001b[0m\u001b[0m\n\u001b[0m\u001b[0;32m   2793\u001b[0m \u001b[1;33m\u001b[0m\u001b[0m\n\u001b[0;32m   2794\u001b[0m         \u001b[1;32mreturn\u001b[0m \u001b[0mself\u001b[0m\u001b[1;33m.\u001b[0m\u001b[0m_new\u001b[0m\u001b[1;33m(\u001b[0m\u001b[0mred\u001b[0m\u001b[1;33m[\u001b[0m\u001b[1;33m:\u001b[0m\u001b[1;33m,\u001b[0m \u001b[0mbig\u001b[0m\u001b[1;33m.\u001b[0m\u001b[0mrows\u001b[0m\u001b[1;33m:\u001b[0m\u001b[1;33m]\u001b[0m\u001b[1;33m)\u001b[0m\u001b[1;33m\u001b[0m\u001b[0m\n",
            "\u001b[1;31mValueError\u001b[0m: Matrix det == 0; not invertible."
          ]
        }
      ]
    },
    {
      "metadata": {
        "id": "Ol8t1Z5zaV5J",
        "colab_type": "text"
      },
      "cell_type": "markdown",
      "source": [
        "desta forma, a a matriz não é invertível (det == 0)"
      ]
    },
    {
      "metadata": {
        "id": "8hr_EukVaV5J",
        "colab_type": "text"
      },
      "cell_type": "markdown",
      "source": [
        "#### g) [[1,2,3,4],[0,1,2,3],[0,0,1,2],[0,0,0,1]]"
      ]
    },
    {
      "metadata": {
        "id": "2TxfwBGFaV5J",
        "colab_type": "code",
        "colab": {},
        "outputId": "57eb84e4-bf6b-4b56-f989-4b89eef9e3c2"
      },
      "cell_type": "code",
      "source": [
        "A = Matrix([[1,2,3,4],[0,1,2,3],[0,0,1,2],[0,0,0,1]])\n",
        "A.inv()"
      ],
      "execution_count": 0,
      "outputs": [
        {
          "output_type": "execute_result",
          "data": {
            "text/latex": "$$\\left[\\begin{matrix}1 & -2 & 1 & 0\\\\0 & 1 & -2 & 1\\\\0 & 0 & 1 & -2\\\\0 & 0 & 0 & 1\\end{matrix}\\right]$$",
            "text/plain": [
              "⎡1  -2  1   0 ⎤\n",
              "⎢             ⎥\n",
              "⎢0  1   -2  1 ⎥\n",
              "⎢             ⎥\n",
              "⎢0  0   1   -2⎥\n",
              "⎢             ⎥\n",
              "⎣0  0   0   1 ⎦"
            ]
          },
          "metadata": {
            "tags": []
          },
          "execution_count": 48
        }
      ]
    },
    {
      "metadata": {
        "id": "iy_95w0LaV5L",
        "colab_type": "text"
      },
      "cell_type": "markdown",
      "source": [
        "#### h) [[1,0,1,0],[0,1,0,1],[1,0,2,1],[1,-1,1,0]]"
      ]
    },
    {
      "metadata": {
        "id": "NEfOZeI5aV5L",
        "colab_type": "code",
        "colab": {},
        "outputId": "5833baf5-9f4f-43b1-e8fa-b653c8bc5302"
      },
      "cell_type": "code",
      "source": [
        "A = Matrix([[1,0,1,0],[0,1,0,1],[1,0,2,1],[1,-1,1,0]])\n",
        "h_inv = A.inv()\n",
        "h_inv"
      ],
      "execution_count": 0,
      "outputs": [
        {
          "output_type": "execute_result",
          "data": {
            "text/latex": "$$\\left[\\begin{matrix}1 & 1 & -1 & 1\\\\1 & 0 & 0 & -1\\\\0 & -1 & 1 & -1\\\\-1 & 1 & 0 & 1\\end{matrix}\\right]$$",
            "text/plain": [
              "⎡1   1   -1  1 ⎤\n",
              "⎢              ⎥\n",
              "⎢1   0   0   -1⎥\n",
              "⎢              ⎥\n",
              "⎢0   -1  1   -1⎥\n",
              "⎢              ⎥\n",
              "⎣-1  1   0   1 ⎦"
            ]
          },
          "metadata": {
            "tags": []
          },
          "execution_count": 49
        }
      ]
    },
    {
      "metadata": {
        "id": "2EnnvwbYaV5N",
        "colab_type": "text"
      },
      "cell_type": "markdown",
      "source": [
        "### **Exercício 10 -** Utilizando o exercício anterior, Resolva os sistemas de equações lineares:"
      ]
    },
    {
      "metadata": {
        "id": "Qw7YAGlFaV5O",
        "colab_type": "text"
      },
      "cell_type": "markdown",
      "source": [
        "#### a)\n",
        "- x − y = 0\n",
        "- x + y − z = 1\n",
        "- y + z = −1\n",
        "\n",
        "Como Ax = b <=> x = A<sup>-1</sup> b, podemos usar a inversa ja calculada para obter o resultado."
      ]
    },
    {
      "metadata": {
        "id": "Ecaj3ZbQaV5O",
        "colab_type": "code",
        "colab": {},
        "outputId": "1ff8a636-8af0-4cdf-c1bd-52b17ac3f73d"
      },
      "cell_type": "code",
      "source": [
        "b = Matrix([[0], [1], [-1]])\n",
        "e_inv*b # x y z em sequencia"
      ],
      "execution_count": 0,
      "outputs": [
        {
          "output_type": "execute_result",
          "data": {
            "text/latex": "$$\\left[\\begin{matrix}0\\\\0\\\\-1\\end{matrix}\\right]$$",
            "text/plain": [
              "⎡0 ⎤\n",
              "⎢  ⎥\n",
              "⎢0 ⎥\n",
              "⎢  ⎥\n",
              "⎣-1⎦"
            ]
          },
          "metadata": {
            "tags": []
          },
          "execution_count": 50
        }
      ]
    },
    {
      "metadata": {
        "id": "BWiDs-UxaV5Q",
        "colab_type": "text"
      },
      "cell_type": "markdown",
      "source": [
        "#### b)\n",
        "- x + z = 1\n",
        "- y + w = 1\n",
        "- x + 2z + w = −1\n",
        "- x − y + z = 1\n",
        "\n",
        "Como Ax = b <=> x = A<sup>-1</sup> b, podemos usar a inversa ja calculada para obter o resultado."
      ]
    },
    {
      "metadata": {
        "id": "Xd01Ptt5aV5Q",
        "colab_type": "code",
        "colab": {},
        "outputId": "6902db92-bc57-43b3-ce2e-397f7d3ceed9"
      },
      "cell_type": "code",
      "source": [
        "b = Matrix([[1],[1],[-1],[1]])\n",
        "h_inv*b # x y z w em sequencia"
      ],
      "execution_count": 0,
      "outputs": [
        {
          "output_type": "execute_result",
          "data": {
            "text/latex": "$$\\left[\\begin{matrix}4\\\\0\\\\-3\\\\1\\end{matrix}\\right]$$",
            "text/plain": [
              "⎡4 ⎤\n",
              "⎢  ⎥\n",
              "⎢0 ⎥\n",
              "⎢  ⎥\n",
              "⎢-3⎥\n",
              "⎢  ⎥\n",
              "⎣1 ⎦"
            ]
          },
          "metadata": {
            "tags": []
          },
          "execution_count": 51
        }
      ]
    },
    {
      "metadata": {
        "id": "LeGC48dAaV5T",
        "colab_type": "text"
      },
      "cell_type": "markdown",
      "source": [
        "### **Exercício 11 -** Calcule o determinante de cada uma das seguintes matrizes e indique as que são invertíveis\n",
        "\n",
        "#### a) [[1,2],[2,1]]"
      ]
    },
    {
      "metadata": {
        "id": "aXpsPjIiaV5U",
        "colab_type": "code",
        "colab": {},
        "outputId": "acb08b8b-f54f-4b89-9d5d-a0343b02d759"
      },
      "cell_type": "code",
      "source": [
        "A = Matrix([[1,2],[2,1]])\n",
        "A.det()"
      ],
      "execution_count": 0,
      "outputs": [
        {
          "output_type": "execute_result",
          "data": {
            "image/png": "[encoded data removed]",
            "text/latex": "$$-3$$",
            "text/plain": [
              "-3"
            ]
          },
          "metadata": {
            "tags": []
          },
          "execution_count": 52
        }
      ]
    },
    {
      "metadata": {
        "id": "zdrHVYGWaV5X",
        "colab_type": "text"
      },
      "cell_type": "markdown",
      "source": [
        "portanto, invertível."
      ]
    },
    {
      "metadata": {
        "id": "IBOSABKFaV5X",
        "colab_type": "text"
      },
      "cell_type": "markdown",
      "source": [
        "#### b) [[1,1],[1,1]]"
      ]
    },
    {
      "metadata": {
        "id": "8kbl5vuAaV5Y",
        "colab_type": "code",
        "colab": {},
        "outputId": "b64881d7-4894-4d18-c9c4-1cfd6cb94e9e"
      },
      "cell_type": "code",
      "source": [
        "A = Matrix([[1,1],[1,1]])\n",
        "A.det()"
      ],
      "execution_count": 0,
      "outputs": [
        {
          "output_type": "execute_result",
          "data": {
            "image/png": "[encoded data removed]",
            "text/latex": "$$0$$",
            "text/plain": [
              "0"
            ]
          },
          "metadata": {
            "tags": []
          },
          "execution_count": 53
        }
      ]
    },
    {
      "metadata": {
        "id": "5T99Xc5XaV5b",
        "colab_type": "text"
      },
      "cell_type": "markdown",
      "source": [
        "portanto, não é invertível."
      ]
    },
    {
      "metadata": {
        "id": "HQx3s_wdaV5b",
        "colab_type": "text"
      },
      "cell_type": "markdown",
      "source": [
        "#### c) [[1,0,3],[0,3,1],[0,0,3]]"
      ]
    },
    {
      "metadata": {
        "id": "uuCvKbnGaV5b",
        "colab_type": "code",
        "colab": {},
        "outputId": "367c30a8-8ebb-4911-dcd2-51afd1e38ff9"
      },
      "cell_type": "code",
      "source": [
        "A = Matrix([[1,0,3],[0,3,1],[0,0,3]])\n",
        "A.det()"
      ],
      "execution_count": 0,
      "outputs": [
        {
          "output_type": "execute_result",
          "data": {
            "image/png": "[encoded data removed]",
            "text/latex": "$$9$$",
            "text/plain": [
              "9"
            ]
          },
          "metadata": {
            "tags": []
          },
          "execution_count": 54
        }
      ]
    },
    {
      "metadata": {
        "id": "TO5Z30GsaV5b",
        "colab_type": "text"
      },
      "cell_type": "markdown",
      "source": [
        "portanto, invertível."
      ]
    },
    {
      "metadata": {
        "id": "sxDKcMR5aV5c",
        "colab_type": "text"
      },
      "cell_type": "markdown",
      "source": [
        "\n",
        "#### d) [[1,0,0],[1,1,0],[1,1,1]]\n"
      ]
    },
    {
      "metadata": {
        "id": "OpKF001MaV5d",
        "colab_type": "code",
        "colab": {},
        "outputId": "9ff5e521-21e6-4f4c-d7d1-e0ef3952ae34"
      },
      "cell_type": "code",
      "source": [
        "A = Matrix([[1,0,0],[1,1,0],[1,1,1]])\n",
        "A.det()"
      ],
      "execution_count": 0,
      "outputs": [
        {
          "output_type": "execute_result",
          "data": {
            "image/png": "[encoded data removed]",
            "text/latex": "$$1$$",
            "text/plain": [
              "1"
            ]
          },
          "metadata": {
            "tags": []
          },
          "execution_count": 55
        }
      ]
    },
    {
      "metadata": {
        "id": "4fniF6QgaV5e",
        "colab_type": "text"
      },
      "cell_type": "markdown",
      "source": [
        "portanto, invertível."
      ]
    },
    {
      "metadata": {
        "id": "foyy51SOaV5f",
        "colab_type": "text"
      },
      "cell_type": "markdown",
      "source": [
        "#### e) [[3,0,0],[0,1,-2],[0,5,0]]\n"
      ]
    },
    {
      "metadata": {
        "id": "CngvER4VaV5f",
        "colab_type": "code",
        "colab": {},
        "outputId": "824a9632-fcc0-4d58-88b6-e856229fd1cd"
      },
      "cell_type": "code",
      "source": [
        "A = Matrix([[3,0,0],[0,1,-2],[0,5,0]])\n",
        "A.det()"
      ],
      "execution_count": 0,
      "outputs": [
        {
          "output_type": "execute_result",
          "data": {
            "image/png": "[encoded data removed]",
            "text/latex": "$$30$$",
            "text/plain": [
              "30"
            ]
          },
          "metadata": {
            "tags": []
          },
          "execution_count": 56
        }
      ]
    },
    {
      "metadata": {
        "id": "E4BHVTptaV5i",
        "colab_type": "text"
      },
      "cell_type": "markdown",
      "source": [
        "portanto, invertível."
      ]
    },
    {
      "metadata": {
        "id": "QYAP9mA7aV5j",
        "colab_type": "text"
      },
      "cell_type": "markdown",
      "source": [
        "#### f) [[1,-1,1],[1,1,3],[0,1,1]]\n"
      ]
    },
    {
      "metadata": {
        "id": "rkU3jj5JaV5j",
        "colab_type": "code",
        "colab": {},
        "outputId": "73dc0b76-a268-4292-cfe9-7c5bf6a95995"
      },
      "cell_type": "code",
      "source": [
        "A = Matrix([[1,-1,1],[1,1,3],[0,1,1]])\n",
        "A.det()"
      ],
      "execution_count": 0,
      "outputs": [
        {
          "output_type": "execute_result",
          "data": {
            "image/png": "[encoded data removed]",
            "text/latex": "$$0$$",
            "text/plain": [
              "0"
            ]
          },
          "metadata": {
            "tags": []
          },
          "execution_count": 57
        }
      ]
    },
    {
      "metadata": {
        "id": "-ga810SvaV5l",
        "colab_type": "text"
      },
      "cell_type": "markdown",
      "source": [
        "portanto, não é invertível."
      ]
    },
    {
      "metadata": {
        "id": "2VDZYTvKaV5m",
        "colab_type": "text"
      },
      "cell_type": "markdown",
      "source": [
        "#### g) [[1,12,22,31],[0,3,11,16],[0,0,1,10],[0,0,0,1]]\n"
      ]
    },
    {
      "metadata": {
        "id": "kjxHUUIsaV5m",
        "colab_type": "code",
        "colab": {},
        "outputId": "42972bc2-d163-4ce2-8aaf-53661bfd1a47"
      },
      "cell_type": "code",
      "source": [
        "A = Matrix([[1,12,22,31],[0,3,11,16],[0,0,1,10],[0,0,0,1]])\n",
        "A.det()"
      ],
      "execution_count": 0,
      "outputs": [
        {
          "output_type": "execute_result",
          "data": {
            "image/png": "[encoded data removed]",
            "text/latex": "$$3$$",
            "text/plain": [
              "3"
            ]
          },
          "metadata": {
            "tags": []
          },
          "execution_count": 58
        }
      ]
    },
    {
      "metadata": {
        "id": "nmaPn0HpaV5m",
        "colab_type": "text"
      },
      "cell_type": "markdown",
      "source": [
        "portanto, invertível."
      ]
    },
    {
      "metadata": {
        "id": "2HSGRAHPaV5m",
        "colab_type": "text"
      },
      "cell_type": "markdown",
      "source": [
        "#### h) [[1,0,0,3],[1,1,0,3],[0,3,1,1],[0,2,2,2]]"
      ]
    },
    {
      "metadata": {
        "id": "pRyLxb89aV5n",
        "colab_type": "code",
        "colab": {},
        "outputId": "8d736cf1-10d0-4982-e12a-588abb358f55"
      },
      "cell_type": "code",
      "source": [
        "A = Matrix([[1,0,0,3],[1,1,0,3],[0,3,1,1],[0,2,2,2]])\n",
        "A.det()"
      ],
      "execution_count": 0,
      "outputs": [
        {
          "output_type": "execute_result",
          "data": {
            "image/png": "[encoded data removed]",
            "text/latex": "$$0$$",
            "text/plain": [
              "0"
            ]
          },
          "metadata": {
            "tags": []
          },
          "execution_count": 59
        }
      ]
    },
    {
      "metadata": {
        "id": "6XcUnGlmaV5p",
        "colab_type": "text"
      },
      "cell_type": "markdown",
      "source": [
        "portanto, não é invertível."
      ]
    },
    {
      "metadata": {
        "id": "zGCEvfqgaV5p",
        "colab_type": "text"
      },
      "cell_type": "markdown",
      "source": [
        "#### i) [[1,0,0,2],[0,1,2,3],[0,2,1,2],[3,3,0,1]]"
      ]
    },
    {
      "metadata": {
        "id": "IaRfElykaV5p",
        "colab_type": "code",
        "colab": {},
        "outputId": "7e9dd2b9-4e22-4d12-ee4d-18a39e94ad08"
      },
      "cell_type": "code",
      "source": [
        "A = Matrix([[1,0,0,2],[0,1,2,3],[0,2,1,2],[3,3,0,1]])\n",
        "A.det()"
      ],
      "execution_count": 0,
      "outputs": [
        {
          "output_type": "execute_result",
          "data": {
            "image/png": "[encoded data removed]",
            "text/latex": "$$18$$",
            "text/plain": [
              "18"
            ]
          },
          "metadata": {
            "tags": []
          },
          "execution_count": 60
        }
      ]
    },
    {
      "metadata": {
        "id": "AmGeX-hyaV5u",
        "colab_type": "text"
      },
      "cell_type": "markdown",
      "source": [
        "portanto, invertível."
      ]
    },
    {
      "metadata": {
        "id": "LjTfJRSLaV5v",
        "colab_type": "text"
      },
      "cell_type": "markdown",
      "source": [
        "### **Exercício 12 -** Sabendo que `det([[a,b,c],[d,e,f],[g,h,i]]) = 5`, calcule os determinantes:\n",
        "\n",
        "#### a) [[d,e,f],[g,h,i],[a,b,c]]\n",
        "\n",
        "Troca de linha multiplica det por -1. Foram realizadas duas trocas (L1 por L3 e L1 por L2), assim determinante se mantem e, portanto: `Det = 5`.\n",
        "\n",
        "#### b) [[-a,-b,-c],[2d, 2e, 2f],[-g,-h,-i]]\n",
        "\n",
        "Se multiplicarmos os elementos de uma linha ou de uma coluna da matriz por um valor n qualquer, o determinante também será multiplicado por n.\n",
        "- Multiplicou primeira linha por -1\n",
        "- Multiplicou segunda linha por 2\n",
        "- Multiplicou terceira linha por -1\n",
        "\n",
        "Logo novo det = 5 * (-1) * (-1) * 2 => `det = 10`\n",
        "\n",
        "\n",
        "#### c) [[a+d, b+e, c+f],[d,e,f],[g,h,i]]\n",
        "\n",
        "Se somarmos uma linha ou coluna à outra que foi multiplicada por um número, o determinante não será alterado. Dessa forma, `Det = 5`.\n",
        "\n",
        "#### d) [[a,b,c], [d-3a, e-3b, f-3c], [2g, 2h, 2i]]\n",
        "\n",
        "- Multiplicou ultima linha por 2 (multiplica det por 2)\n",
        "- Operou uma linha com a outra (nao altera det)\n",
        "logo det = 5 * 2 => `Det = 10`"
      ]
    },
    {
      "metadata": {
        "id": "wx99n9pdaV5v",
        "colab_type": "text"
      },
      "cell_type": "markdown",
      "source": [
        "### **Exercício 13 -** Sabendo que os valores reais γ e δ são tais que `det([[1,2,γ],[δ,1,1],[1,γ+δ,2]) = 1` calcule `det([[1,2,γ],[δ,δγ+δ<sup>2</sup>, 2δ],[δγ,γ,γ]])`"
      ]
    },
    {
      "metadata": {
        "id": "yXzdJKiwaV5w",
        "colab_type": "text"
      },
      "cell_type": "markdown",
      "source": [
        "- Multiplicou δ em L3 (multiplica det por δ)\n",
        "- Multiplicou L2 por γ (multiplica det por γ)\n",
        "- Trocou L2 por L3 (multiplica det por -1)\n",
        "\n",
        "Portanto det_novo = det_antigo * δ * γ * (-1 ) => `det = -δγ`"
      ]
    },
    {
      "metadata": {
        "id": "T0q7_X0ZaV5x",
        "colab_type": "text"
      },
      "cell_type": "markdown",
      "source": [
        "### **Exercício 14 -** Considere as Matrizes A e B"
      ]
    },
    {
      "metadata": {
        "id": "7N5CMWPfaV5x",
        "colab_type": "code",
        "colab": {}
      },
      "cell_type": "code",
      "source": [
        "A = Matrix([[1,0,1],[0,1,5],[3,0,1]])\n",
        "B = Matrix([[2,2,2],[0,2,2],[1,1,2]])"
      ],
      "execution_count": 0,
      "outputs": []
    },
    {
      "metadata": {
        "id": "GsyoS2b_aV5y",
        "colab_type": "text"
      },
      "cell_type": "markdown",
      "source": [
        "#### a) det(3A)"
      ]
    },
    {
      "metadata": {
        "id": "AxE2mm2QaV5y",
        "colab_type": "code",
        "colab": {},
        "outputId": "956d14d7-ea82-4317-a75e-5a3f3089ce1b"
      },
      "cell_type": "code",
      "source": [
        "det(3*A)"
      ],
      "execution_count": 0,
      "outputs": [
        {
          "output_type": "execute_result",
          "data": {
            "image/png": "[encoded data removed]",
            "text/latex": "$$-54$$",
            "text/plain": [
              "-54"
            ]
          },
          "metadata": {
            "tags": []
          },
          "execution_count": 62
        }
      ]
    },
    {
      "metadata": {
        "id": "m3xUJaVOaV50",
        "colab_type": "text"
      },
      "cell_type": "markdown",
      "source": [
        "#### b) det(A<sup>3</sup>B<sup>2</sup>)"
      ]
    },
    {
      "metadata": {
        "id": "2UPeem-caV50",
        "colab_type": "code",
        "colab": {},
        "outputId": "74771464-a9c8-40b1-e712-1fc6324b65b2"
      },
      "cell_type": "code",
      "source": [
        "det((A**3)*(B**2))"
      ],
      "execution_count": 0,
      "outputs": [
        {
          "output_type": "execute_result",
          "data": {
            "image/png": "[encoded data removed]",
            "text/latex": "$$-128$$",
            "text/plain": [
              "-128"
            ]
          },
          "metadata": {
            "tags": []
          },
          "execution_count": 63
        }
      ]
    },
    {
      "metadata": {
        "id": "Y4g7iXadaV51",
        "colab_type": "text"
      },
      "cell_type": "markdown",
      "source": [
        "#### c) det(A<sup>-1</sup>B<sup>T</sup>)"
      ]
    },
    {
      "metadata": {
        "id": "ytMfhBVqaV51",
        "colab_type": "code",
        "colab": {},
        "outputId": "1c4e30e6-fdf5-4328-d138-5ff6e03ffeb1"
      },
      "cell_type": "code",
      "source": [
        "det((A.inv())*(Transpose(B)))"
      ],
      "execution_count": 0,
      "outputs": [
        {
          "output_type": "execute_result",
          "data": {
            "image/png": "[encoded data removed]",
            "text/latex": "$$-2$$",
            "text/plain": [
              "-2"
            ]
          },
          "metadata": {
            "tags": []
          },
          "execution_count": 64
        }
      ]
    },
    {
      "metadata": {
        "id": "19Gtwzi2aV54",
        "colab_type": "text"
      },
      "cell_type": "markdown",
      "source": [
        "#### d) det(A<sup>4</sup>B<sup>-2</sup>)"
      ]
    },
    {
      "metadata": {
        "id": "KWdwPZzIaV54",
        "colab_type": "code",
        "colab": {},
        "outputId": "1b94d070-fa5f-44b1-a814-09745439f85c"
      },
      "cell_type": "code",
      "source": [
        "det((A**4)*((B.inv())**2))"
      ],
      "execution_count": 0,
      "outputs": [
        {
          "output_type": "execute_result",
          "data": {
            "image/png": "[encoded data removed]",
            "text/latex": "$$1$$",
            "text/plain": [
              "1"
            ]
          },
          "metadata": {
            "tags": []
          },
          "execution_count": 65
        }
      ]
    },
    {
      "metadata": {
        "id": "ijS_A-xEaV55",
        "colab_type": "text"
      },
      "cell_type": "markdown",
      "source": [
        "### **Exercício 15 -** Mostre que\n",
        "\n",
        "det([[λ, 1,1,1,1,1],\n",
        "[λ λ +1 2 2 2 2],\n",
        "[λ, λ, + 1, λ +2, 3, 3, 3],\n",
        "[λ, λ + 1, λ + 2, λ +3, 4, 4],\n",
        "[λ, λ + 1, λ + 2, λ + 3, λ +4, 5],\n",
        "[λ, λ + 1, λ + 2, λ + 3, λ + 4, λ + 5]])= λ6"
      ]
    },
    {
      "metadata": {
        "id": "Mp39z6RQaV56",
        "colab_type": "code",
        "colab": {},
        "outputId": "fd7ca3b0-4770-4e40-c62e-a2b1c5e3f8ef"
      },
      "cell_type": "code",
      "source": [
        "x, y, z, w, λ = symbols('x y z w λ')\n",
        "A = Matrix([[λ,1,1,1,1,1],[λ, λ +1, 2, 2, 2, 2],[λ, λ + 1, λ +2, 3, 3, 3], [λ, λ + 1, λ + 2, λ +3, 4, 4], [λ, λ + 1, λ + 2, λ + 3, λ +4, 5], [λ, λ + 1, λ + 2, λ + 3, λ + 4, λ + 5]])\n",
        "det(A)"
      ],
      "execution_count": 0,
      "outputs": [
        {
          "output_type": "execute_result",
          "data": {
            "image/png": "[encoded data removed]",
            "text/latex": "$$λ^{6}$$",
            "text/plain": [
              " 6\n",
              "λ "
            ]
          },
          "metadata": {
            "tags": []
          },
          "execution_count": 66
        }
      ]
    },
    {
      "metadata": {
        "id": "L7xCZYWeaV58",
        "colab_type": "text"
      },
      "cell_type": "markdown",
      "source": [
        "### **Exercício 16 -** Calcule o determinante da matriz\n",
        "\n",
        "B =\n",
        "\n",
        "λ, λ, λ, ... λ\n",
        "\n",
        "1, λ +1, 1, ... 1\n",
        "\n",
        "1, 1, λ + 1, ... 1 \n",
        "\n",
        "...\n",
        "\n",
        "1, 1, 1, 1, λ + 1\n",
        "\n",
        "**Resolução:** Independentemente do tamanho da matriz, podemos aplicar o seguinte procedimento:\n",
        "\n",
        "- **Op 1)** Multiplicar L1 da matriz por 1/λ, fazendo com que fique apenas 1's na primeira linha. (Lembrar que ao multiplicar o det cai em 1/λ)\n",
        "- **Op 2)** Em todas as outras linhas subtrair L1. Dessa forma removendo os 1's de toda a matriz menos a primeira linha. Sobrando apenas uma matriz na forma:\n",
        "\n",
        "\n",
        "1, 1, 1, ... 1\n",
        "\n",
        "0, λ, 0, ... 0\n",
        "\n",
        "0, 0, λ, ... 0\n",
        "\n",
        "...\n",
        "\n",
        "0, 0, 0, ... λ\n",
        "\n",
        "Cujo determinante é simples de calcular, por ser uma matriz diagonal inferior, seu determinante é a multiplicação da diagonal principal:  λ<sup>n-1</sup> . Porém, devemos lembrar de re-adicionar o λ do determinante removido na *Op 1*, e assim obtendo o resultado final: det = λλ<sup>n-1</sup> => **det =** λ<sup>n</sup>"
      ]
    },
    {
      "metadata": {
        "id": "l_eb6LbmaV58",
        "colab_type": "text"
      },
      "cell_type": "markdown",
      "source": [
        "### **Exercício 17 -** Mostre que det([[1,1,1],[λ<sub>1</sub>, λ<sub>2</sub>, λ<sub>3</sub>],[λ<sub>1</sub><sup>2</sup>, λ<sub>2</sub><sup>2</sup>, λ<sub>3</sub><sup>2</sup>]]) = (λ<sub>3</sub> - λ<sub>2</sub>)(λ<sub>3</sub> - λ<sub>1</sub>)(λ<sub>2</sub> - λ<sub>1</sub>)"
      ]
    },
    {
      "metadata": {
        "id": "ICZv3eL6aV58",
        "colab_type": "text"
      },
      "cell_type": "markdown",
      "source": [
        "#### Trocando λ<sub>1</sub>, λ<sub>2</sub>, λ<sub>3</sub> por a1, b1, c1"
      ]
    },
    {
      "metadata": {
        "id": "1JldQviHaV58",
        "colab_type": "code",
        "colab": {},
        "outputId": "6d0f0fb0-0e73-456c-99e7-84c3cf018570"
      },
      "cell_type": "code",
      "source": [
        "a1, b1, c1 = symbols('a1 b1 c1')\n",
        "\n",
        "A = Matrix([[1,1,1],[a1,b1,c1],[a1**2, b1**2, c1**2]])\n",
        "A"
      ],
      "execution_count": 0,
      "outputs": [
        {
          "output_type": "execute_result",
          "data": {
            "text/latex": "$$\\left[\\begin{matrix}1 & 1 & 1\\\\a_{1} & b_{1} & c_{1}\\\\a_{1}^{2} & b_{1}^{2} & c_{1}^{2}\\end{matrix}\\right]$$",
            "text/plain": [
              "⎡ 1    1    1 ⎤\n",
              "⎢             ⎥\n",
              "⎢a₁   b₁   c₁ ⎥\n",
              "⎢             ⎥\n",
              "⎢  2    2    2⎥\n",
              "⎣a₁   b₁   c₁ ⎦"
            ]
          },
          "metadata": {
            "tags": []
          },
          "execution_count": 67
        }
      ]
    },
    {
      "metadata": {
        "id": "xJH5i4WpaV59",
        "colab_type": "code",
        "colab": {},
        "outputId": "b7620ca2-73cd-4bdf-b6a2-0ffa7e685685"
      },
      "cell_type": "code",
      "source": [
        "A.det()"
      ],
      "execution_count": 0,
      "outputs": [
        {
          "output_type": "execute_result",
          "data": {
            "image/png": "[encoded data removed]",
            "text/latex": "$$- a_{1}^{2} b_{1} + a_{1}^{2} c_{1} + a_{1} b_{1}^{2} - a_{1} c_{1}^{2} - b_{1}^{2} c_{1} + b_{1} c_{1}^{2}$$",
            "text/plain": [
              "    2        2           2        2     2           2\n",
              "- a₁ ⋅b₁ + a₁ ⋅c₁ + a₁⋅b₁  - a₁⋅c₁  - b₁ ⋅c₁ + b₁⋅c₁ "
            ]
          },
          "metadata": {
            "tags": []
          },
          "execution_count": 68
        }
      ]
    },
    {
      "metadata": {
        "id": "fALYdeRDaV5_",
        "colab_type": "code",
        "colab": {},
        "outputId": "d2fc10d0-463f-46f6-973a-51e676a43f24"
      },
      "cell_type": "code",
      "source": [
        "exp = (c1 - b1)*(c1 - a1)*(b1 - a1)\n",
        "exp"
      ],
      "execution_count": 0,
      "outputs": [
        {
          "output_type": "execute_result",
          "data": {
            "image/png": "[encoded data removed]",
            "text/latex": "$$\\left(- a_{1} + b_{1}\\right) \\left(- a_{1} + c_{1}\\right) \\left(- b_{1} + c_{1}\\right)$$",
            "text/plain": [
              "(-a₁ + b₁)⋅(-a₁ + c₁)⋅(-b₁ + c₁)"
            ]
          },
          "metadata": {
            "tags": []
          },
          "execution_count": 69
        }
      ]
    },
    {
      "metadata": {
        "id": "I3faQno4aV6B",
        "colab_type": "code",
        "colab": {},
        "outputId": "5bce0ed9-2918-46e1-a49b-520efd019b89"
      },
      "cell_type": "code",
      "source": [
        "exp.expand()"
      ],
      "execution_count": 0,
      "outputs": [
        {
          "output_type": "execute_result",
          "data": {
            "image/png": "[encoded data removed]",
            "text/latex": "$$- a_{1}^{2} b_{1} + a_{1}^{2} c_{1} + a_{1} b_{1}^{2} - a_{1} c_{1}^{2} - b_{1}^{2} c_{1} + b_{1} c_{1}^{2}$$",
            "text/plain": [
              "    2        2           2        2     2           2\n",
              "- a₁ ⋅b₁ + a₁ ⋅c₁ + a₁⋅b₁  - a₁⋅c₁  - b₁ ⋅c₁ + b₁⋅c₁ "
            ]
          },
          "metadata": {
            "tags": []
          },
          "execution_count": 70
        }
      ]
    },
    {
      "metadata": {
        "id": "UE6diwcnaV6C",
        "colab_type": "code",
        "colab": {},
        "outputId": "7cba4f1c-2f87-4a69-cab7-1f1d28cd4571"
      },
      "cell_type": "code",
      "source": [
        "A.det() == exp.expand()"
      ],
      "execution_count": 0,
      "outputs": [
        {
          "output_type": "execute_result",
          "data": {
            "text/plain": [
              "True"
            ]
          },
          "metadata": {
            "tags": []
          },
          "execution_count": 71
        }
      ]
    },
    {
      "metadata": {
        "id": "xOLTLDLaaV6F",
        "colab_type": "text"
      },
      "cell_type": "markdown",
      "source": [
        "Podemos ver que ao expandir ambos os lados chegamos nos mesmos valores e, portanto, mostrando que a igualdade é válida.\n",
        "\n",
        "\n",
        "## Fim :)"
      ]
    }
  ]
}