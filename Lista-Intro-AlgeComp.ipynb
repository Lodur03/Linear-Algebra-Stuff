{
 "cells": [
  {
   "cell_type": "markdown",
   "metadata": {
    "colab_type": "text",
    "id": "z36ZtJ_QaV2j"
   },
   "source": [
    "## Lista de Exercícios de Álgebra Computacional\n"
   ]
  },
  {
   "cell_type": "code",
   "execution_count": 0,
   "metadata": {
    "colab": {},
    "colab_type": "code",
    "id": "j_VKZ_iGaV2k"
   },
   "outputs": [],
   "source": [
    "import numpy as np\n",
    "from sympy import *\n",
    "init_printing(use_unicode=True)"
   ]
  },
  {
   "cell_type": "markdown",
   "metadata": {
    "colab_type": "text",
    "id": "xvy-3I4QaV2n"
   },
   "source": [
    "### **Exercício 1 -** Resolva por eliminação de Gauss o sistemas de equações lineares:"
   ]
  },
  {
   "cell_type": "code",
   "execution_count": 0,
   "metadata": {
    "colab": {},
    "colab_type": "code",
    "id": "77jWD8a-aV2o"
   },
   "outputs": [],
   "source": [
    "# Simbolos\n",
    "x, y, z, w = symbols('x y z w')"
   ]
  },
  {
   "cell_type": "markdown",
   "metadata": {
    "colab_type": "text",
    "id": "36Z7fJ-RaV2q"
   },
   "source": [
    "#### a) x + 2y = 1, x + 3y = 0"
   ]
  },
  {
   "cell_type": "code",
   "execution_count": 0,
   "metadata": {
    "colab": {},
    "colab_type": "code",
    "id": "KteQlwaaaV2q"
   },
   "outputs": [],
   "source": []
  },
  {
   "cell_type": "markdown",
   "metadata": {
    "colab_type": "text",
    "id": "WBZT_s21aV2v"
   },
   "source": [
    "#### b)  2x + 3y = 1, 4x + 6y = 2"
   ]
  },
  {
   "cell_type": "code",
   "execution_count": 0,
   "metadata": {
    "colab": {},
    "colab_type": "code",
    "id": "g7fR8kj9aV2w"
   },
   "outputs": [],
   "source": []
  },
  {
   "cell_type": "markdown",
   "metadata": {
    "colab_type": "text",
    "id": "prvcX1aPaV2z"
   },
   "source": [
    "#### c) 4x + 5y = 1, 12x + 15y = 0"
   ]
  },
  {
   "cell_type": "code",
   "execution_count": 0,
   "metadata": {
    "colab": {},
    "colab_type": "code",
    "id": "P8ZHqcWdaV20"
   },
   "outputs": [],
   "source": []
  },
  {
   "cell_type": "markdown",
   "metadata": {
    "colab": {},
    "colab_type": "code",
    "id": "0Djx0IIoaV23"
   },
   "source": [
    "**d) x + y = 1, 3x - y = 2, x - y = 0**"
   ]
  },
  {
   "cell_type": "code",
   "execution_count": null,
   "metadata": {},
   "outputs": [],
   "source": []
  },
  {
   "cell_type": "markdown",
   "metadata": {
    "colab_type": "text",
    "id": "pJdfebkxaV27"
   },
   "source": [
    "#### e) 2x + 2y + 3z = 1, 1x + 2y + 1z = 0, 1x -1y + 1z = 0"
   ]
  },
  {
   "cell_type": "code",
   "execution_count": 0,
   "metadata": {
    "colab": {},
    "colab_type": "code",
    "id": "ERHtORBraV28"
   },
   "outputs": [],
   "source": []
  },
  {
   "cell_type": "markdown",
   "metadata": {
    "colab_type": "text",
    "id": "Wd-jFmXzaV3B"
   },
   "source": [
    "#### f) x + 2y + 3z = 1, 4x + 7y + 7z = 3, 2x + 3y + z = 0"
   ]
  },
  {
   "cell_type": "code",
   "execution_count": 0,
   "metadata": {
    "colab": {},
    "colab_type": "code",
    "id": "VZNQ9yvRaV3B"
   },
   "outputs": [],
   "source": []
  },
  {
   "cell_type": "markdown",
   "metadata": {
    "colab_type": "text",
    "id": "FoGmyGm-aV3E"
   },
   "source": [
    "#### g) x + 2y + z = 0, 4x + 10y + 10z = 0, x + 3y + 4z =0"
   ]
  },
  {
   "cell_type": "code",
   "execution_count": 0,
   "metadata": {
    "colab": {},
    "colab_type": "code",
    "id": "dVdGxq6TaV3E"
   },
   "outputs": [],
   "source": []
  },
  {
   "cell_type": "markdown",
   "metadata": {
    "colab_type": "text",
    "id": "p5TYD09JaV3I"
   },
   "source": [
    "#### h) 2x + 3y + z = 0, x + y + z = 0"
   ]
  },
  {
   "cell_type": "code",
   "execution_count": 0,
   "metadata": {
    "colab": {},
    "colab_type": "code",
    "id": "S5XplyCraV3J"
   },
   "outputs": [],
   "source": []
  },
  {
   "cell_type": "markdown",
   "metadata": {
    "colab_type": "text",
    "id": "YHCgPmVFaV3M"
   },
   "source": [
    "#### i) 2x1 + x2 + x3 + x4 = 1, 2x1 + x2 - x3 + x4 = 3 "
   ]
  },
  {
   "cell_type": "code",
   "execution_count": 0,
   "metadata": {
    "colab": {},
    "colab_type": "code",
    "id": "Ibj8F_XBaV3N"
   },
   "outputs": [],
   "source": []
  },
  {
   "cell_type": "markdown",
   "metadata": {
    "colab_type": "text",
    "id": "H3x3MKAsaV3P"
   },
   "source": [
    "#### j) 2x + 2y + 2z + 3w = 3, x + y + z + w = 1, 3x + 3y + 3z + 2w = 2"
   ]
  },
  {
   "cell_type": "code",
   "execution_count": 0,
   "metadata": {
    "colab": {},
    "colab_type": "code",
    "id": "cN83Ll_gaV3Q"
   },
   "outputs": [],
   "source": []
  },
  {
   "cell_type": "markdown",
   "metadata": {
    "colab_type": "text",
    "id": "vOJgF9cPaV3S"
   },
   "source": [
    "#### k) x + z + 2w = 0, 2x + 3z + 3w = 0, y + 2w = 2, x + 2z + w = 0"
   ]
  },
  {
   "cell_type": "code",
   "execution_count": 0,
   "metadata": {
    "colab": {},
    "colab_type": "code",
    "id": "QZfkCfA6aV3S"
   },
   "outputs": [],
   "source": []
  },
  {
   "cell_type": "markdown",
   "metadata": {
    "colab_type": "text",
    "id": "2-9VvvmQaV3V"
   },
   "source": [
    "#### l) y1 + y3 + 2y4 = 0, y1 + 2y2 + y3 + y4 = 1, y2 + 2y4 = 8, y1 + 2y3 + y4 = 0"
   ]
  },
  {
   "cell_type": "code",
   "execution_count": 0,
   "metadata": {
    "colab": {},
    "colab_type": "code",
    "id": "Ro5GZoqyaV3W"
   },
   "outputs": [],
   "source": []
  },
  {
   "cell_type": "markdown",
   "metadata": {
    "colab_type": "text",
    "id": "wOqEQSaYaV3c"
   },
   "source": [
    "### **Exercício 2 -** Discuta em função dos parâmetros a e b, os seguintes sistemas de equações lineares:\n",
    "\n",
    "#### a) x + 4y + 3z = 10, 2x + 7y − 2z = 10, x + 5y + αz = β"
   ]
  },
  {
   "cell_type": "code",
   "execution_count": 0,
   "metadata": {
    "colab": {},
    "colab_type": "code",
    "id": "GJqEmCndaV3d"
   },
   "outputs": [],
   "source": []
  },
  {
   "cell_type": "markdown",
   "metadata": {
    "colab_type": "text",
    "id": "PlsAvv7QaV3l"
   },
   "source": [
    "#### b) 2x + y + z = −6β, αx + 3y + 2z = 2β, 2x + y + (α + 1) z = 4"
   ]
  },
  {
   "cell_type": "code",
   "execution_count": 0,
   "metadata": {
    "colab": {},
    "colab_type": "code",
    "id": "vP52hfDNaV3m"
   },
   "outputs": [],
   "source": []
  },
  {
   "cell_type": "markdown",
   "metadata": {
    "colab_type": "text",
    "id": "TLpsTeSMaV38"
   },
   "source": [
    "### **Exercício 3 -** Considere o sistema de equações lineares\n",
    "\n",
    "- x + y + 3z = b1\n",
    "- 2x + 2y − z = b2\n",
    "- 4x + 4y + 5z = b3\n",
    "\n",
    "e calcule os vectores (b1, b2, b3) ∈ R3 para os quais o sistema é possível."
   ]
  },
  {
   "cell_type": "code",
   "execution_count": 0,
   "metadata": {
    "colab": {},
    "colab_type": "code",
    "id": "F4RUz584aV39"
   },
   "outputs": [],
   "source": []
  },
  {
   "cell_type": "markdown",
   "metadata": {
    "colab_type": "text",
    "id": "91BWfiepaV4C"
   },
   "source": [
    "### **Exercício 4 -** Determine um sistema de equações lineares cujo conjunto de soluções seja:\n",
    "\n",
    "#### a) S = {(1 + t, 1 − t) : t ∈ R};"
   ]
  },
  {
   "cell_type": "code",
   "execution_count": 0,
   "metadata": {
    "colab": {},
    "colab_type": "code",
    "id": "GthDa_cfaV4C"
   },
   "outputs": [],
   "source": []
  },
  {
   "cell_type": "markdown",
   "metadata": {
    "colab_type": "text",
    "id": "9k0JTpdAaV4E"
   },
   "source": [
    "#### b) S = {(t, 1 − 2t, 1) : t ∈ R};"
   ]
  },
  {
   "cell_type": "code",
   "execution_count": 0,
   "metadata": {
    "colab": {},
    "colab_type": "code",
    "id": "1hTN1NnuaV4F"
   },
   "outputs": [],
   "source": []
  },
  {
   "cell_type": "markdown",
   "metadata": {
    "colab_type": "text",
    "id": "SNfq-PO9aV4H"
   },
   "source": [
    "#### c) S = {(3t, 2t, t) : s, t ∈ R};"
   ]
  },
  {
   "cell_type": "code",
   "execution_count": 0,
   "metadata": {
    "colab": {},
    "colab_type": "code",
    "id": "a1VS4MYXaV4I"
   },
   "outputs": [],
   "source": []
  },
  {
   "cell_type": "markdown",
   "metadata": {
    "colab_type": "text",
    "id": "-_FbhWDtaV4K"
   },
   "source": [
    "#### d) S = {(3t, 2s, t − 1) : s, t ∈ R};"
   ]
  },
  {
   "cell_type": "code",
   "execution_count": 0,
   "metadata": {
    "colab": {},
    "colab_type": "code",
    "id": "S3XyW8pfaV4L"
   },
   "outputs": [],
   "source": []
  },
  {
   "cell_type": "markdown",
   "metadata": {
    "colab_type": "text",
    "id": "6m4pXsA8aV4M"
   },
   "source": [
    "#### e) S = {(1 − t, 2s, t) : s, t ∈ R};"
   ]
  },
  {
   "cell_type": "code",
   "execution_count": 0,
   "metadata": {
    "colab": {},
    "colab_type": "code",
    "id": "WRZH1_pAaV4M"
   },
   "outputs": [],
   "source": []
  },
  {
   "cell_type": "markdown",
   "metadata": {
    "colab_type": "text",
    "id": "1ogYsf7laV4Q"
   },
   "source": [
    "### **Exercício 5 -** Sempre que possível calcule:\n",
    "\n",
    "#### a) 2[[1,0],[2,1]] + 3[[0,2],[6,1]]"
   ]
  },
  {
   "cell_type": "code",
   "execution_count": 0,
   "metadata": {
    "colab": {},
    "colab_type": "code",
    "id": "iYtMQUdLaV4Q"
   },
   "outputs": [],
   "source": []
  },
  {
   "cell_type": "markdown",
   "metadata": {
    "colab_type": "text",
    "id": "Ah8lP1EJaV4T"
   },
   "source": [
    "#### b) [1,2] + [[0],[2]]"
   ]
  },
  {
   "cell_type": "code",
   "execution_count": 0,
   "metadata": {
    "colab": {},
    "colab_type": "code",
    "id": "741kzipIaV4U"
   },
   "outputs": [],
   "source": []
  },
  {
   "cell_type": "markdown",
   "metadata": {
    "colab_type": "text",
    "id": "7ge7LK_oaV4X"
   },
   "source": [
    "#### c) [[1,0],[0,1]] [[2],[3],[1]]"
   ]
  },
  {
   "cell_type": "code",
   "execution_count": 0,
   "metadata": {
    "colab": {},
    "colab_type": "code",
    "id": "cH7weUOhaV4Y"
   },
   "outputs": [],
   "source": []
  },
  {
   "cell_type": "markdown",
   "metadata": {
    "colab_type": "text",
    "id": "hX3ZHYujaV4b"
   },
   "source": [
    "#### d) [[1,0,2]] [[2],[3],[1]]"
   ]
  },
  {
   "cell_type": "code",
   "execution_count": 0,
   "metadata": {
    "colab": {},
    "colab_type": "code",
    "id": "E3LZ67uraV4c"
   },
   "outputs": [],
   "source": []
  },
  {
   "cell_type": "markdown",
   "metadata": {
    "colab_type": "text",
    "id": "AZtchQeSaV4e"
   },
   "source": [
    "#### e) [[1,0],[0,0]] [[0,1],[1,0]]"
   ]
  },
  {
   "cell_type": "code",
   "execution_count": 0,
   "metadata": {
    "colab": {},
    "colab_type": "code",
    "id": "lJUuPtx8aV4g"
   },
   "outputs": [],
   "source": []
  },
  {
   "cell_type": "markdown",
   "metadata": {
    "colab_type": "text",
    "id": "ibX9mIL2aV4i"
   },
   "source": [
    "#### f) [[0,1],[1,0]] [[1,0],[0,0]]"
   ]
  },
  {
   "cell_type": "code",
   "execution_count": 0,
   "metadata": {
    "colab": {},
    "colab_type": "code",
    "id": "T2zNBVNPaV4j"
   },
   "outputs": [],
   "source": []
  },
  {
   "cell_type": "markdown",
   "metadata": {
    "colab_type": "text",
    "id": "4nrorjzVaV4l"
   },
   "source": [
    "#### g) [[1,2],[3,1],[0,3]] [[1,0,1],[2,1,0]]"
   ]
  },
  {
   "cell_type": "code",
   "execution_count": 0,
   "metadata": {
    "colab": {},
    "colab_type": "code",
    "id": "lb0gwknwaV4m"
   },
   "outputs": [],
   "source": []
  },
  {
   "cell_type": "markdown",
   "metadata": {
    "colab_type": "text",
    "id": "mfRm71oVaV4o"
   },
   "source": [
    "#### h) [[1,2,0], [3,1,1]] [[1,0,1],[0,1,0],[1,0,1]]"
   ]
  },
  {
   "cell_type": "code",
   "execution_count": 0,
   "metadata": {
    "colab": {},
    "colab_type": "code",
    "id": "0qFhBlVOaV4o"
   },
   "outputs": [],
   "source": []
  },
  {
   "cell_type": "markdown",
   "metadata": {
    "colab_type": "text",
    "id": "kmJ_1dKGaV4q"
   },
   "source": [
    "#### i) [[1,0,0],[0,1,0],[0,0,1]] [[30,4],[2,10],[2,20]]"
   ]
  },
  {
   "cell_type": "code",
   "execution_count": 0,
   "metadata": {
    "colab": {},
    "colab_type": "code",
    "id": "2k_kH_MXaV4q"
   },
   "outputs": [],
   "source": []
  },
  {
   "cell_type": "markdown",
   "metadata": {
    "colab_type": "text",
    "id": "JtDJ2q4QaV4s"
   },
   "source": [
    "#### j) [[0,0,1],[0,1,0],[1,0,0]] [[30,4],[2,10],[2,20]]"
   ]
  },
  {
   "cell_type": "code",
   "execution_count": 0,
   "metadata": {
    "colab": {},
    "colab_type": "code",
    "id": "ztX3nX_aaV4s"
   },
   "outputs": [],
   "source": []
  },
  {
   "cell_type": "markdown",
   "metadata": {
    "colab_type": "text",
    "id": "l6TcEIWFaV4u"
   },
   "source": [
    "#### k) [[1,0,0],[0,1,0],[0,0,3]] [[30,4],[2,10],[2,20]]"
   ]
  },
  {
   "cell_type": "code",
   "execution_count": 0,
   "metadata": {
    "colab": {},
    "colab_type": "code",
    "id": "GLhCN-sRaV4u"
   },
   "outputs": [],
   "source": []
  },
  {
   "cell_type": "markdown",
   "metadata": {
    "colab_type": "text",
    "id": "9vt_9t1GaV4x"
   },
   "source": [
    "#### l) [[1,0,0],[0,1,0],[2,0,1]] [[30,4],[2,10],[2,20]]"
   ]
  },
  {
   "cell_type": "code",
   "execution_count": 0,
   "metadata": {
    "colab": {},
    "colab_type": "code",
    "id": "_gqPSSAzaV4x"
   },
   "outputs": [],
   "source": []
  },
  {
   "cell_type": "markdown",
   "metadata": {
    "colab_type": "text",
    "id": "A9RSsRw8aV4z"
   },
   "source": [
    "### **Exercício 6 -** Mostre que a inversa de uma matriz A ∈ Rn×n, quando existe, é única."
   ]
  },
  {
   "cell_type": "code",
   "execution_count": null,
   "metadata": {},
   "outputs": [],
   "source": []
  },
  {
   "cell_type": "markdown",
   "metadata": {
    "colab_type": "text",
    "id": "ZbKILz5faV41"
   },
   "source": [
    "### **Exercício 7 -** Mostre que se as matrizes A e B ∈ Rn×n são invertíveis, então também AB é invertível, tendo-se ainda (AB)<sup>−1</sup> = B<sup>−1</sup>A<sup>−1</sup>."
   ]
  },
  {
   "cell_type": "markdown",
   "metadata": {
    "colab_type": "text",
    "id": "YEvmqYcraV42"
   },
   "source": []
  },
  {
   "cell_type": "markdown",
   "metadata": {
    "colab_type": "text",
    "id": "-_dAzMmgaV42"
   },
   "source": [
    "### **Exercício 8 -** Mostre que qualquer matriz invertível se pode decompor no produto de matrizes elementares."
   ]
  },
  {
   "cell_type": "code",
   "execution_count": null,
   "metadata": {},
   "outputs": [],
   "source": []
  },
  {
   "cell_type": "markdown",
   "metadata": {
    "colab_type": "text",
    "id": "6SlMOUxFaV43"
   },
   "source": [
    "### **Exercício 9 -** Sempre que possível, calcule a inversa de cada uma das seguintes matrizes:"
   ]
  },
  {
   "cell_type": "markdown",
   "metadata": {
    "colab_type": "text",
    "id": "5fiqnFWhaV44"
   },
   "source": [
    "#### a) [[0,0],[0,0]]"
   ]
  },
  {
   "cell_type": "code",
   "execution_count": 0,
   "metadata": {
    "colab": {},
    "colab_type": "code",
    "id": "-TgjM_GnaV45"
   },
   "outputs": [],
   "source": []
  },
  {
   "cell_type": "markdown",
   "metadata": {
    "colab_type": "text",
    "id": "PeWArfGKaV47"
   },
   "source": [
    "#### b) [[1,0],[0,1]]"
   ]
  },
  {
   "cell_type": "code",
   "execution_count": 0,
   "metadata": {
    "colab": {},
    "colab_type": "code",
    "id": "vRhpmwtNaV48"
   },
   "outputs": [],
   "source": []
  },
  {
   "cell_type": "markdown",
   "metadata": {
    "colab_type": "text",
    "id": "rGAHfBnVaV49"
   },
   "source": [
    "#### c) [[1,2],[2,1]]"
   ]
  },
  {
   "cell_type": "code",
   "execution_count": 0,
   "metadata": {
    "colab": {},
    "colab_type": "code",
    "id": "cn5Yc6Q8aV4-"
   },
   "outputs": [],
   "source": []
  },
  {
   "cell_type": "markdown",
   "metadata": {
    "colab_type": "text",
    "id": "ngI8GCuzaV5A"
   },
   "source": [
    "#### d) [[1,0,0],[1,1,0],[1,1,1]]"
   ]
  },
  {
   "cell_type": "code",
   "execution_count": 0,
   "metadata": {
    "colab": {},
    "colab_type": "code",
    "id": "DJNN3fuYaV5A"
   },
   "outputs": [],
   "source": []
  },
  {
   "cell_type": "markdown",
   "metadata": {
    "colab_type": "text",
    "id": "YXbMHQ4YaV5D"
   },
   "source": [
    "#### e) [[1,-1,0],[1,1,-1],[0,1,1]]"
   ]
  },
  {
   "cell_type": "code",
   "execution_count": 0,
   "metadata": {
    "colab": {},
    "colab_type": "code",
    "id": "Gv6I_mfLaV5E"
   },
   "outputs": [],
   "source": []
  },
  {
   "cell_type": "markdown",
   "metadata": {
    "colab_type": "text",
    "id": "Ywf3uRiWaV5F"
   },
   "source": [
    "#### f) [[1,0,1],[0,1,0],[3,3,3]]"
   ]
  },
  {
   "cell_type": "code",
   "execution_count": 0,
   "metadata": {
    "colab": {},
    "colab_type": "code",
    "id": "3wXnLqZyaV5G"
   },
   "outputs": [],
   "source": []
  },
  {
   "cell_type": "markdown",
   "metadata": {
    "colab_type": "text",
    "id": "8hr_EukVaV5J"
   },
   "source": [
    "#### g) [[1,2,3,4],[0,1,2,3],[0,0,1,2],[0,0,0,1]]"
   ]
  },
  {
   "cell_type": "code",
   "execution_count": 0,
   "metadata": {
    "colab": {},
    "colab_type": "code",
    "id": "2TxfwBGFaV5J"
   },
   "outputs": [],
   "source": []
  },
  {
   "cell_type": "markdown",
   "metadata": {
    "colab_type": "text",
    "id": "iy_95w0LaV5L"
   },
   "source": [
    "#### h) [[1,0,1,0],[0,1,0,1],[1,0,2,1],[1,-1,1,0]]"
   ]
  },
  {
   "cell_type": "code",
   "execution_count": 0,
   "metadata": {
    "colab": {},
    "colab_type": "code",
    "id": "NEfOZeI5aV5L"
   },
   "outputs": [],
   "source": []
  },
  {
   "cell_type": "markdown",
   "metadata": {
    "colab_type": "text",
    "id": "2EnnvwbYaV5N"
   },
   "source": [
    "### **Exercício 10 -** Utilizando o exercício anterior, Resolva os sistemas de equações lineares:"
   ]
  },
  {
   "cell_type": "markdown",
   "metadata": {
    "colab_type": "text",
    "id": "Qw7YAGlFaV5O"
   },
   "source": [
    "#### a)\n",
    "- x − y = 0\n",
    "- x + y − z = 1\n",
    "- y + z = −1\n",
    "\n",
    "Como Ax = b <=> x = A<sup>-1</sup> b, você pode usar a inversa ja calculada para obter o resultado."
   ]
  },
  {
   "cell_type": "code",
   "execution_count": 0,
   "metadata": {
    "colab": {},
    "colab_type": "code",
    "id": "Ecaj3ZbQaV5O"
   },
   "outputs": [],
   "source": []
  },
  {
   "cell_type": "markdown",
   "metadata": {
    "colab_type": "text",
    "id": "BWiDs-UxaV5Q"
   },
   "source": [
    "#### b)\n",
    "- x + z = 1\n",
    "- y + w = 1\n",
    "- x + 2z + w = −1\n",
    "- x − y + z = 1\n",
    "\n"
   ]
  },
  {
   "cell_type": "code",
   "execution_count": 0,
   "metadata": {
    "colab": {},
    "colab_type": "code",
    "id": "Xd01Ptt5aV5Q"
   },
   "outputs": [],
   "source": []
  },
  {
   "cell_type": "markdown",
   "metadata": {
    "colab_type": "text",
    "id": "LeGC48dAaV5T"
   },
   "source": [
    "### **Exercício 11 -** Calcule o determinante de cada uma das seguintes matrizes e indique as que são invertíveis\n",
    "\n",
    "#### a) [[1,2],[2,1]]"
   ]
  },
  {
   "cell_type": "code",
   "execution_count": 0,
   "metadata": {
    "colab": {},
    "colab_type": "code",
    "id": "aXpsPjIiaV5U"
   },
   "outputs": [],
   "source": []
  },
  {
   "cell_type": "markdown",
   "metadata": {
    "colab_type": "text",
    "id": "IBOSABKFaV5X"
   },
   "source": [
    "#### b) [[1,1],[1,1]]"
   ]
  },
  {
   "cell_type": "code",
   "execution_count": 0,
   "metadata": {
    "colab": {},
    "colab_type": "code",
    "id": "8kbl5vuAaV5Y"
   },
   "outputs": [],
   "source": []
  },
  {
   "cell_type": "markdown",
   "metadata": {
    "colab_type": "text",
    "id": "HQx3s_wdaV5b"
   },
   "source": [
    "#### c) [[1,0,3],[0,3,1],[0,0,3]]"
   ]
  },
  {
   "cell_type": "code",
   "execution_count": 0,
   "metadata": {
    "colab": {},
    "colab_type": "code",
    "id": "uuCvKbnGaV5b"
   },
   "outputs": [],
   "source": []
  },
  {
   "cell_type": "markdown",
   "metadata": {
    "colab_type": "text",
    "id": "sxDKcMR5aV5c"
   },
   "source": [
    "\n",
    "#### d) [[1,0,0],[1,1,0],[1,1,1]]\n"
   ]
  },
  {
   "cell_type": "code",
   "execution_count": 0,
   "metadata": {
    "colab": {},
    "colab_type": "code",
    "id": "OpKF001MaV5d"
   },
   "outputs": [],
   "source": []
  },
  {
   "cell_type": "markdown",
   "metadata": {
    "colab_type": "text",
    "id": "foyy51SOaV5f"
   },
   "source": [
    "#### e) [[3,0,0],[0,1,-2],[0,5,0]]\n"
   ]
  },
  {
   "cell_type": "code",
   "execution_count": 0,
   "metadata": {
    "colab": {},
    "colab_type": "code",
    "id": "CngvER4VaV5f"
   },
   "outputs": [],
   "source": []
  },
  {
   "cell_type": "markdown",
   "metadata": {
    "colab_type": "text",
    "id": "QYAP9mA7aV5j"
   },
   "source": [
    "#### f) [[1,-1,1],[1,1,3],[0,1,1]]\n"
   ]
  },
  {
   "cell_type": "code",
   "execution_count": 0,
   "metadata": {
    "colab": {},
    "colab_type": "code",
    "id": "rkU3jj5JaV5j"
   },
   "outputs": [],
   "source": []
  },
  {
   "cell_type": "markdown",
   "metadata": {
    "colab_type": "text",
    "id": "2VDZYTvKaV5m"
   },
   "source": [
    "#### g) [[1,12,22,31],[0,3,11,16],[0,0,1,10],[0,0,0,1]]\n"
   ]
  },
  {
   "cell_type": "code",
   "execution_count": 0,
   "metadata": {
    "colab": {},
    "colab_type": "code",
    "id": "kjxHUUIsaV5m"
   },
   "outputs": [],
   "source": []
  },
  {
   "cell_type": "markdown",
   "metadata": {
    "colab_type": "text",
    "id": "2HSGRAHPaV5m"
   },
   "source": [
    "#### h) [[1,0,0,3],[1,1,0,3],[0,3,1,1],[0,2,2,2]]"
   ]
  },
  {
   "cell_type": "code",
   "execution_count": 0,
   "metadata": {
    "colab": {},
    "colab_type": "code",
    "id": "pRyLxb89aV5n"
   },
   "outputs": [],
   "source": []
  },
  {
   "cell_type": "markdown",
   "metadata": {
    "colab_type": "text",
    "id": "zGCEvfqgaV5p"
   },
   "source": [
    "#### i) [[1,0,0,2],[0,1,2,3],[0,2,1,2],[3,3,0,1]]"
   ]
  },
  {
   "cell_type": "code",
   "execution_count": 0,
   "metadata": {
    "colab": {},
    "colab_type": "code",
    "id": "IaRfElykaV5p"
   },
   "outputs": [],
   "source": []
  },
  {
   "cell_type": "markdown",
   "metadata": {
    "colab_type": "text",
    "id": "LjTfJRSLaV5v"
   },
   "source": [
    "### **Exercício 12 -** Sabendo que `det([[a,b,c],[d,e,f],[g,h,i]]) = 5`, calcule os determinantes:\n",
    "\n",
    "#### a) [[d,e,f],[g,h,i],[a,b,c]]\n",
    "\n",
    "\n",
    "#### b) [[-a,-b,-c],[2d, 2e, 2f],[-g,-h,-i]]\n",
    "\n",
    "\n",
    "#### c) [[a+d, b+e, c+f],[d,e,f],[g,h,i]]\n",
    "\n",
    "\n",
    "#### d) [[a,b,c], [d-3a, e-3b, f-3c], [2g, 2h, 2i]]\n",
    "\n"
   ]
  },
  {
   "cell_type": "code",
   "execution_count": null,
   "metadata": {},
   "outputs": [],
   "source": []
  },
  {
   "cell_type": "code",
   "execution_count": null,
   "metadata": {},
   "outputs": [],
   "source": []
  },
  {
   "cell_type": "code",
   "execution_count": null,
   "metadata": {},
   "outputs": [],
   "source": []
  },
  {
   "cell_type": "code",
   "execution_count": null,
   "metadata": {},
   "outputs": [],
   "source": []
  },
  {
   "cell_type": "code",
   "execution_count": null,
   "metadata": {},
   "outputs": [],
   "source": []
  },
  {
   "cell_type": "markdown",
   "metadata": {
    "colab_type": "text",
    "id": "wx99n9pdaV5v"
   },
   "source": [
    "### **Exercício 13 -** Sabendo que os valores reais γ e δ são tais que `det([[1,2,γ],[δ,1,1],[1,γ+δ,2]) = 1` calcule `det([[1,2,γ],[δ,δγ+δ<sup>2</sup>, 2δ],[δγ,γ,γ]])`"
   ]
  },
  {
   "cell_type": "code",
   "execution_count": null,
   "metadata": {},
   "outputs": [],
   "source": []
  },
  {
   "cell_type": "markdown",
   "metadata": {
    "colab_type": "text",
    "id": "T0q7_X0ZaV5x"
   },
   "source": [
    "### **Exercício 14 -** Considere as Matrizes A e B"
   ]
  },
  {
   "cell_type": "code",
   "execution_count": 0,
   "metadata": {
    "colab": {},
    "colab_type": "code",
    "id": "7N5CMWPfaV5x"
   },
   "outputs": [],
   "source": [
    "A = Matrix([[1,0,1],[0,1,5],[3,0,1]])\n",
    "B = Matrix([[2,2,2],[0,2,2],[1,1,2]])"
   ]
  },
  {
   "cell_type": "markdown",
   "metadata": {
    "colab_type": "text",
    "id": "GsyoS2b_aV5y"
   },
   "source": [
    "#### a) det(3A)"
   ]
  },
  {
   "cell_type": "code",
   "execution_count": 0,
   "metadata": {
    "colab": {},
    "colab_type": "code",
    "id": "AxE2mm2QaV5y"
   },
   "outputs": [],
   "source": []
  },
  {
   "cell_type": "markdown",
   "metadata": {
    "colab_type": "text",
    "id": "m3xUJaVOaV50"
   },
   "source": [
    "#### b) det(A<sup>3</sup>B<sup>2</sup>)"
   ]
  },
  {
   "cell_type": "code",
   "execution_count": 0,
   "metadata": {
    "colab": {},
    "colab_type": "code",
    "id": "2UPeem-caV50"
   },
   "outputs": [],
   "source": []
  },
  {
   "cell_type": "markdown",
   "metadata": {
    "colab_type": "text",
    "id": "Y4g7iXadaV51"
   },
   "source": [
    "#### c) det(A<sup>-1</sup>B<sup>T</sup>)"
   ]
  },
  {
   "cell_type": "code",
   "execution_count": 0,
   "metadata": {
    "colab": {},
    "colab_type": "code",
    "id": "ytMfhBVqaV51"
   },
   "outputs": [],
   "source": []
  },
  {
   "cell_type": "markdown",
   "metadata": {
    "colab_type": "text",
    "id": "19Gtwzi2aV54"
   },
   "source": [
    "#### d) det(A<sup>4</sup>B<sup>-2</sup>)"
   ]
  },
  {
   "cell_type": "code",
   "execution_count": 0,
   "metadata": {
    "colab": {},
    "colab_type": "code",
    "id": "KWdwPZzIaV54"
   },
   "outputs": [],
   "source": []
  },
  {
   "cell_type": "markdown",
   "metadata": {
    "colab_type": "text",
    "id": "ijS_A-xEaV55"
   },
   "source": [
    "### **Exercício 15 -** Mostre que\n",
    "\n",
    "det([[λ, 1,1,1,1,1],\n",
    "[λ λ +1 2 2 2 2],\n",
    "[λ, λ, + 1, λ +2, 3, 3, 3],\n",
    "[λ, λ + 1, λ + 2, λ +3, 4, 4],\n",
    "[λ, λ + 1, λ + 2, λ + 3, λ +4, 5],\n",
    "[λ, λ + 1, λ + 2, λ + 3, λ + 4, λ + 5]])= λ6"
   ]
  },
  {
   "cell_type": "code",
   "execution_count": 0,
   "metadata": {
    "colab": {},
    "colab_type": "code",
    "id": "Mp39z6RQaV56"
   },
   "outputs": [],
   "source": []
  },
  {
   "cell_type": "markdown",
   "metadata": {
    "colab_type": "text",
    "id": "L7xCZYWeaV58"
   },
   "source": [
    "### **Exercício 16 -** Calcule o determinante da matriz\n",
    "\n",
    "B =\n",
    "\n",
    "λ, λ, λ, ... λ\n",
    "\n",
    "1, λ +1, 1, ... 1\n",
    "\n",
    "1, 1, λ + 1, ... 1 \n",
    "\n",
    "...\n",
    "\n",
    "1, 1, 1, 1, λ + 1\n",
    "\n",
    "**Resolução:** "
   ]
  },
  {
   "cell_type": "markdown",
   "metadata": {
    "colab_type": "text",
    "id": "l_eb6LbmaV58"
   },
   "source": [
    "### **Exercício 17 -** Mostre que det([[1,1,1],[λ<sub>1</sub>, λ<sub>2</sub>, λ<sub>3</sub>],[λ<sub>1</sub><sup>2</sup>, λ<sub>2</sub><sup>2</sup>, λ<sub>3</sub><sup>2</sup>]]) = (λ<sub>3</sub> - λ<sub>2</sub>)(λ<sub>3</sub> - λ<sub>1</sub>)(λ<sub>2</sub> - λ<sub>1</sub>)"
   ]
  },
  {
   "cell_type": "code",
   "execution_count": 0,
   "metadata": {
    "colab": {},
    "colab_type": "code",
    "id": "1JldQviHaV58"
   },
   "outputs": [],
   "source": []
  },
  {
   "cell_type": "code",
   "execution_count": 0,
   "metadata": {
    "colab": {},
    "colab_type": "code",
    "id": "xJH5i4WpaV59"
   },
   "outputs": [],
   "source": []
  },
  {
   "cell_type": "code",
   "execution_count": 0,
   "metadata": {
    "colab": {},
    "colab_type": "code",
    "id": "fALYdeRDaV5_"
   },
   "outputs": [],
   "source": []
  },
  {
   "cell_type": "code",
   "execution_count": 0,
   "metadata": {
    "colab": {},
    "colab_type": "code",
    "id": "I3faQno4aV6B"
   },
   "outputs": [],
   "source": []
  },
  {
   "cell_type": "code",
   "execution_count": 0,
   "metadata": {
    "colab": {},
    "colab_type": "code",
    "id": "UE6diwcnaV6C"
   },
   "outputs": [],
   "source": []
  },
  {
   "cell_type": "markdown",
   "metadata": {
    "colab_type": "text",
    "id": "xOLTLDLaaV6F"
   },
   "source": [
    "\n",
    "\n",
    "## Fim :)"
   ]
  }
 ],
 "metadata": {
  "colab": {
   "name": "Copy of Lista1.ipynb",
   "provenance": [],
   "version": "0.3.2"
  },
  "kernelspec": {
   "display_name": "Python 3",
   "language": "python",
   "name": "python3"
  },
  "language_info": {
   "codemirror_mode": {
    "name": "ipython",
    "version": 3
   },
   "file_extension": ".py",
   "mimetype": "text/x-python",
   "name": "python",
   "nbconvert_exporter": "python",
   "pygments_lexer": "ipython3",
   "version": "3.7.1"
  }
 },
 "nbformat": 4,
 "nbformat_minor": 1
}
