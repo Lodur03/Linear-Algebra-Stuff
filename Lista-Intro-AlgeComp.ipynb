{
  "nbformat": 4,
  "nbformat_minor": 0,
  "metadata": {
    "colab": {
      "name": "Copy of Lista1.ipynb",
      "version": "0.3.2",
      "provenance": []
    },
    "kernelspec": {
      "display_name": "Python 3",
      "language": "python",
      "name": "python3"
    }
  },
  "cells": [
    {
      "metadata": {
        "id": "z36ZtJ_QaV2j",
        "colab_type": "text"
      },
      "cell_type": "markdown",
      "source": [
        "## Lista de Exercícios de Álgebra Computacional (resolvidos)\n"
      ]
    },
    {
      "metadata": {
        "id": "j_VKZ_iGaV2k",
        "colab_type": "code",
        "colab": {}
      },
      "cell_type": "code",
      "source": [
        "import numpy as np\n",
        "from sympy import *\n",
        "init_printing(use_unicode=True)"
      ],
      "execution_count": 0,
      "outputs": []
    },
    {
      "metadata": {
        "id": "xvy-3I4QaV2n",
        "colab_type": "text"
      },
      "cell_type": "markdown",
      "source": [
        "### **Exercício 1 -** Resolva por eliminação de Gauss o sistemas de equações lineares:"
      ]
    },
    {
      "metadata": {
        "id": "77jWD8a-aV2o",
        "colab_type": "code",
        "colab": {}
      },
      "cell_type": "code",
      "source": [
        "# Simbolos\n",
        "x, y, z, w = symbols('x y z w')"
      ],
      "execution_count": 0,
      "outputs": []
    },
    {
      "metadata": {
        "id": "36Z7fJ-RaV2q",
        "colab_type": "text"
      },
      "cell_type": "markdown",
      "source": [
        "#### a) x + 2y = 1, x + 3y = 0"
      ]
    },
    {
      "metadata": {
        "id": "KteQlwaaaV2q",
        "colab_type": "code",
        "colab": {}
      },
      "cell_type": "code",
      "source": [
        ""
      ],
      "execution_count": 0,
      "outputs": []
    },
    {
      "metadata": {
        "id": "k02jin7YaV2u",
        "colab_type": "text"
      },
      "cell_type": "markdown",
      "source": [
        "portanto, (x = 3, y = -1)"
      ]
    },
    {
      "metadata": {
        "id": "WBZT_s21aV2v",
        "colab_type": "text"
      },
      "cell_type": "markdown",
      "source": [
        "#### b)  2x + 3y = 1, 4x + 6y = 2"
      ]
    },
    {
      "metadata": {
        "id": "g7fR8kj9aV2w",
        "colab_type": "code",
        "colab": {}
      },
      "cell_type": "code",
      "source": [
        ""
      ],
      "execution_count": 0,
      "outputs": []
    },
    {
      "metadata": {
        "id": "b8wiX1MzaV2z",
        "colab_type": "text"
      },
      "cell_type": "markdown",
      "source": [
        "dessa forma, é um sistema possível e indeterminado. (x = y -3y/2 + 1/2, y= y)"
      ]
    },
    {
      "metadata": {
        "id": "prvcX1aPaV2z",
        "colab_type": "text"
      },
      "cell_type": "markdown",
      "source": [
        "#### c) 4x + 5y = 1, 12x + 15y = 0"
      ]
    },
    {
      "metadata": {
        "id": "P8ZHqcWdaV20",
        "colab_type": "code",
        "colab": {}
      },
      "cell_type": "code",
      "source": [
        ""
      ],
      "execution_count": 0,
      "outputs": []
    },
    {
      "metadata": {
        "id": "sIennshIaV23",
        "colab_type": "text"
      },
      "cell_type": "markdown",
      "source": [
        "desta forma, é um sistema impossível. (`0x + 0y != -3`)\n",
        "\n",
        "#### d) x + y = 1, 3x - y = 2, x - y = 0"
      ]
    },
    {
      "metadata": {
        "id": "0Djx0IIoaV23",
        "colab_type": "code",
        "colab": {}
      },
      "cell_type": "code",
      "source": [
        ""
      ],
      "execution_count": 0,
      "outputs": []
    },
    {
      "metadata": {
        "id": "pJdfebkxaV27",
        "colab_type": "text"
      },
      "cell_type": "markdown",
      "source": [
        "desta forma, é um sistema impossível. (`0x + 0y != 1`)\n",
        "\n",
        "#### e) 2x + 2y + 3z = 1, 1x + 2y + 1z = 0, 1x -1y + 1z = 0"
      ]
    },
    {
      "metadata": {
        "id": "ERHtORBraV28",
        "colab_type": "code",
        "colab": {}
      },
      "cell_type": "code",
      "source": [
        ""
      ],
      "execution_count": 0,
      "outputs": []
    },
    {
      "metadata": {
        "id": "Z3cVUmIiaV2_",
        "colab_type": "text"
      },
      "cell_type": "markdown",
      "source": [
        "desta forma, (x = -1, y = 0, z = 1)"
      ]
    },
    {
      "metadata": {
        "id": "Wd-jFmXzaV3B",
        "colab_type": "text"
      },
      "cell_type": "markdown",
      "source": [
        "#### f) x + 2y + 3z = 1, 4x + 7y + 7z = 3, 2x + 3y + z = 0"
      ]
    },
    {
      "metadata": {
        "id": "VZNQ9yvRaV3B",
        "colab_type": "code",
        "colab": {}
      },
      "cell_type": "code",
      "source": [
        ""
      ],
      "execution_count": 0,
      "outputs": []
    },
    {
      "metadata": {
        "id": "FoGmyGm-aV3E",
        "colab_type": "text"
      },
      "cell_type": "markdown",
      "source": [
        "desta forma, sistema impossível (`0x + 0y + 0z != 1`)\n",
        "\n",
        "#### g) x + 2y + z = 0, 4x + 10y + 10z = 0, x + 3y + 4z =0"
      ]
    },
    {
      "metadata": {
        "id": "dVdGxq6TaV3E",
        "colab_type": "code",
        "colab": {}
      },
      "cell_type": "code",
      "source": [
        ""
      ],
      "execution_count": 0,
      "outputs": []
    },
    {
      "metadata": {
        "id": "p5TYD09JaV3I",
        "colab_type": "text"
      },
      "cell_type": "markdown",
      "source": [
        "desta forma, sistema possivel e indeterminado. (x = 5z, y = -3z, z)\n",
        "\n",
        "#### h) 2x + 3y + z = 0, x + y + z = 0"
      ]
    },
    {
      "metadata": {
        "id": "S5XplyCraV3J",
        "colab_type": "code",
        "colab": {}
      },
      "cell_type": "code",
      "source": [
        ""
      ],
      "execution_count": 0,
      "outputs": []
    },
    {
      "metadata": {
        "id": "YHCgPmVFaV3M",
        "colab_type": "text"
      },
      "cell_type": "markdown",
      "source": [
        "desta forma, sistema possivel e indeterminado: (x = 2y, y= y, z = y)\n",
        "\n",
        "#### i) 2x1 + x2 + x3 + x4 = 1, 2x1 + x2 - x3 + x4 = 3 "
      ]
    },
    {
      "metadata": {
        "id": "Ibj8F_XBaV3N",
        "colab_type": "code",
        "colab": {}
      },
      "cell_type": "code",
      "source": [
        ""
      ],
      "execution_count": 0,
      "outputs": []
    },
    {
      "metadata": {
        "id": "H3x3MKAsaV3P",
        "colab_type": "text"
      },
      "cell_type": "markdown",
      "source": [
        "desta forma, sistema possivel e indeterminado. (x1 = [2-x2-x4]/2, x2= x2, x3 = -1, x4 = x4)\n",
        "\n",
        "#### j) 2x + 2y + 2z + 3w = 3, x + y + z + w = 1, 3x + 3y + 3z + 2w = 2"
      ]
    },
    {
      "metadata": {
        "id": "cN83Ll_gaV3Q",
        "colab_type": "code",
        "colab": {}
      },
      "cell_type": "code",
      "source": [
        ""
      ],
      "execution_count": 0,
      "outputs": []
    },
    {
      "metadata": {
        "id": "vOJgF9cPaV3S",
        "colab_type": "text"
      },
      "cell_type": "markdown",
      "source": [
        "desta forma, sistema possivel e indeterminado. (x=-z-y, y=y, z=z, w=1)\n",
        "\n",
        "#### k) x + z + 2w = 0, 2x + 3z + 3w = 0, y + 2w = 2, x + 2z + w = 0"
      ]
    },
    {
      "metadata": {
        "id": "QZfkCfA6aV3S",
        "colab_type": "code",
        "colab": {}
      },
      "cell_type": "code",
      "source": [
        ""
      ],
      "execution_count": 0,
      "outputs": []
    },
    {
      "metadata": {
        "id": "2-9VvvmQaV3V",
        "colab_type": "text"
      },
      "cell_type": "markdown",
      "source": [
        "desta forma, sistema possivel e intederminado (x-3z=,y=2-2z,z=z,w=z)\n",
        "\n",
        "#### l) y1 + y3 + 2y4 = 0, y1 + 2y2 + y3 + y4 = 1, y2 + 2y4 = 8, y1 + 2y3 + y4 = 0"
      ]
    },
    {
      "metadata": {
        "id": "Ro5GZoqyaV3W",
        "colab_type": "code",
        "colab": {}
      },
      "cell_type": "code",
      "source": [
        ""
      ],
      "execution_count": 0,
      "outputs": []
    },
    {
      "metadata": {
        "id": "-v9LzAXraV3c",
        "colab_type": "text"
      },
      "cell_type": "markdown",
      "source": [
        "desta forma, sistema possivel e determinado. (x = -9, y = 2, z = 3, w = 3)"
      ]
    },
    {
      "metadata": {
        "id": "wOqEQSaYaV3c",
        "colab_type": "text"
      },
      "cell_type": "markdown",
      "source": [
        "### **Exercício 2 -** Discuta em função dos parâmetros a e b, os seguintes sistemas de equações lineares:\n",
        "\n",
        "#### a) x + 4y + 3z = 10, 2x + 7y − 2z = 10, x + 5y + αz = β"
      ]
    },
    {
      "metadata": {
        "id": "GJqEmCndaV3d",
        "colab_type": "code",
        "colab": {}
      },
      "cell_type": "code",
      "source": [
        ""
      ],
      "execution_count": 0,
      "outputs": []
    },
    {
      "metadata": {
        "id": "69eeySBKaV3g",
        "colab_type": "text"
      },
      "cell_type": "markdown",
      "source": [
        "desta forma, se `a != 11`, o sistema é possível e determinado com a solução apresentada. \n",
        "\n",
        "Porém, se `a = 11` e `b = 20`, temos:"
      ]
    },
    {
      "metadata": {
        "id": "wpa_MKacaV3h",
        "colab_type": "code",
        "colab": {}
      },
      "cell_type": "code",
      "source": [
        ""
      ],
      "execution_count": 0,
      "outputs": []
    },
    {
      "metadata": {
        "id": "5-DSoKwoaV3j",
        "colab_type": "text"
      },
      "cell_type": "markdown",
      "source": [
        "um sistema indeterminado (*z* livre). E se `a = 11` e `b != 20`: "
      ]
    },
    {
      "metadata": {
        "id": "NgSadFjxaV3j",
        "colab_type": "code",
        "colab": {}
      },
      "cell_type": "code",
      "source": [
        ""
      ],
      "execution_count": 0,
      "outputs": []
    },
    {
      "metadata": {
        "id": "PlsAvv7QaV3l",
        "colab_type": "text"
      },
      "cell_type": "markdown",
      "source": [
        "neste caso o sistema seria impossível.\n",
        "\n",
        "#### b) 2x + y + z = −6β, αx + 3y + 2z = 2β, 2x + y + (α + 1) z = 4"
      ]
    },
    {
      "metadata": {
        "id": "vP52hfDNaV3m",
        "colab_type": "code",
        "colab": {}
      },
      "cell_type": "code",
      "source": [
        ""
      ],
      "execution_count": 0,
      "outputs": []
    },
    {
      "metadata": {
        "id": "DE6nhX4laV3p",
        "colab_type": "text"
      },
      "cell_type": "markdown",
      "source": [
        "desta forma, se `a != 6` e `a != 0`, o sistema é *possível e determinado* com a solução apresentada.\n",
        "\n",
        "Porém, seguindo a mesma lógica utilizada anteriormente,\n",
        "- se `a = 0` e `b = -2/3`, o sistema é *indeterminado*:"
      ]
    },
    {
      "metadata": {
        "id": "cq_K6ltAaV3p",
        "colab_type": "code",
        "colab": {}
      },
      "cell_type": "code",
      "source": [
        ""
      ],
      "execution_count": 0,
      "outputs": []
    },
    {
      "metadata": {
        "id": "uaFmP0n4aV3r",
        "colab_type": "text"
      },
      "cell_type": "markdown",
      "source": [
        "- se `a = 0` e `b != -2/3`, o sistema é *impossível*."
      ]
    },
    {
      "metadata": {
        "id": "xXq1O0UeaV3s",
        "colab_type": "code",
        "colab": {}
      },
      "cell_type": "code",
      "source": [
        ""
      ],
      "execution_count": 0,
      "outputs": []
    },
    {
      "metadata": {
        "id": "Vd_ovEzjaV3u",
        "colab_type": "text"
      },
      "cell_type": "markdown",
      "source": [
        "- se `a = 6` e `b = -2/63`, o sistema é *indeterminado*."
      ]
    },
    {
      "metadata": {
        "id": "hMVTUgE2aV3v",
        "colab_type": "code",
        "colab": {}
      },
      "cell_type": "code",
      "source": [
        ""
      ],
      "execution_count": 0,
      "outputs": []
    },
    {
      "metadata": {
        "id": "EQUWnfejaV34",
        "colab_type": "text"
      },
      "cell_type": "markdown",
      "source": [
        "- se `a = 6` e `b != -2/63`, o sistema é *impossível*."
      ]
    },
    {
      "metadata": {
        "id": "j9xIRwdSaV34",
        "colab_type": "code",
        "colab": {}
      },
      "cell_type": "code",
      "source": [
        ""
      ],
      "execution_count": 0,
      "outputs": []
    },
    {
      "metadata": {
        "id": "TLpsTeSMaV38",
        "colab_type": "text"
      },
      "cell_type": "markdown",
      "source": [
        "### **Exercício 3 -** Considere o sistema de equações lineares\n",
        "\n",
        "- x + y + 3z = b1\n",
        "- 2x + 2y − z = b2\n",
        "- 4x + 4y + 5z = b3\n",
        "\n",
        "e calcule os vectores (b1, b2, b3) ∈ R3 para os quais o sistema é possível."
      ]
    },
    {
      "metadata": {
        "id": "F4RUz584aV39",
        "colab_type": "code",
        "colab": {}
      },
      "cell_type": "code",
      "source": [
        ""
      ],
      "execution_count": 0,
      "outputs": []
    },
    {
      "metadata": {
        "id": "mGMK8XPXaV3_",
        "colab_type": "code",
        "colab": {}
      },
      "cell_type": "code",
      "source": [
        ""
      ],
      "execution_count": 0,
      "outputs": []
    },
    {
      "metadata": {
        "id": "lZXDuse2aV4B",
        "colab_type": "text"
      },
      "cell_type": "markdown",
      "source": [
        "portanto, -2b1 + b2 = -4b1 + b3 => **2b1 + b2 - b3 = 0**\n",
        "\n",
        "Para qualquer vetor (b1,b2,b3) que respeite \"2b1 + b2 + b3 = 0\", o sistema é possível."
      ]
    },
    {
      "metadata": {
        "id": "91BWfiepaV4C",
        "colab_type": "text"
      },
      "cell_type": "markdown",
      "source": [
        "### **Exercício 4 -** Determine um sistema de equações lineares cujo conjunto de soluções seja:\n",
        "\n",
        "#### a) S = {(1 + t, 1 − t) : t ∈ R};"
      ]
    },
    {
      "metadata": {
        "id": "GthDa_cfaV4C",
        "colab_type": "code",
        "colab": {}
      },
      "cell_type": "code",
      "source": [
        ""
      ],
      "execution_count": 0,
      "outputs": []
    },
    {
      "metadata": {
        "id": "9k0JTpdAaV4E",
        "colab_type": "text"
      },
      "cell_type": "markdown",
      "source": [
        "#### b) S = {(t, 1 − 2t, 1) : t ∈ R};"
      ]
    },
    {
      "metadata": {
        "id": "1hTN1NnuaV4F",
        "colab_type": "code",
        "colab": {}
      },
      "cell_type": "code",
      "source": [
        ""
      ],
      "execution_count": 0,
      "outputs": []
    },
    {
      "metadata": {
        "id": "SNfq-PO9aV4H",
        "colab_type": "text"
      },
      "cell_type": "markdown",
      "source": [
        "#### c) S = {(3t, 2t, t) : s, t ∈ R};"
      ]
    },
    {
      "metadata": {
        "id": "a1VS4MYXaV4I",
        "colab_type": "code",
        "colab": {}
      },
      "cell_type": "code",
      "source": [
        ""
      ],
      "execution_count": 0,
      "outputs": []
    },
    {
      "metadata": {
        "id": "-_FbhWDtaV4K",
        "colab_type": "text"
      },
      "cell_type": "markdown",
      "source": [
        "#### d) S = {(3t, 2s, t − 1) : s, t ∈ R};"
      ]
    },
    {
      "metadata": {
        "id": "S3XyW8pfaV4L",
        "colab_type": "code",
        "colab": {}
      },
      "cell_type": "code",
      "source": [
        ""
      ],
      "execution_count": 0,
      "outputs": []
    },
    {
      "metadata": {
        "id": "6m4pXsA8aV4M",
        "colab_type": "text"
      },
      "cell_type": "markdown",
      "source": [
        "#### e) S = {(1 − t, 2s, t) : s, t ∈ R};"
      ]
    },
    {
      "metadata": {
        "id": "WRZH1_pAaV4M",
        "colab_type": "code",
        "colab": {}
      },
      "cell_type": "code",
      "source": [
        ""
      ],
      "execution_count": 0,
      "outputs": []
    },
    {
      "metadata": {
        "id": "1ogYsf7laV4Q",
        "colab_type": "text"
      },
      "cell_type": "markdown",
      "source": [
        "### **Exercício 5 -** Sempre que possível calcule:\n",
        "\n",
        "#### a) 2[[1,0],[2,1]] + 3[[0,2],[6,1]]"
      ]
    },
    {
      "metadata": {
        "id": "iYtMQUdLaV4Q",
        "colab_type": "code",
        "colab": {}
      },
      "cell_type": "code",
      "source": [
        ""
      ],
      "execution_count": 0,
      "outputs": []
    },
    {
      "metadata": {
        "id": "Ah8lP1EJaV4T",
        "colab_type": "text"
      },
      "cell_type": "markdown",
      "source": [
        "#### b) [1,2] + [[0],[2]]"
      ]
    },
    {
      "metadata": {
        "id": "741kzipIaV4U",
        "colab_type": "code",
        "colab": {}
      },
      "cell_type": "code",
      "source": [
        ""
      ],
      "execution_count": 0,
      "outputs": []
    },
    {
      "metadata": {
        "id": "ppa5HhxmaV4X",
        "colab_type": "text"
      },
      "cell_type": "markdown",
      "source": [
        "Desta forma, não é possível, pois para a operação de adição suas dimensões devem ser iguais."
      ]
    },
    {
      "metadata": {
        "id": "7ge7LK_oaV4X",
        "colab_type": "text"
      },
      "cell_type": "markdown",
      "source": [
        "#### c) [[1,0],[0,1]] [[2],[3],[1]]"
      ]
    },
    {
      "metadata": {
        "id": "cH7weUOhaV4Y",
        "colab_type": "code",
        "colab": {}
      },
      "cell_type": "code",
      "source": [
        ""
      ],
      "execution_count": 0,
      "outputs": []
    },
    {
      "metadata": {
        "id": "KYd8PPzQaV4b",
        "colab_type": "text"
      },
      "cell_type": "markdown",
      "source": [
        "Não é possível, pois para multiplicação linhas do primeiro operando deve ser igual a coluna do segundo operando."
      ]
    },
    {
      "metadata": {
        "id": "hX3ZHYujaV4b",
        "colab_type": "text"
      },
      "cell_type": "markdown",
      "source": [
        "#### d) [[1,0,2]] [[2],[3],[1]]"
      ]
    },
    {
      "metadata": {
        "id": "E3LZ67uraV4c",
        "colab_type": "code",
        "colab": {}
      },
      "cell_type": "code",
      "source": [
        ""
      ],
      "execution_count": 0,
      "outputs": []
    },
    {
      "metadata": {
        "id": "AZtchQeSaV4e",
        "colab_type": "text"
      },
      "cell_type": "markdown",
      "source": [
        "#### e) [[1,0],[0,0]] [[0,1],[1,0]]"
      ]
    },
    {
      "metadata": {
        "id": "lJUuPtx8aV4g",
        "colab_type": "code",
        "colab": {}
      },
      "cell_type": "code",
      "source": [
        ""
      ],
      "execution_count": 0,
      "outputs": []
    },
    {
      "metadata": {
        "id": "ibX9mIL2aV4i",
        "colab_type": "text"
      },
      "cell_type": "markdown",
      "source": [
        "#### f) [[0,1],[1,0]] [[1,0],[0,0]]"
      ]
    },
    {
      "metadata": {
        "id": "T2zNBVNPaV4j",
        "colab_type": "code",
        "colab": {}
      },
      "cell_type": "code",
      "source": [
        ""
      ],
      "execution_count": 0,
      "outputs": []
    },
    {
      "metadata": {
        "id": "4nrorjzVaV4l",
        "colab_type": "text"
      },
      "cell_type": "markdown",
      "source": [
        "#### g) [[1,2],[3,1],[0,3]] [[1,0,1],[2,1,0]]"
      ]
    },
    {
      "metadata": {
        "id": "lb0gwknwaV4m",
        "colab_type": "code",
        "colab": {}
      },
      "cell_type": "code",
      "source": [
        ""
      ],
      "execution_count": 0,
      "outputs": []
    },
    {
      "metadata": {
        "id": "mfRm71oVaV4o",
        "colab_type": "text"
      },
      "cell_type": "markdown",
      "source": [
        "#### h) [[1,2,0], [3,1,1]] [[1,0,1],[0,1,0],[1,0,1]]"
      ]
    },
    {
      "metadata": {
        "id": "0qFhBlVOaV4o",
        "colab_type": "code",
        "colab": {}
      },
      "cell_type": "code",
      "source": [
        ""
      ],
      "execution_count": 0,
      "outputs": []
    },
    {
      "metadata": {
        "id": "kmJ_1dKGaV4q",
        "colab_type": "text"
      },
      "cell_type": "markdown",
      "source": [
        "#### i) [[1,0,0],[0,1,0],[0,0,1]] [[30,4],[2,10],[2,20]]"
      ]
    },
    {
      "metadata": {
        "id": "2k_kH_MXaV4q",
        "colab_type": "code",
        "colab": {}
      },
      "cell_type": "code",
      "source": [
        ""
      ],
      "execution_count": 0,
      "outputs": []
    },
    {
      "metadata": {
        "id": "JtDJ2q4QaV4s",
        "colab_type": "text"
      },
      "cell_type": "markdown",
      "source": [
        "#### j) [[0,0,1],[0,1,0],[1,0,0]] [[30,4],[2,10],[2,20]]"
      ]
    },
    {
      "metadata": {
        "id": "ztX3nX_aaV4s",
        "colab_type": "code",
        "colab": {}
      },
      "cell_type": "code",
      "source": [
        ""
      ],
      "execution_count": 0,
      "outputs": []
    },
    {
      "metadata": {
        "id": "l6TcEIWFaV4u",
        "colab_type": "text"
      },
      "cell_type": "markdown",
      "source": [
        "#### k) [[1,0,0],[0,1,0],[0,0,3]] [[30,4],[2,10],[2,20]]"
      ]
    },
    {
      "metadata": {
        "id": "GLhCN-sRaV4u",
        "colab_type": "code",
        "colab": {}
      },
      "cell_type": "code",
      "source": [
        ""
      ],
      "execution_count": 0,
      "outputs": []
    },
    {
      "metadata": {
        "id": "9vt_9t1GaV4x",
        "colab_type": "text"
      },
      "cell_type": "markdown",
      "source": [
        "#### l) [[1,0,0],[0,1,0],[2,0,1]] [[30,4],[2,10],[2,20]]"
      ]
    },
    {
      "metadata": {
        "id": "_gqPSSAzaV4x",
        "colab_type": "code",
        "colab": {}
      },
      "cell_type": "code",
      "source": [
        ""
      ],
      "execution_count": 0,
      "outputs": []
    },
    {
      "metadata": {
        "id": "A9RSsRw8aV4z",
        "colab_type": "text"
      },
      "cell_type": "markdown",
      "source": [
        "### **Exercício 6 -** Mostre que a inversa de uma matriz A ∈ Rn×n, quando existe, é única."
      ]
    },
    {
      "metadata": {
        "id": "v86gdT2aaV40",
        "colab_type": "text"
      },
      "cell_type": "markdown",
      "source": [
        ""
      ]
    },
    {
      "metadata": {
        "id": "ZbKILz5faV41",
        "colab_type": "text"
      },
      "cell_type": "markdown",
      "source": [
        "### **Exercício 7 -** Mostre que se as matrizes A e B ∈ Rn×n são invertíveis, então também AB é invertível, tendo-se ainda (AB)<sup>−1</sup> = B<sup>−1</sup>A<sup>−1</sup>."
      ]
    },
    {
      "metadata": {
        "id": "YEvmqYcraV42",
        "colab_type": "text"
      },
      "cell_type": "markdown",
      "source": [
        ""
      ]
    },
    {
      "metadata": {
        "id": "-_dAzMmgaV42",
        "colab_type": "text"
      },
      "cell_type": "markdown",
      "source": [
        "### **Exercício 8 -** Mostre que qualquer matriz invertível se pode decompor no produto de matrizes elementares."
      ]
    },
    {
      "metadata": {
        "id": "waJRp7H2aV42",
        "colab_type": "text"
      },
      "cell_type": "markdown",
      "source": [
        ""
      ]
    },
    {
      "metadata": {
        "id": "6SlMOUxFaV43",
        "colab_type": "text"
      },
      "cell_type": "markdown",
      "source": [
        "### **Exercício 9 -** Sempre que possível, calcule a inversa de cada uma das seguintes matrizes:"
      ]
    },
    {
      "metadata": {
        "id": "5fiqnFWhaV44",
        "colab_type": "text"
      },
      "cell_type": "markdown",
      "source": [
        "#### a) [[0,0],[0,0]]"
      ]
    },
    {
      "metadata": {
        "id": "-TgjM_GnaV45",
        "colab_type": "code",
        "colab": {}
      },
      "cell_type": "code",
      "source": [
        ""
      ],
      "execution_count": 0,
      "outputs": []
    },
    {
      "metadata": {
        "id": "SNP2HhubaV47",
        "colab_type": "text"
      },
      "cell_type": "markdown",
      "source": [
        ""
      ]
    },
    {
      "metadata": {
        "id": "PeWArfGKaV47",
        "colab_type": "text"
      },
      "cell_type": "markdown",
      "source": [
        "#### b) [[1,0],[0,1]]"
      ]
    },
    {
      "metadata": {
        "id": "vRhpmwtNaV48",
        "colab_type": "code",
        "colab": {}
      },
      "cell_type": "code",
      "source": [
        ""
      ],
      "execution_count": 0,
      "outputs": []
    },
    {
      "metadata": {
        "id": "rGAHfBnVaV49",
        "colab_type": "text"
      },
      "cell_type": "markdown",
      "source": [
        "#### c) [[1,2],[2,1]]"
      ]
    },
    {
      "metadata": {
        "id": "cn5Yc6Q8aV4-",
        "colab_type": "code",
        "colab": {}
      },
      "cell_type": "code",
      "source": [
        ""
      ],
      "execution_count": 0,
      "outputs": []
    },
    {
      "metadata": {
        "id": "ngI8GCuzaV5A",
        "colab_type": "text"
      },
      "cell_type": "markdown",
      "source": [
        "#### d) [[1,0,0],[1,1,0],[1,1,1]]"
      ]
    },
    {
      "metadata": {
        "id": "DJNN3fuYaV5A",
        "colab_type": "code",
        "colab": {}
      },
      "cell_type": "code",
      "source": [
        ""
      ],
      "execution_count": 0,
      "outputs": []
    },
    {
      "metadata": {
        "id": "YXbMHQ4YaV5D",
        "colab_type": "text"
      },
      "cell_type": "markdown",
      "source": [
        "#### e) [[1,-1,0],[1,1,-1],[0,1,1]]"
      ]
    },
    {
      "metadata": {
        "id": "Gv6I_mfLaV5E",
        "colab_type": "code",
        "colab": {}
      },
      "cell_type": "code",
      "source": [
        ""
      ],
      "execution_count": 0,
      "outputs": []
    },
    {
      "metadata": {
        "id": "Ywf3uRiWaV5F",
        "colab_type": "text"
      },
      "cell_type": "markdown",
      "source": [
        "#### f) [[1,0,1],[0,1,0],[3,3,3]]"
      ]
    },
    {
      "metadata": {
        "id": "3wXnLqZyaV5G",
        "colab_type": "code",
        "colab": {}
      },
      "cell_type": "code",
      "source": [
        ""
      ],
      "execution_count": 0,
      "outputs": []
    },
    {
      "metadata": {
        "id": "Ol8t1Z5zaV5J",
        "colab_type": "text"
      },
      "cell_type": "markdown",
      "source": [
        ""
      ]
    },
    {
      "metadata": {
        "id": "8hr_EukVaV5J",
        "colab_type": "text"
      },
      "cell_type": "markdown",
      "source": [
        "#### g) [[1,2,3,4],[0,1,2,3],[0,0,1,2],[0,0,0,1]]"
      ]
    },
    {
      "metadata": {
        "id": "2TxfwBGFaV5J",
        "colab_type": "code",
        "colab": {}
      },
      "cell_type": "code",
      "source": [
        ""
      ],
      "execution_count": 0,
      "outputs": []
    },
    {
      "metadata": {
        "id": "iy_95w0LaV5L",
        "colab_type": "text"
      },
      "cell_type": "markdown",
      "source": [
        "#### h) [[1,0,1,0],[0,1,0,1],[1,0,2,1],[1,-1,1,0]]"
      ]
    },
    {
      "metadata": {
        "id": "NEfOZeI5aV5L",
        "colab_type": "code",
        "colab": {}
      },
      "cell_type": "code",
      "source": [
        ""
      ],
      "execution_count": 0,
      "outputs": []
    },
    {
      "metadata": {
        "id": "2EnnvwbYaV5N",
        "colab_type": "text"
      },
      "cell_type": "markdown",
      "source": [
        "### **Exercício 10 -** Utilizando o exercício anterior, Resolva os sistemas de equações lineares:"
      ]
    },
    {
      "metadata": {
        "id": "Qw7YAGlFaV5O",
        "colab_type": "text"
      },
      "cell_type": "markdown",
      "source": [
        "#### a)\n",
        "- x − y = 0\n",
        "- x + y − z = 1\n",
        "- y + z = −1\n",
        "\n",
        "Como Ax = b <=> x = A<sup>-1</sup> b, podemos usar a inversa ja calculada para obter o resultado."
      ]
    },
    {
      "metadata": {
        "id": "Ecaj3ZbQaV5O",
        "colab_type": "code",
        "colab": {}
      },
      "cell_type": "code",
      "source": [
        ""
      ],
      "execution_count": 0,
      "outputs": []
    },
    {
      "metadata": {
        "id": "BWiDs-UxaV5Q",
        "colab_type": "text"
      },
      "cell_type": "markdown",
      "source": [
        "#### b)\n",
        "- x + z = 1\n",
        "- y + w = 1\n",
        "- x + 2z + w = −1\n",
        "- x − y + z = 1\n",
        "\n"
      ]
    },
    {
      "metadata": {
        "id": "Xd01Ptt5aV5Q",
        "colab_type": "code",
        "colab": {}
      },
      "cell_type": "code",
      "source": [
        ""
      ],
      "execution_count": 0,
      "outputs": []
    },
    {
      "metadata": {
        "id": "LeGC48dAaV5T",
        "colab_type": "text"
      },
      "cell_type": "markdown",
      "source": [
        "### **Exercício 11 -** Calcule o determinante de cada uma das seguintes matrizes e indique as que são invertíveis\n",
        "\n",
        "#### a) [[1,2],[2,1]]"
      ]
    },
    {
      "metadata": {
        "id": "aXpsPjIiaV5U",
        "colab_type": "code",
        "colab": {}
      },
      "cell_type": "code",
      "source": [
        ""
      ],
      "execution_count": 0,
      "outputs": []
    },
    {
      "metadata": {
        "id": "zdrHVYGWaV5X",
        "colab_type": "text"
      },
      "cell_type": "markdown",
      "source": [
        ""
      ]
    },
    {
      "metadata": {
        "id": "IBOSABKFaV5X",
        "colab_type": "text"
      },
      "cell_type": "markdown",
      "source": [
        "#### b) [[1,1],[1,1]]"
      ]
    },
    {
      "metadata": {
        "id": "8kbl5vuAaV5Y",
        "colab_type": "code",
        "colab": {}
      },
      "cell_type": "code",
      "source": [
        ""
      ],
      "execution_count": 0,
      "outputs": []
    },
    {
      "metadata": {
        "id": "5T99Xc5XaV5b",
        "colab_type": "text"
      },
      "cell_type": "markdown",
      "source": [
        ""
      ]
    },
    {
      "metadata": {
        "id": "HQx3s_wdaV5b",
        "colab_type": "text"
      },
      "cell_type": "markdown",
      "source": [
        "#### c) [[1,0,3],[0,3,1],[0,0,3]]"
      ]
    },
    {
      "metadata": {
        "id": "uuCvKbnGaV5b",
        "colab_type": "code",
        "colab": {}
      },
      "cell_type": "code",
      "source": [
        ""
      ],
      "execution_count": 0,
      "outputs": []
    },
    {
      "metadata": {
        "id": "TO5Z30GsaV5b",
        "colab_type": "text"
      },
      "cell_type": "markdown",
      "source": [
        ""
      ]
    },
    {
      "metadata": {
        "id": "sxDKcMR5aV5c",
        "colab_type": "text"
      },
      "cell_type": "markdown",
      "source": [
        "\n",
        "#### d) [[1,0,0],[1,1,0],[1,1,1]]\n"
      ]
    },
    {
      "metadata": {
        "id": "OpKF001MaV5d",
        "colab_type": "code",
        "colab": {}
      },
      "cell_type": "code",
      "source": [
        ""
      ],
      "execution_count": 0,
      "outputs": []
    },
    {
      "metadata": {
        "id": "4fniF6QgaV5e",
        "colab_type": "text"
      },
      "cell_type": "markdown",
      "source": [
        ""
      ]
    },
    {
      "metadata": {
        "id": "foyy51SOaV5f",
        "colab_type": "text"
      },
      "cell_type": "markdown",
      "source": [
        "#### e) [[3,0,0],[0,1,-2],[0,5,0]]\n"
      ]
    },
    {
      "metadata": {
        "id": "CngvER4VaV5f",
        "colab_type": "code",
        "colab": {}
      },
      "cell_type": "code",
      "source": [
        ""
      ],
      "execution_count": 0,
      "outputs": []
    },
    {
      "metadata": {
        "id": "E4BHVTptaV5i",
        "colab_type": "text"
      },
      "cell_type": "markdown",
      "source": [
        ""
      ]
    },
    {
      "metadata": {
        "id": "QYAP9mA7aV5j",
        "colab_type": "text"
      },
      "cell_type": "markdown",
      "source": [
        "#### f) [[1,-1,1],[1,1,3],[0,1,1]]\n"
      ]
    },
    {
      "metadata": {
        "id": "rkU3jj5JaV5j",
        "colab_type": "code",
        "colab": {}
      },
      "cell_type": "code",
      "source": [
        ""
      ],
      "execution_count": 0,
      "outputs": []
    },
    {
      "metadata": {
        "id": "-ga810SvaV5l",
        "colab_type": "text"
      },
      "cell_type": "markdown",
      "source": [
        ""
      ]
    },
    {
      "metadata": {
        "id": "2VDZYTvKaV5m",
        "colab_type": "text"
      },
      "cell_type": "markdown",
      "source": [
        "#### g) [[1,12,22,31],[0,3,11,16],[0,0,1,10],[0,0,0,1]]\n"
      ]
    },
    {
      "metadata": {
        "id": "kjxHUUIsaV5m",
        "colab_type": "code",
        "colab": {}
      },
      "cell_type": "code",
      "source": [
        ""
      ],
      "execution_count": 0,
      "outputs": []
    },
    {
      "metadata": {
        "id": "nmaPn0HpaV5m",
        "colab_type": "text"
      },
      "cell_type": "markdown",
      "source": [
        ""
      ]
    },
    {
      "metadata": {
        "id": "2HSGRAHPaV5m",
        "colab_type": "text"
      },
      "cell_type": "markdown",
      "source": [
        "#### h) [[1,0,0,3],[1,1,0,3],[0,3,1,1],[0,2,2,2]]"
      ]
    },
    {
      "metadata": {
        "id": "pRyLxb89aV5n",
        "colab_type": "code",
        "colab": {}
      },
      "cell_type": "code",
      "source": [
        ""
      ],
      "execution_count": 0,
      "outputs": []
    },
    {
      "metadata": {
        "id": "6XcUnGlmaV5p",
        "colab_type": "text"
      },
      "cell_type": "markdown",
      "source": [
        ""
      ]
    },
    {
      "metadata": {
        "id": "zGCEvfqgaV5p",
        "colab_type": "text"
      },
      "cell_type": "markdown",
      "source": [
        "#### i) [[1,0,0,2],[0,1,2,3],[0,2,1,2],[3,3,0,1]]"
      ]
    },
    {
      "metadata": {
        "id": "IaRfElykaV5p",
        "colab_type": "code",
        "colab": {}
      },
      "cell_type": "code",
      "source": [
        ""
      ],
      "execution_count": 0,
      "outputs": []
    },
    {
      "metadata": {
        "id": "AmGeX-hyaV5u",
        "colab_type": "text"
      },
      "cell_type": "markdown",
      "source": [
        ""
      ]
    },
    {
      "metadata": {
        "id": "LjTfJRSLaV5v",
        "colab_type": "text"
      },
      "cell_type": "markdown",
      "source": [
        "### **Exercício 12 -** Sabendo que `det([[a,b,c],[d,e,f],[g,h,i]]) = 5`, calcule os determinantes:\n",
        "\n",
        "#### a) [[d,e,f],[g,h,i],[a,b,c]]\n",
        "\n",
        "\n",
        "#### b) [[-a,-b,-c],[2d, 2e, 2f],[-g,-h,-i]]\n",
        "\n",
        "\n",
        "#### c) [[a+d, b+e, c+f],[d,e,f],[g,h,i]]\n",
        "\n",
        "\n",
        "#### d) [[a,b,c], [d-3a, e-3b, f-3c], [2g, 2h, 2i]]\n",
        "\n"
      ]
    },
    {
      "metadata": {
        "id": "wx99n9pdaV5v",
        "colab_type": "text"
      },
      "cell_type": "markdown",
      "source": [
        "### **Exercício 13 -** Sabendo que os valores reais γ e δ são tais que `det([[1,2,γ],[δ,1,1],[1,γ+δ,2]) = 1` calcule `det([[1,2,γ],[δ,δγ+δ<sup>2</sup>, 2δ],[δγ,γ,γ]])`"
      ]
    },
    {
      "metadata": {
        "id": "yXzdJKiwaV5w",
        "colab_type": "text"
      },
      "cell_type": "markdown",
      "source": [
        ""
      ]
    },
    {
      "metadata": {
        "id": "T0q7_X0ZaV5x",
        "colab_type": "text"
      },
      "cell_type": "markdown",
      "source": [
        "### **Exercício 14 -** Considere as Matrizes A e B"
      ]
    },
    {
      "metadata": {
        "id": "7N5CMWPfaV5x",
        "colab_type": "code",
        "colab": {}
      },
      "cell_type": "code",
      "source": [
        "A = Matrix([[1,0,1],[0,1,5],[3,0,1]])\n",
        "B = Matrix([[2,2,2],[0,2,2],[1,1,2]])"
      ],
      "execution_count": 0,
      "outputs": []
    },
    {
      "metadata": {
        "id": "GsyoS2b_aV5y",
        "colab_type": "text"
      },
      "cell_type": "markdown",
      "source": [
        "#### a) det(3A)"
      ]
    },
    {
      "metadata": {
        "id": "AxE2mm2QaV5y",
        "colab_type": "code",
        "colab": {}
      },
      "cell_type": "code",
      "source": [
        ""
      ],
      "execution_count": 0,
      "outputs": []
    },
    {
      "metadata": {
        "id": "m3xUJaVOaV50",
        "colab_type": "text"
      },
      "cell_type": "markdown",
      "source": [
        "#### b) det(A<sup>3</sup>B<sup>2</sup>)"
      ]
    },
    {
      "metadata": {
        "id": "2UPeem-caV50",
        "colab_type": "code",
        "colab": {}
      },
      "cell_type": "code",
      "source": [
        ""
      ],
      "execution_count": 0,
      "outputs": []
    },
    {
      "metadata": {
        "id": "Y4g7iXadaV51",
        "colab_type": "text"
      },
      "cell_type": "markdown",
      "source": [
        "#### c) det(A<sup>-1</sup>B<sup>T</sup>)"
      ]
    },
    {
      "metadata": {
        "id": "ytMfhBVqaV51",
        "colab_type": "code",
        "colab": {}
      },
      "cell_type": "code",
      "source": [
        ""
      ],
      "execution_count": 0,
      "outputs": []
    },
    {
      "metadata": {
        "id": "19Gtwzi2aV54",
        "colab_type": "text"
      },
      "cell_type": "markdown",
      "source": [
        "#### d) det(A<sup>4</sup>B<sup>-2</sup>)"
      ]
    },
    {
      "metadata": {
        "id": "KWdwPZzIaV54",
        "colab_type": "code",
        "colab": {}
      },
      "cell_type": "code",
      "source": [
        ""
      ],
      "execution_count": 0,
      "outputs": []
    },
    {
      "metadata": {
        "id": "ijS_A-xEaV55",
        "colab_type": "text"
      },
      "cell_type": "markdown",
      "source": [
        "### **Exercício 15 -** Mostre que\n",
        "\n",
        "det([[λ, 1,1,1,1,1],\n",
        "[λ λ +1 2 2 2 2],\n",
        "[λ, λ, + 1, λ +2, 3, 3, 3],\n",
        "[λ, λ + 1, λ + 2, λ +3, 4, 4],\n",
        "[λ, λ + 1, λ + 2, λ + 3, λ +4, 5],\n",
        "[λ, λ + 1, λ + 2, λ + 3, λ + 4, λ + 5]])= λ6"
      ]
    },
    {
      "metadata": {
        "id": "Mp39z6RQaV56",
        "colab_type": "code",
        "colab": {}
      },
      "cell_type": "code",
      "source": [
        ""
      ],
      "execution_count": 0,
      "outputs": []
    },
    {
      "metadata": {
        "id": "L7xCZYWeaV58",
        "colab_type": "text"
      },
      "cell_type": "markdown",
      "source": [
        "### **Exercício 16 -** Calcule o determinante da matriz\n",
        "\n",
        "B =\n",
        "\n",
        "λ, λ, λ, ... λ\n",
        "\n",
        "1, λ +1, 1, ... 1\n",
        "\n",
        "1, 1, λ + 1, ... 1 \n",
        "\n",
        "...\n",
        "\n",
        "1, 1, 1, 1, λ + 1\n",
        "\n",
        "**Resolução:** "
      ]
    },
    {
      "metadata": {
        "id": "l_eb6LbmaV58",
        "colab_type": "text"
      },
      "cell_type": "markdown",
      "source": [
        "### **Exercício 17 -** Mostre que det([[1,1,1],[λ<sub>1</sub>, λ<sub>2</sub>, λ<sub>3</sub>],[λ<sub>1</sub><sup>2</sup>, λ<sub>2</sub><sup>2</sup>, λ<sub>3</sub><sup>2</sup>]]) = (λ<sub>3</sub> - λ<sub>2</sub>)(λ<sub>3</sub> - λ<sub>1</sub>)(λ<sub>2</sub> - λ<sub>1</sub>)"
      ]
    },
    {
      "metadata": {
        "id": "ICZv3eL6aV58",
        "colab_type": "text"
      },
      "cell_type": "markdown",
      "source": [
        "#### Trocando λ<sub>1</sub>, λ<sub>2</sub>, λ<sub>3</sub> por a1, b1, c1"
      ]
    },
    {
      "metadata": {
        "id": "1JldQviHaV58",
        "colab_type": "code",
        "colab": {}
      },
      "cell_type": "code",
      "source": [
        ""
      ],
      "execution_count": 0,
      "outputs": []
    },
    {
      "metadata": {
        "id": "xJH5i4WpaV59",
        "colab_type": "code",
        "colab": {}
      },
      "cell_type": "code",
      "source": [
        ""
      ],
      "execution_count": 0,
      "outputs": []
    },
    {
      "metadata": {
        "id": "fALYdeRDaV5_",
        "colab_type": "code",
        "colab": {}
      },
      "cell_type": "code",
      "source": [
        ""
      ],
      "execution_count": 0,
      "outputs": []
    },
    {
      "metadata": {
        "id": "I3faQno4aV6B",
        "colab_type": "code",
        "colab": {}
      },
      "cell_type": "code",
      "source": [
        ""
      ],
      "execution_count": 0,
      "outputs": []
    },
    {
      "metadata": {
        "id": "UE6diwcnaV6C",
        "colab_type": "code",
        "colab": {}
      },
      "cell_type": "code",
      "source": [
        ""
      ],
      "execution_count": 0,
      "outputs": []
    },
    {
      "metadata": {
        "id": "xOLTLDLaaV6F",
        "colab_type": "text"
      },
      "cell_type": "markdown",
      "source": [
        "\n",
        "\n",
        "## Fim :)"
      ]
    }
  ]
}